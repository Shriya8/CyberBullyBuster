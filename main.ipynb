{
  "cells": [
    {
      "cell_type": "markdown",
      "metadata": {
        "id": "view-in-github",
        "colab_type": "text"
      },
      "source": [
        "<a href=\"https://colab.research.google.com/github/Shriya8/CyberBullyBuster/blob/main/main.ipynb\" target=\"_parent\"><img src=\"https://colab.research.google.com/assets/colab-badge.svg\" alt=\"Open In Colab\"/></a>"
      ]
    },
    {
      "cell_type": "code",
      "execution_count": 97,
      "metadata": {
        "id": "mruEiiSohoYJ"
      },
      "outputs": [],
      "source": [
        "import numpy as np\n",
        "import pandas as pd\n",
        "import os\n"
      ]
    },
    {
      "cell_type": "code",
      "execution_count": 98,
      "metadata": {
        "colab": {
          "base_uri": "https://localhost:8080/"
        },
        "id": "cv8NRXXHlYd8",
        "outputId": "71c3e61c-0db4-4665-8ca3-9b311daf838c"
      },
      "outputs": [
        {
          "output_type": "stream",
          "name": "stdout",
          "text": [
            "Drive already mounted at /content/drive; to attempt to forcibly remount, call drive.mount(\"/content/drive\", force_remount=True).\n"
          ]
        }
      ],
      "source": [
        "from google.colab import drive\n",
        "drive.mount('/content/drive')"
      ]
    },
    {
      "cell_type": "code",
      "execution_count": 99,
      "metadata": {
        "id": "kxv8ivTqlq3i"
      },
      "outputs": [],
      "source": [
        "os.chdir(\"/content/drive/MyDrive/Shriya Char/Project/Code\")"
      ]
    },
    {
      "cell_type": "code",
      "execution_count": 100,
      "metadata": {
        "colab": {
          "base_uri": "https://localhost:8080/",
          "height": 424
        },
        "id": "v0hU_Zqjml9U",
        "outputId": "1a499032-5963-45fe-c8e5-8c4e54371a40"
      },
      "outputs": [
        {
          "output_type": "execute_result",
          "data": {
            "text/plain": [
              "                                              tweet_text cyberbullying_type\n",
              "0      In other words #katandandre, your food was cra...  not_cyberbullying\n",
              "1      Why is #aussietv so white? #MKR #theblock #ImA...  not_cyberbullying\n",
              "2      @XochitlSuckkks a classy whore? Or more red ve...  not_cyberbullying\n",
              "3      @Jason_Gio meh. :P  thanks for the heads up, b...  not_cyberbullying\n",
              "4      @RudhoeEnglish This is an ISIS account pretend...  not_cyberbullying\n",
              "...                                                  ...                ...\n",
              "47687  Black ppl aren't expected to do anything, depe...          ethnicity\n",
              "47688  Turner did not withhold his disappointment. Tu...          ethnicity\n",
              "47689  I swear to God. This dumb nigger bitch. I have...          ethnicity\n",
              "47690  Yea fuck you RT @therealexel: IF YOURE A NIGGE...          ethnicity\n",
              "47691  Bro. U gotta chill RT @CHILLShrammy: Dog FUCK ...          ethnicity\n",
              "\n",
              "[47692 rows x 2 columns]"
            ],
            "text/html": [
              "\n",
              "  <div id=\"df-f4354918-93a6-4ac0-bf98-b505dbf5391c\" class=\"colab-df-container\">\n",
              "    <div>\n",
              "<style scoped>\n",
              "    .dataframe tbody tr th:only-of-type {\n",
              "        vertical-align: middle;\n",
              "    }\n",
              "\n",
              "    .dataframe tbody tr th {\n",
              "        vertical-align: top;\n",
              "    }\n",
              "\n",
              "    .dataframe thead th {\n",
              "        text-align: right;\n",
              "    }\n",
              "</style>\n",
              "<table border=\"1\" class=\"dataframe\">\n",
              "  <thead>\n",
              "    <tr style=\"text-align: right;\">\n",
              "      <th></th>\n",
              "      <th>tweet_text</th>\n",
              "      <th>cyberbullying_type</th>\n",
              "    </tr>\n",
              "  </thead>\n",
              "  <tbody>\n",
              "    <tr>\n",
              "      <th>0</th>\n",
              "      <td>In other words #katandandre, your food was cra...</td>\n",
              "      <td>not_cyberbullying</td>\n",
              "    </tr>\n",
              "    <tr>\n",
              "      <th>1</th>\n",
              "      <td>Why is #aussietv so white? #MKR #theblock #ImA...</td>\n",
              "      <td>not_cyberbullying</td>\n",
              "    </tr>\n",
              "    <tr>\n",
              "      <th>2</th>\n",
              "      <td>@XochitlSuckkks a classy whore? Or more red ve...</td>\n",
              "      <td>not_cyberbullying</td>\n",
              "    </tr>\n",
              "    <tr>\n",
              "      <th>3</th>\n",
              "      <td>@Jason_Gio meh. :P  thanks for the heads up, b...</td>\n",
              "      <td>not_cyberbullying</td>\n",
              "    </tr>\n",
              "    <tr>\n",
              "      <th>4</th>\n",
              "      <td>@RudhoeEnglish This is an ISIS account pretend...</td>\n",
              "      <td>not_cyberbullying</td>\n",
              "    </tr>\n",
              "    <tr>\n",
              "      <th>...</th>\n",
              "      <td>...</td>\n",
              "      <td>...</td>\n",
              "    </tr>\n",
              "    <tr>\n",
              "      <th>47687</th>\n",
              "      <td>Black ppl aren't expected to do anything, depe...</td>\n",
              "      <td>ethnicity</td>\n",
              "    </tr>\n",
              "    <tr>\n",
              "      <th>47688</th>\n",
              "      <td>Turner did not withhold his disappointment. Tu...</td>\n",
              "      <td>ethnicity</td>\n",
              "    </tr>\n",
              "    <tr>\n",
              "      <th>47689</th>\n",
              "      <td>I swear to God. This dumb nigger bitch. I have...</td>\n",
              "      <td>ethnicity</td>\n",
              "    </tr>\n",
              "    <tr>\n",
              "      <th>47690</th>\n",
              "      <td>Yea fuck you RT @therealexel: IF YOURE A NIGGE...</td>\n",
              "      <td>ethnicity</td>\n",
              "    </tr>\n",
              "    <tr>\n",
              "      <th>47691</th>\n",
              "      <td>Bro. U gotta chill RT @CHILLShrammy: Dog FUCK ...</td>\n",
              "      <td>ethnicity</td>\n",
              "    </tr>\n",
              "  </tbody>\n",
              "</table>\n",
              "<p>47692 rows × 2 columns</p>\n",
              "</div>\n",
              "    <div class=\"colab-df-buttons\">\n",
              "\n",
              "  <div class=\"colab-df-container\">\n",
              "    <button class=\"colab-df-convert\" onclick=\"convertToInteractive('df-f4354918-93a6-4ac0-bf98-b505dbf5391c')\"\n",
              "            title=\"Convert this dataframe to an interactive table.\"\n",
              "            style=\"display:none;\">\n",
              "\n",
              "  <svg xmlns=\"http://www.w3.org/2000/svg\" height=\"24px\" viewBox=\"0 -960 960 960\">\n",
              "    <path d=\"M120-120v-720h720v720H120Zm60-500h600v-160H180v160Zm220 220h160v-160H400v160Zm0 220h160v-160H400v160ZM180-400h160v-160H180v160Zm440 0h160v-160H620v160ZM180-180h160v-160H180v160Zm440 0h160v-160H620v160Z\"/>\n",
              "  </svg>\n",
              "    </button>\n",
              "\n",
              "  <style>\n",
              "    .colab-df-container {\n",
              "      display:flex;\n",
              "      gap: 12px;\n",
              "    }\n",
              "\n",
              "    .colab-df-convert {\n",
              "      background-color: #E8F0FE;\n",
              "      border: none;\n",
              "      border-radius: 50%;\n",
              "      cursor: pointer;\n",
              "      display: none;\n",
              "      fill: #1967D2;\n",
              "      height: 32px;\n",
              "      padding: 0 0 0 0;\n",
              "      width: 32px;\n",
              "    }\n",
              "\n",
              "    .colab-df-convert:hover {\n",
              "      background-color: #E2EBFA;\n",
              "      box-shadow: 0px 1px 2px rgba(60, 64, 67, 0.3), 0px 1px 3px 1px rgba(60, 64, 67, 0.15);\n",
              "      fill: #174EA6;\n",
              "    }\n",
              "\n",
              "    .colab-df-buttons div {\n",
              "      margin-bottom: 4px;\n",
              "    }\n",
              "\n",
              "    [theme=dark] .colab-df-convert {\n",
              "      background-color: #3B4455;\n",
              "      fill: #D2E3FC;\n",
              "    }\n",
              "\n",
              "    [theme=dark] .colab-df-convert:hover {\n",
              "      background-color: #434B5C;\n",
              "      box-shadow: 0px 1px 3px 1px rgba(0, 0, 0, 0.15);\n",
              "      filter: drop-shadow(0px 1px 2px rgba(0, 0, 0, 0.3));\n",
              "      fill: #FFFFFF;\n",
              "    }\n",
              "  </style>\n",
              "\n",
              "    <script>\n",
              "      const buttonEl =\n",
              "        document.querySelector('#df-f4354918-93a6-4ac0-bf98-b505dbf5391c button.colab-df-convert');\n",
              "      buttonEl.style.display =\n",
              "        google.colab.kernel.accessAllowed ? 'block' : 'none';\n",
              "\n",
              "      async function convertToInteractive(key) {\n",
              "        const element = document.querySelector('#df-f4354918-93a6-4ac0-bf98-b505dbf5391c');\n",
              "        const dataTable =\n",
              "          await google.colab.kernel.invokeFunction('convertToInteractive',\n",
              "                                                    [key], {});\n",
              "        if (!dataTable) return;\n",
              "\n",
              "        const docLinkHtml = 'Like what you see? Visit the ' +\n",
              "          '<a target=\"_blank\" href=https://colab.research.google.com/notebooks/data_table.ipynb>data table notebook</a>'\n",
              "          + ' to learn more about interactive tables.';\n",
              "        element.innerHTML = '';\n",
              "        dataTable['output_type'] = 'display_data';\n",
              "        await google.colab.output.renderOutput(dataTable, element);\n",
              "        const docLink = document.createElement('div');\n",
              "        docLink.innerHTML = docLinkHtml;\n",
              "        element.appendChild(docLink);\n",
              "      }\n",
              "    </script>\n",
              "  </div>\n",
              "\n",
              "\n",
              "<div id=\"df-4f9abcbb-7bef-4846-8d50-4937cd8a23a4\">\n",
              "  <button class=\"colab-df-quickchart\" onclick=\"quickchart('df-4f9abcbb-7bef-4846-8d50-4937cd8a23a4')\"\n",
              "            title=\"Suggest charts.\"\n",
              "            style=\"display:none;\">\n",
              "\n",
              "<svg xmlns=\"http://www.w3.org/2000/svg\" height=\"24px\"viewBox=\"0 0 24 24\"\n",
              "     width=\"24px\">\n",
              "    <g>\n",
              "        <path d=\"M19 3H5c-1.1 0-2 .9-2 2v14c0 1.1.9 2 2 2h14c1.1 0 2-.9 2-2V5c0-1.1-.9-2-2-2zM9 17H7v-7h2v7zm4 0h-2V7h2v10zm4 0h-2v-4h2v4z\"/>\n",
              "    </g>\n",
              "</svg>\n",
              "  </button>\n",
              "\n",
              "<style>\n",
              "  .colab-df-quickchart {\n",
              "      --bg-color: #E8F0FE;\n",
              "      --fill-color: #1967D2;\n",
              "      --hover-bg-color: #E2EBFA;\n",
              "      --hover-fill-color: #174EA6;\n",
              "      --disabled-fill-color: #AAA;\n",
              "      --disabled-bg-color: #DDD;\n",
              "  }\n",
              "\n",
              "  [theme=dark] .colab-df-quickchart {\n",
              "      --bg-color: #3B4455;\n",
              "      --fill-color: #D2E3FC;\n",
              "      --hover-bg-color: #434B5C;\n",
              "      --hover-fill-color: #FFFFFF;\n",
              "      --disabled-bg-color: #3B4455;\n",
              "      --disabled-fill-color: #666;\n",
              "  }\n",
              "\n",
              "  .colab-df-quickchart {\n",
              "    background-color: var(--bg-color);\n",
              "    border: none;\n",
              "    border-radius: 50%;\n",
              "    cursor: pointer;\n",
              "    display: none;\n",
              "    fill: var(--fill-color);\n",
              "    height: 32px;\n",
              "    padding: 0;\n",
              "    width: 32px;\n",
              "  }\n",
              "\n",
              "  .colab-df-quickchart:hover {\n",
              "    background-color: var(--hover-bg-color);\n",
              "    box-shadow: 0 1px 2px rgba(60, 64, 67, 0.3), 0 1px 3px 1px rgba(60, 64, 67, 0.15);\n",
              "    fill: var(--button-hover-fill-color);\n",
              "  }\n",
              "\n",
              "  .colab-df-quickchart-complete:disabled,\n",
              "  .colab-df-quickchart-complete:disabled:hover {\n",
              "    background-color: var(--disabled-bg-color);\n",
              "    fill: var(--disabled-fill-color);\n",
              "    box-shadow: none;\n",
              "  }\n",
              "\n",
              "  .colab-df-spinner {\n",
              "    border: 2px solid var(--fill-color);\n",
              "    border-color: transparent;\n",
              "    border-bottom-color: var(--fill-color);\n",
              "    animation:\n",
              "      spin 1s steps(1) infinite;\n",
              "  }\n",
              "\n",
              "  @keyframes spin {\n",
              "    0% {\n",
              "      border-color: transparent;\n",
              "      border-bottom-color: var(--fill-color);\n",
              "      border-left-color: var(--fill-color);\n",
              "    }\n",
              "    20% {\n",
              "      border-color: transparent;\n",
              "      border-left-color: var(--fill-color);\n",
              "      border-top-color: var(--fill-color);\n",
              "    }\n",
              "    30% {\n",
              "      border-color: transparent;\n",
              "      border-left-color: var(--fill-color);\n",
              "      border-top-color: var(--fill-color);\n",
              "      border-right-color: var(--fill-color);\n",
              "    }\n",
              "    40% {\n",
              "      border-color: transparent;\n",
              "      border-right-color: var(--fill-color);\n",
              "      border-top-color: var(--fill-color);\n",
              "    }\n",
              "    60% {\n",
              "      border-color: transparent;\n",
              "      border-right-color: var(--fill-color);\n",
              "    }\n",
              "    80% {\n",
              "      border-color: transparent;\n",
              "      border-right-color: var(--fill-color);\n",
              "      border-bottom-color: var(--fill-color);\n",
              "    }\n",
              "    90% {\n",
              "      border-color: transparent;\n",
              "      border-bottom-color: var(--fill-color);\n",
              "    }\n",
              "  }\n",
              "</style>\n",
              "\n",
              "  <script>\n",
              "    async function quickchart(key) {\n",
              "      const quickchartButtonEl =\n",
              "        document.querySelector('#' + key + ' button');\n",
              "      quickchartButtonEl.disabled = true;  // To prevent multiple clicks.\n",
              "      quickchartButtonEl.classList.add('colab-df-spinner');\n",
              "      try {\n",
              "        const charts = await google.colab.kernel.invokeFunction(\n",
              "            'suggestCharts', [key], {});\n",
              "      } catch (error) {\n",
              "        console.error('Error during call to suggestCharts:', error);\n",
              "      }\n",
              "      quickchartButtonEl.classList.remove('colab-df-spinner');\n",
              "      quickchartButtonEl.classList.add('colab-df-quickchart-complete');\n",
              "    }\n",
              "    (() => {\n",
              "      let quickchartButtonEl =\n",
              "        document.querySelector('#df-4f9abcbb-7bef-4846-8d50-4937cd8a23a4 button');\n",
              "      quickchartButtonEl.style.display =\n",
              "        google.colab.kernel.accessAllowed ? 'block' : 'none';\n",
              "    })();\n",
              "  </script>\n",
              "</div>\n",
              "    </div>\n",
              "  </div>\n"
            ]
          },
          "metadata": {},
          "execution_count": 100
        }
      ],
      "source": [
        "tweets_df = pd.read_csv(\"Datasets/cyberbullying_tweets.csv\")\n",
        "tweets_df"
      ]
    },
    {
      "cell_type": "code",
      "execution_count": 100,
      "metadata": {
        "id": "vBv6ZfYWgZ6V"
      },
      "outputs": [],
      "source": []
    },
    {
      "cell_type": "code",
      "execution_count": 101,
      "metadata": {
        "colab": {
          "base_uri": "https://localhost:8080/"
        },
        "id": "dUrw8zwvnA3r",
        "outputId": "14972c2a-3c88-45be-f710-80884c9e65fb"
      },
      "outputs": [
        {
          "output_type": "execute_result",
          "data": {
            "text/plain": [
              "47692"
            ]
          },
          "metadata": {},
          "execution_count": 101
        }
      ],
      "source": [
        "len(tweets_df)"
      ]
    },
    {
      "cell_type": "code",
      "execution_count": 102,
      "metadata": {
        "id": "6LQaLVJqv3hn"
      },
      "outputs": [],
      "source": [
        "#sorting dataset by only gender-bullying and not bullying tweets\n",
        "sorted_tweets=tweets_df[(tweets_df['cyberbullying_type']=='gender') | (tweets_df['cyberbullying_type']=='not_cyberbullying') ]"
      ]
    },
    {
      "cell_type": "code",
      "execution_count": 103,
      "metadata": {
        "colab": {
          "base_uri": "https://localhost:8080/",
          "height": 424
        },
        "id": "wl52X90cxL-c",
        "outputId": "22094cd2-119d-4af1-e888-3615a2e5c238"
      },
      "outputs": [
        {
          "output_type": "execute_result",
          "data": {
            "text/plain": [
              "                                              tweet_text cyberbullying_type\n",
              "0      In other words #katandandre, your food was cra...  not_cyberbullying\n",
              "1      Why is #aussietv so white? #MKR #theblock #ImA...  not_cyberbullying\n",
              "2      @XochitlSuckkks a classy whore? Or more red ve...  not_cyberbullying\n",
              "3      @Jason_Gio meh. :P  thanks for the heads up, b...  not_cyberbullying\n",
              "4      @RudhoeEnglish This is an ISIS account pretend...  not_cyberbullying\n",
              "...                                                  ...                ...\n",
              "15913  Any females that really know me know Ion even ...             gender\n",
              "15914  RT @_chrisdowns_: #QuestionsForMen This one's ...             gender\n",
              "15915  Sucks to have the smile wiped off your own fac...             gender\n",
              "15916  No. He said women choose to be gay, men don't....             gender\n",
              "15917  RT @uberfeminist: #TwitterFeminism can't convi...             gender\n",
              "\n",
              "[15918 rows x 2 columns]"
            ],
            "text/html": [
              "\n",
              "  <div id=\"df-220c02dc-29c2-447e-b3e2-cfedabeeb5f2\" class=\"colab-df-container\">\n",
              "    <div>\n",
              "<style scoped>\n",
              "    .dataframe tbody tr th:only-of-type {\n",
              "        vertical-align: middle;\n",
              "    }\n",
              "\n",
              "    .dataframe tbody tr th {\n",
              "        vertical-align: top;\n",
              "    }\n",
              "\n",
              "    .dataframe thead th {\n",
              "        text-align: right;\n",
              "    }\n",
              "</style>\n",
              "<table border=\"1\" class=\"dataframe\">\n",
              "  <thead>\n",
              "    <tr style=\"text-align: right;\">\n",
              "      <th></th>\n",
              "      <th>tweet_text</th>\n",
              "      <th>cyberbullying_type</th>\n",
              "    </tr>\n",
              "  </thead>\n",
              "  <tbody>\n",
              "    <tr>\n",
              "      <th>0</th>\n",
              "      <td>In other words #katandandre, your food was cra...</td>\n",
              "      <td>not_cyberbullying</td>\n",
              "    </tr>\n",
              "    <tr>\n",
              "      <th>1</th>\n",
              "      <td>Why is #aussietv so white? #MKR #theblock #ImA...</td>\n",
              "      <td>not_cyberbullying</td>\n",
              "    </tr>\n",
              "    <tr>\n",
              "      <th>2</th>\n",
              "      <td>@XochitlSuckkks a classy whore? Or more red ve...</td>\n",
              "      <td>not_cyberbullying</td>\n",
              "    </tr>\n",
              "    <tr>\n",
              "      <th>3</th>\n",
              "      <td>@Jason_Gio meh. :P  thanks for the heads up, b...</td>\n",
              "      <td>not_cyberbullying</td>\n",
              "    </tr>\n",
              "    <tr>\n",
              "      <th>4</th>\n",
              "      <td>@RudhoeEnglish This is an ISIS account pretend...</td>\n",
              "      <td>not_cyberbullying</td>\n",
              "    </tr>\n",
              "    <tr>\n",
              "      <th>...</th>\n",
              "      <td>...</td>\n",
              "      <td>...</td>\n",
              "    </tr>\n",
              "    <tr>\n",
              "      <th>15913</th>\n",
              "      <td>Any females that really know me know Ion even ...</td>\n",
              "      <td>gender</td>\n",
              "    </tr>\n",
              "    <tr>\n",
              "      <th>15914</th>\n",
              "      <td>RT @_chrisdowns_: #QuestionsForMen This one's ...</td>\n",
              "      <td>gender</td>\n",
              "    </tr>\n",
              "    <tr>\n",
              "      <th>15915</th>\n",
              "      <td>Sucks to have the smile wiped off your own fac...</td>\n",
              "      <td>gender</td>\n",
              "    </tr>\n",
              "    <tr>\n",
              "      <th>15916</th>\n",
              "      <td>No. He said women choose to be gay, men don't....</td>\n",
              "      <td>gender</td>\n",
              "    </tr>\n",
              "    <tr>\n",
              "      <th>15917</th>\n",
              "      <td>RT @uberfeminist: #TwitterFeminism can't convi...</td>\n",
              "      <td>gender</td>\n",
              "    </tr>\n",
              "  </tbody>\n",
              "</table>\n",
              "<p>15918 rows × 2 columns</p>\n",
              "</div>\n",
              "    <div class=\"colab-df-buttons\">\n",
              "\n",
              "  <div class=\"colab-df-container\">\n",
              "    <button class=\"colab-df-convert\" onclick=\"convertToInteractive('df-220c02dc-29c2-447e-b3e2-cfedabeeb5f2')\"\n",
              "            title=\"Convert this dataframe to an interactive table.\"\n",
              "            style=\"display:none;\">\n",
              "\n",
              "  <svg xmlns=\"http://www.w3.org/2000/svg\" height=\"24px\" viewBox=\"0 -960 960 960\">\n",
              "    <path d=\"M120-120v-720h720v720H120Zm60-500h600v-160H180v160Zm220 220h160v-160H400v160Zm0 220h160v-160H400v160ZM180-400h160v-160H180v160Zm440 0h160v-160H620v160ZM180-180h160v-160H180v160Zm440 0h160v-160H620v160Z\"/>\n",
              "  </svg>\n",
              "    </button>\n",
              "\n",
              "  <style>\n",
              "    .colab-df-container {\n",
              "      display:flex;\n",
              "      gap: 12px;\n",
              "    }\n",
              "\n",
              "    .colab-df-convert {\n",
              "      background-color: #E8F0FE;\n",
              "      border: none;\n",
              "      border-radius: 50%;\n",
              "      cursor: pointer;\n",
              "      display: none;\n",
              "      fill: #1967D2;\n",
              "      height: 32px;\n",
              "      padding: 0 0 0 0;\n",
              "      width: 32px;\n",
              "    }\n",
              "\n",
              "    .colab-df-convert:hover {\n",
              "      background-color: #E2EBFA;\n",
              "      box-shadow: 0px 1px 2px rgba(60, 64, 67, 0.3), 0px 1px 3px 1px rgba(60, 64, 67, 0.15);\n",
              "      fill: #174EA6;\n",
              "    }\n",
              "\n",
              "    .colab-df-buttons div {\n",
              "      margin-bottom: 4px;\n",
              "    }\n",
              "\n",
              "    [theme=dark] .colab-df-convert {\n",
              "      background-color: #3B4455;\n",
              "      fill: #D2E3FC;\n",
              "    }\n",
              "\n",
              "    [theme=dark] .colab-df-convert:hover {\n",
              "      background-color: #434B5C;\n",
              "      box-shadow: 0px 1px 3px 1px rgba(0, 0, 0, 0.15);\n",
              "      filter: drop-shadow(0px 1px 2px rgba(0, 0, 0, 0.3));\n",
              "      fill: #FFFFFF;\n",
              "    }\n",
              "  </style>\n",
              "\n",
              "    <script>\n",
              "      const buttonEl =\n",
              "        document.querySelector('#df-220c02dc-29c2-447e-b3e2-cfedabeeb5f2 button.colab-df-convert');\n",
              "      buttonEl.style.display =\n",
              "        google.colab.kernel.accessAllowed ? 'block' : 'none';\n",
              "\n",
              "      async function convertToInteractive(key) {\n",
              "        const element = document.querySelector('#df-220c02dc-29c2-447e-b3e2-cfedabeeb5f2');\n",
              "        const dataTable =\n",
              "          await google.colab.kernel.invokeFunction('convertToInteractive',\n",
              "                                                    [key], {});\n",
              "        if (!dataTable) return;\n",
              "\n",
              "        const docLinkHtml = 'Like what you see? Visit the ' +\n",
              "          '<a target=\"_blank\" href=https://colab.research.google.com/notebooks/data_table.ipynb>data table notebook</a>'\n",
              "          + ' to learn more about interactive tables.';\n",
              "        element.innerHTML = '';\n",
              "        dataTable['output_type'] = 'display_data';\n",
              "        await google.colab.output.renderOutput(dataTable, element);\n",
              "        const docLink = document.createElement('div');\n",
              "        docLink.innerHTML = docLinkHtml;\n",
              "        element.appendChild(docLink);\n",
              "      }\n",
              "    </script>\n",
              "  </div>\n",
              "\n",
              "\n",
              "<div id=\"df-f49a0560-5529-41a1-92d8-1dc28836520b\">\n",
              "  <button class=\"colab-df-quickchart\" onclick=\"quickchart('df-f49a0560-5529-41a1-92d8-1dc28836520b')\"\n",
              "            title=\"Suggest charts.\"\n",
              "            style=\"display:none;\">\n",
              "\n",
              "<svg xmlns=\"http://www.w3.org/2000/svg\" height=\"24px\"viewBox=\"0 0 24 24\"\n",
              "     width=\"24px\">\n",
              "    <g>\n",
              "        <path d=\"M19 3H5c-1.1 0-2 .9-2 2v14c0 1.1.9 2 2 2h14c1.1 0 2-.9 2-2V5c0-1.1-.9-2-2-2zM9 17H7v-7h2v7zm4 0h-2V7h2v10zm4 0h-2v-4h2v4z\"/>\n",
              "    </g>\n",
              "</svg>\n",
              "  </button>\n",
              "\n",
              "<style>\n",
              "  .colab-df-quickchart {\n",
              "      --bg-color: #E8F0FE;\n",
              "      --fill-color: #1967D2;\n",
              "      --hover-bg-color: #E2EBFA;\n",
              "      --hover-fill-color: #174EA6;\n",
              "      --disabled-fill-color: #AAA;\n",
              "      --disabled-bg-color: #DDD;\n",
              "  }\n",
              "\n",
              "  [theme=dark] .colab-df-quickchart {\n",
              "      --bg-color: #3B4455;\n",
              "      --fill-color: #D2E3FC;\n",
              "      --hover-bg-color: #434B5C;\n",
              "      --hover-fill-color: #FFFFFF;\n",
              "      --disabled-bg-color: #3B4455;\n",
              "      --disabled-fill-color: #666;\n",
              "  }\n",
              "\n",
              "  .colab-df-quickchart {\n",
              "    background-color: var(--bg-color);\n",
              "    border: none;\n",
              "    border-radius: 50%;\n",
              "    cursor: pointer;\n",
              "    display: none;\n",
              "    fill: var(--fill-color);\n",
              "    height: 32px;\n",
              "    padding: 0;\n",
              "    width: 32px;\n",
              "  }\n",
              "\n",
              "  .colab-df-quickchart:hover {\n",
              "    background-color: var(--hover-bg-color);\n",
              "    box-shadow: 0 1px 2px rgba(60, 64, 67, 0.3), 0 1px 3px 1px rgba(60, 64, 67, 0.15);\n",
              "    fill: var(--button-hover-fill-color);\n",
              "  }\n",
              "\n",
              "  .colab-df-quickchart-complete:disabled,\n",
              "  .colab-df-quickchart-complete:disabled:hover {\n",
              "    background-color: var(--disabled-bg-color);\n",
              "    fill: var(--disabled-fill-color);\n",
              "    box-shadow: none;\n",
              "  }\n",
              "\n",
              "  .colab-df-spinner {\n",
              "    border: 2px solid var(--fill-color);\n",
              "    border-color: transparent;\n",
              "    border-bottom-color: var(--fill-color);\n",
              "    animation:\n",
              "      spin 1s steps(1) infinite;\n",
              "  }\n",
              "\n",
              "  @keyframes spin {\n",
              "    0% {\n",
              "      border-color: transparent;\n",
              "      border-bottom-color: var(--fill-color);\n",
              "      border-left-color: var(--fill-color);\n",
              "    }\n",
              "    20% {\n",
              "      border-color: transparent;\n",
              "      border-left-color: var(--fill-color);\n",
              "      border-top-color: var(--fill-color);\n",
              "    }\n",
              "    30% {\n",
              "      border-color: transparent;\n",
              "      border-left-color: var(--fill-color);\n",
              "      border-top-color: var(--fill-color);\n",
              "      border-right-color: var(--fill-color);\n",
              "    }\n",
              "    40% {\n",
              "      border-color: transparent;\n",
              "      border-right-color: var(--fill-color);\n",
              "      border-top-color: var(--fill-color);\n",
              "    }\n",
              "    60% {\n",
              "      border-color: transparent;\n",
              "      border-right-color: var(--fill-color);\n",
              "    }\n",
              "    80% {\n",
              "      border-color: transparent;\n",
              "      border-right-color: var(--fill-color);\n",
              "      border-bottom-color: var(--fill-color);\n",
              "    }\n",
              "    90% {\n",
              "      border-color: transparent;\n",
              "      border-bottom-color: var(--fill-color);\n",
              "    }\n",
              "  }\n",
              "</style>\n",
              "\n",
              "  <script>\n",
              "    async function quickchart(key) {\n",
              "      const quickchartButtonEl =\n",
              "        document.querySelector('#' + key + ' button');\n",
              "      quickchartButtonEl.disabled = true;  // To prevent multiple clicks.\n",
              "      quickchartButtonEl.classList.add('colab-df-spinner');\n",
              "      try {\n",
              "        const charts = await google.colab.kernel.invokeFunction(\n",
              "            'suggestCharts', [key], {});\n",
              "      } catch (error) {\n",
              "        console.error('Error during call to suggestCharts:', error);\n",
              "      }\n",
              "      quickchartButtonEl.classList.remove('colab-df-spinner');\n",
              "      quickchartButtonEl.classList.add('colab-df-quickchart-complete');\n",
              "    }\n",
              "    (() => {\n",
              "      let quickchartButtonEl =\n",
              "        document.querySelector('#df-f49a0560-5529-41a1-92d8-1dc28836520b button');\n",
              "      quickchartButtonEl.style.display =\n",
              "        google.colab.kernel.accessAllowed ? 'block' : 'none';\n",
              "    })();\n",
              "  </script>\n",
              "</div>\n",
              "    </div>\n",
              "  </div>\n"
            ]
          },
          "metadata": {},
          "execution_count": 103
        }
      ],
      "source": [
        "sorted_tweets"
      ]
    },
    {
      "cell_type": "code",
      "execution_count": 104,
      "metadata": {
        "colab": {
          "base_uri": "https://localhost:8080/"
        },
        "id": "Uq9t25MzxZxI",
        "outputId": "741ee08f-4eb6-4f55-928b-0a039c9ca38f"
      },
      "outputs": [
        {
          "output_type": "execute_result",
          "data": {
            "text/plain": [
              "15918"
            ]
          },
          "metadata": {},
          "execution_count": 104
        }
      ],
      "source": [
        "len(sorted_tweets)\n",
        "#sorted_tweets.shape"
      ]
    },
    {
      "cell_type": "code",
      "execution_count": 105,
      "metadata": {
        "colab": {
          "base_uri": "https://localhost:8080/"
        },
        "id": "VgKNbwg2bF3Y",
        "outputId": "e5bf010f-6a15-4aa0-a0bc-9b2181814647"
      },
      "outputs": [
        {
          "output_type": "execute_result",
          "data": {
            "text/plain": [
              "7945"
            ]
          },
          "metadata": {},
          "execution_count": 105
        }
      ],
      "source": [
        "15918-len(sorted_tweets[sorted_tweets['cyberbullying_type']=='gender'])"
      ]
    },
    {
      "cell_type": "code",
      "execution_count": 106,
      "metadata": {
        "id": "VXVdbFdd2dYg"
      },
      "outputs": [],
      "source": [
        "#import nltk\n",
        "#from nltk.stem import WordNetLemmatizer\n",
        "#from nltk.corpus import stopwords\n",
        "#from nltk.tokenize import word_tokenize\n",
        "\n",
        "#nltk.download('stopwords')\n",
        "#nltk.download('wordnet')\n",
        "#nltk.download('punkt')*"
      ]
    },
    {
      "cell_type": "code",
      "execution_count": 107,
      "metadata": {
        "colab": {
          "base_uri": "https://localhost:8080/"
        },
        "id": "JRTZIziM3Eys",
        "outputId": "f114d367-dafa-40e2-e31e-6b3eb60ca1b5"
      },
      "outputs": [
        {
          "output_type": "stream",
          "name": "stderr",
          "text": [
            "[nltk_data] Downloading package stopwords to /root/nltk_data...\n",
            "[nltk_data]   Package stopwords is already up-to-date!\n"
          ]
        }
      ],
      "source": [
        "import cv2\n",
        "import seaborn as sns\n",
        "import matplotlib.pyplot as plt\n",
        "from sklearn.model_selection import train_test_split\n",
        "import string\n",
        "import nltk\n",
        "from nltk.corpus import stopwords\n",
        "\n",
        "nltk.download('stopwords')\n",
        "\n",
        "# quiet future deprecation warnings\n",
        "import warnings\n",
        "warnings.filterwarnings('ignore')"
      ]
    },
    {
      "cell_type": "code",
      "execution_count": 108,
      "metadata": {
        "id": "3td4Yrhu4REX"
      },
      "outputs": [],
      "source": [
        "bullying_tweets=tweets_df[(tweets_df['cyberbullying_type']=='gender') ]"
      ]
    },
    {
      "cell_type": "code",
      "execution_count": 109,
      "metadata": {
        "colab": {
          "base_uri": "https://localhost:8080/"
        },
        "id": "SvWl2aekgbk8",
        "outputId": "40d84383-ef8b-4d84-994d-34ed3b5b791e"
      },
      "outputs": [
        {
          "output_type": "stream",
          "name": "stdout",
          "text": [
            "Requirement already satisfied: langdetect in /usr/local/lib/python3.10/dist-packages (1.0.9)\n",
            "Requirement already satisfied: six in /usr/local/lib/python3.10/dist-packages (from langdetect) (1.16.0)\n"
          ]
        }
      ],
      "source": [
        "#account for dif languages\n",
        "\n",
        "!pip install langdetect\n",
        "from langdetect import detect, detect_langs\n",
        "\n",
        "def language_detection(text, method = \"single\"):\n",
        "\n",
        "  \"\"\"\n",
        "  @desc:\n",
        "    - detects the language of a text\n",
        "  @params:\n",
        "    - text: the text which language needs to be detected\n",
        "    - method: detection method:\n",
        "      single: if the detection is based on the first option (detect)\n",
        "  @return:\n",
        "    - the langue/list of languages\n",
        "  \"\"\"\n",
        "\n",
        "  if(method.lower() != \"single\"):\n",
        "    result = detect_langs(text)\n",
        "\n",
        "  else:\n",
        "    result = detect(text)\n",
        "\n",
        "  return result"
      ]
    },
    {
      "cell_type": "code",
      "execution_count": 110,
      "metadata": {
        "id": "BUfZFHGuhAu_"
      },
      "outputs": [],
      "source": [
        "from langdetect import detect\n",
        "\n",
        "def detect_english(text):\n",
        "  try:\n",
        "    return detect(text) == 'en'\n",
        "  except:\n",
        "    return False"
      ]
    },
    {
      "cell_type": "code",
      "execution_count": 111,
      "metadata": {
        "id": "GiEd1Nf-jMXC"
      },
      "outputs": [],
      "source": [
        "#filter by english\n",
        "sorted_tweets = sorted_tweets[sorted_tweets['tweet_text'].apply(detect_english)]"
      ]
    },
    {
      "cell_type": "code",
      "execution_count": 112,
      "metadata": {
        "id": "mfTJh9YPzw4X"
      },
      "outputs": [],
      "source": [
        "#bootstrapping\n",
        "import random\n",
        "np.random.seed(42)\n",
        "sorted_tweets=sorted_tweets.sample(n= 20000, replace = True)"
      ]
    },
    {
      "cell_type": "code",
      "execution_count": 113,
      "metadata": {
        "colab": {
          "base_uri": "https://localhost:8080/",
          "height": 574
        },
        "id": "jo1w69zT2BbK",
        "outputId": "07d65ba0-ae27-4765-92de-ca4e311a14d2"
      },
      "outputs": [
        {
          "output_type": "display_data",
          "data": {
            "text/plain": [
              "<Figure size 800x600 with 1 Axes>"
            ],
            "image/png": "[encoded data removed]"
          },
          "metadata": {}
        }
      ],
      "source": [
        "from collections import Counter\n",
        "\n",
        "stpwrds = stopwords.words('english')\n",
        "punctuation = string.punctuation\n",
        "\n",
        "# try changing to visualize more or less words\n",
        "num_words = 15\n",
        "\n",
        "# text cleaning maintaining all of our text as one string\n",
        "text = \" \".join(bullying_tweets['tweet_text'])\n",
        "# text = text.lower() # try adding this back in and see what happens!\n",
        "text = \"\".join(_ for _ in text if _ not in punctuation)\n",
        "text = [t for t in text.split() if t not in stpwrds and not t.isdigit()]\n",
        "\n",
        "# We can use Counter to find the most frequent words in all our titles!\n",
        "words = [_[0] for _ in Counter(text).most_common(num_words)]\n",
        "frequency = [_[1] for _ in Counter(text).most_common(num_words)]\n",
        "\n",
        "# Making our plot look nice!\n",
        "plt.figure(figsize=(8,6));\n",
        "ax = sns.barplot(x=frequency, y=words)\n",
        "ax.spines['top'].set_visible(False)\n",
        "ax.spines['right'].set_visible(False)\n",
        "plt.title(\"Most Frequent Keywords used in gender bullying tweets\");\n",
        "plt.xlabel(\"Frequency\", fontsize=14);\n",
        "plt.yticks(fontsize=14);\n",
        "plt.xticks(fontsize=14);"
      ]
    },
    {
      "cell_type": "code",
      "execution_count": 114,
      "metadata": {
        "id": "tWVYOJzy4rZ-"
      },
      "outputs": [],
      "source": [
        "#splitting dataset into training and testing data\n",
        "X_train, X_test, y_train, y_test = train_test_split(sorted_tweets[\"tweet_text\"], sorted_tweets[\"cyberbullying_type\"], test_size=0.2, random_state=9, stratify=sorted_tweets[\"cyberbullying_type\"])"
      ]
    },
    {
      "cell_type": "code",
      "execution_count": 115,
      "metadata": {
        "colab": {
          "base_uri": "https://localhost:8080/"
        },
        "id": "3_KlwcGM5YSq",
        "outputId": "dc9edfb5-0f12-41b3-e56e-a95244e37b32"
      },
      "outputs": [
        {
          "output_type": "stream",
          "name": "stdout",
          "text": [
            "(16000,)\n",
            "(16000,)\n",
            "(4000,)\n",
            "(4000,)\n"
          ]
        }
      ],
      "source": [
        "print(X_train.shape)\n",
        "print(y_train.shape)\n",
        "print(X_test.shape)\n",
        "print(y_test.shape)"
      ]
    },
    {
      "cell_type": "code",
      "execution_count": 116,
      "metadata": {
        "colab": {
          "base_uri": "https://localhost:8080/"
        },
        "id": "pbI5BCs1eQWa",
        "outputId": "1891a087-53d3-4285-a51a-3d02485d7eda"
      },
      "outputs": [
        {
          "output_type": "execute_result",
          "data": {
            "text/plain": [
              "Counter({'not_cyberbullying': 7459, 'gender': 8541})"
            ]
          },
          "metadata": {},
          "execution_count": 116
        }
      ],
      "source": [
        "Counter(y_train)"
      ]
    },
    {
      "cell_type": "code",
      "execution_count": 117,
      "metadata": {
        "colab": {
          "base_uri": "https://localhost:8080/"
        },
        "id": "aOKUNjMLkECF",
        "outputId": "3a6c1b76-2451-4b42-8c37-e297e46da921"
      },
      "outputs": [
        {
          "output_type": "execute_result",
          "data": {
            "text/plain": [
              "Counter({'@Jarvaris The saying is: hope springs eternal)': 2,\n",
              "         'PSA: rape jokes are never funny and \"gay\" is not an insult pls stop': 5,\n",
              "         'Oh so pastry and Kurd on the side #mkr': 2,\n",
              "         \"@g_worroll it's off now. It was just continuously engaged for a very long time. The water here is crazy.\": 2,\n",
              "         'People b like \"well if no jokes about race, rape, women,&amp; gays allowed, what CAN comedians make jokes about?!!!\" ..literally anything else ?': 1,\n",
              "         'Some of these men should not be speaking about rape amd sexual assault. They ate so fcking dumb. Making gay jokes instead of fighting for justice': 4,\n",
              "         \"@rmestridge YAAAA! That's riiiight. Abby denaj the cyber bully\": 4,\n",
              "         '@HPluckrose @Feminazi_Front Nature/evolution provided men &amp; women with perfect equanimity': 2,\n",
              "         '@JRichBEATZ fyi... Im not in class :)!! Now What!?': 1,\n",
              "         '#AbuserDynamics @Kingdijk Girls should count themselves lucky if they got a guy that still shouts when his mad, means he cares': 3,\n",
              "         'girls @Dehner07 In usually not sexist, but girls are refs in the NBA ? Wow.': 4,\n",
              "         \"RT @Fairfax51: @wesleywitch @PolitiBunny @MT8_9 NO, it isn't....its about obnoxious Liberal women being able to spout garbage they say repr…\": 2,\n",
              "         'Watching the ant bully': 3,\n",
              "         '#MKR anyone can cook from a can girls.': 4,\n",
              "         'é galero, sofro bullying memo': 1,\n",
              "         \"Christian Bully?: A local St. Mary's County woman recently confronted a grieving father about an unsubstantiate... http://t.co/7sYw98q\": 2,\n",
              "         \" these bitches even worst they'll send them guys for you \": 1,\n",
              "         \"Fire racists and hire someone who's more qualified, you know, like a POC.\": 2,\n",
              "         'There\\'s this kid who sits beside me in my digital art and animation class and all he does is make rape and \"you\\'re gay\" jokes and is the pinnacle of unfunny. He rambles to me the entire time and tries to be funny by repeating the same rape centered joke over and over': 1,\n",
              "         '.@randi_ebooks you are a dog. proof that google will try to recruit anyone. :P': 1,\n",
              "         'Schilling can’t resist hitting Twitter to defend a Congressman’s right to call one of his female peers a “fucking bitch.” Strange thing to feel the need to defend. How’s your video game company going Curt?': 4,\n",
              "         'Niggas wanna fight after school and shit': 3,\n",
              "         'Vic Mignogna made a tame jelly bean joke to Monica Rial years ago. DBZ VAs record rape jokes and gay slurs in character years ago. Vic Mignogna is now fired. The others are not. THERE is the problem.': 2,\n",
              "         '@NateGutman Oh thanks for clearing that up': 3,\n",
              "         'Hootie on the radio on the way to school!! #Gonnabeagoodday': 4,\n",
              "         '@Mayi_FirstClass FOLLOW ME': 4,\n",
              "         'RT @blastedsilver: Facebook Caves To Followers Of Mohammed, Will Block Pages “Insulting Islam”… http://t.co/vATwk4UZCc http://t.co/KyiZWKXP…': 4,\n",
              "         \"So about 15 minutes into #gethard and it's basically gay sex joke-rape joke-gay sex joke-rape joke. No wonder this movie bombed.\": 2,\n",
              "         'RT @iProgram4Fun: \\'Cause, you know, they\\'re different things RT \"@YoungRightUSA: #feminist #abortion #prolife #feminazi http://t.co/3y5QkA2…': 1,\n",
              "         'Birdman is more racist, misogynist trash masquerading as high art. Skip.': 3,\n",
              "         \"No I don't smoke. No I don't get trashed. No I don't take the piss out of people. No I don't bully. Yes I do have morals\": 2,\n",
              "         'Absolutely. So will gay men also be criminalised? Is it rape and abuse for a man to pay another man for sex? Is it sexist to assume its not?? Will the Nordic model apply to only women? Same questions for trans there too. Can Sarah champion answer??': 1,\n",
              "         'Still think the course needs some work. It was a great half course paired with an ok half course, not a good full course. #RnRStL': 3,\n",
              "         'Phahahahaha The classics are the best #TheCobsyShow': 2,\n",
              "         'i have no interest in meeting en masse with other gamers until i stop hearing constant rape and gay jokes over the mics when i play with randos, i don’t care how cool the venue is': 1,\n",
              "         '#mkr NOOOOO!!! I wanted Kat and Andre to lose!!!': 1,\n",
              "         '@tart_toter who puts gamergate on an exam? o_O': 2,\n",
              "         \"RT @A24Brett I'm not sexist but diva matches annoy me. And tag team diva matches...\": 1,\n",
              "         'One of our strongest tools in stopping violence against women is public shame of the abuser and public support of the victim.': 1,\n",
              "         'Gay, Race, Aid/HIV, and Rape jokes are funny af #confessyourunpopularopinion': 2,\n",
              "         'Popped a quick dinner in the oven, went and had a shower then sat down to watch #mkr. I think, dinner should be ready now...': 4,\n",
              "         \"RT @Phlight3000 I'm not sexist, but I believe in my kids having 2 parent home. Being fully parented.\": 2,\n",
              "         \"The vibrations of rape jokes, race jokes, gay jokes, create all the negative -isms. Laugh a little... it's not harming anyone... lies.\": 2,\n",
              "         'If the sassy models are really studying psychology they should know all about narcissism... #mkr': 2,\n",
              "         'when the people around you starts using gay and rape as a joke': 5,\n",
              "         'RT @lahellraiser call me sexist if you want, but I find female sportscasters really annoying.': 2,\n",
              "         'Oh Shit. Now we have to put up with freaking Kat and No Balls Andre for another week. FMD.  #mkr': 2,\n",
              "         \"RT @SpenceyD94 I'm not sexist... But female football commentators are just not a good idea.\": 2,\n",
              "         'RT @yave145: ISIS terrorists recently killed by YPG in Kobane countryside #TwitterKurds http://t.co/PxbTrR07fl': 2,\n",
              "         '@alexandre_alves Isso é bullying. huahau': 3,\n",
              "         '#6. Gay jokes in \"Knocked Up.\" Not funny!!!!! EVER! #comedy #rape #offensive @JuddApatow': 2,\n",
              "         \"Come on Sheri and Em you can't go to sudden death love you xx good luck #mkr #mkr2015\": 1,\n",
              "         \"I just also have a problem with sexist men, homophobic men (especially ones who fetishize bisexual and lesbian women, but hate gay men), men who excuse rape ect. Which are who most of those tweets are about. I definitely don't HATE men, especially considering I'm straight\": 1,\n",
              "         'RT @amazingatheist: thodakdarkbane said: I have lots of feminazi teachers and fellow peers and when ever you say something... http://t.co/q…': 3,\n",
              "         '@fries_cj what time was it?': 3,\n",
              "         'Words have different impact depending on power. How is this a hard concept? @j0shoooa And just to clarify, whores can be guys too #notsexist': 2,\n",
              "         'Motorist picks the wrong cyclist to bully http://bit.ly/jLFAmv via @Wash_cycle @StreetsblogNet': 2,\n",
              "         \"@AJKauffman @CocaCola Yeah, if there's one thing I know about old pin-ups ads, it's that they were definitely not sexist.\": 2,\n",
              "         'KIDS LETS REVIEW! things that ARE jokes: -lots of things things that ARENT jokes: -rape -racism -gay as an insult -mental illness -suicide': 2,\n",
              "         \"Please don't refer to us women as females. Ur not allowed to say it doesn't affect us, cause it fucking does which affects u, and by that I mean some woman is probably gonna bitch slap u or punch u in the face if u call her a female. It's disgustingly degrading. So stfu\": 1,\n",
              "         \"@BrownBagPantry But sadly, reporting just isn't the answer. Blocks/mutes &amp; ignoring is the best way to go.\": 3,\n",
              "         '@LifeInKhilafah This is life in the Khalifa. An orgy of murder and celebration of killing in the most gruesome way. http://t.co/m4oCmDH3BR': 1,\n",
              "         \"you can be intimidated by a sex act you're very much excited to do consensually, which is the why the joke is formatted as a text message response to someone asking for advice, but it's cool how gay men can't talk about anal sex without it being associated with rape\": 2,\n",
              "         \"RT @Barnflake: @EmmaaFlanagan @LisaNHayes Sexist is when people don't go because it's women. People aren't going because it's of a poor qua…\": 4,\n",
              "         '@ryxter5 Im not sexist but the woman who hate men stareing at their breasts are the ones who wear tops 2 sizes 2 small!! Actually annoys me!': 3,\n",
              "         'Does anyone have any media company emails I could try sending my CV to?? #workexperience #industryplacement': 1,\n",
              "         'OMG!!! Bitches at my job are nasty': 1,\n",
              "         \"reading a manga and my friend texts me asking if i can meet up to discuss our project. That's okay, I guess.\": 2,\n",
              "         \"RT @lucasRobson09 I can't deal with women football announcers. I'm not sexist, it just doesn't sound right.\": 1,\n",
              "         '@ThelmaSleaze And no one said only women should stick together. Non-rapist men can also stick together with their (women) friends': 4,\n",
              "         \"@KissMySmilee: Don't got time for bitches to be actin iffy.\": 1,\n",
              "         'ew if u call females “ bitches” ur gross, have some respect': 1,\n",
              "         '@glaad your bullying apologize is not going to make me like you. I like my gay friends for who they are. Not because you make me. #fuckglaad': 3,\n",
              "         'RT @_paulo34: #iraq 500 tribal fighters join security forces in Baiji to fight #ISIS http://t.co/kJbpyW87sn': 3,\n",
              "         \"Or maybe the surprise twist is Ash beating Nikki with a stiletto. I'd watch that. #MKR\": 4,\n",
              "         'I’d call @RepTedYoho a fucking bitch, but I don’t believe being female should be an insult. I propose Yoho as the new pejorative. Yoho: noun, a moron with a little dick, esp. one who is scared of women with brains.': 2,\n",
              "         'Gold mine! @Watzittoyaa And no im not sexist lighten up and learn to take a joke': 2,\n",
              "         '@LynnMagic let this be the start of a new trend. Selfie with random boobpillow.': 2,\n",
              "         'Lance Armstrong Award for Sportsmanship 2015 goes to... Trevor Chappell opens envelope, announces winner is Kat! #MKR http://t.co/LHsphaw1cy': 2,\n",
              "         '“Surprise! Twelve more teams!” #MKR': 2,\n",
              "         \"say it with me rape is not a joke. gay is not an insult. telling someone to kill themselves is not funny. racist jokes aren't fucking funny.\": 2,\n",
              "         'Yoho Ousted From Christian Charity Board After ‘Verbal Attack’ On AOC You mean it\\'s not Christian to call a young female colleague a \"fucking bitch\"? Who\\'d a thunkit?': 2,\n",
              "         \"update as well as suicide, rape, and abuse, I'm done hearing jokes about the LGBT community and using gay as an insult\": 2,\n",
              "         \"I think rapists know that rape is wrong I also don't think a grown as adult needs to be taught that rape is wrong I also don't see how making a gay joke = rape is a-ok\": 1,\n",
              "         \"RT @Jason_Eyerman Girls shouldn't do drugs #NotSexist #JustTheTruth\": 4,\n",
              "         \"RT @PatriceChienne: Deconstructed lemon tart, because we're too bloody lazy and incompetent to do it properly? #MKR\": 2,\n",
              "         '@CharlieLangton_ Can  you press Settings, Services, System Details and let me know the make model and version number of  your box please? L': 2,\n",
              "         'Oh my god there’s a gay character who has a dog named f***t and they just made their second rape joke': 2,\n",
              "         \"@mykitchenrules did you find Katie and Nikki in the line for Mt Druitt's next top model? #MKR\": 2,\n",
              "         \"RT @Marct009: @SkyNews Black Widow I can understand she was an original character. I am not sexist but Thor has always been a guy.. Can't s…\": 4,\n",
              "         'I\\'ve been meaning to say this for a while but I\\'ve been holding myself for God knows why. I really really hate the fact that most Nigerian comedians have normalized the art of making rape jokes especially the \"corrective\" rape of lesbian and gay people. Makes no sense.': 2,\n",
              "         '16 hours and 7 minutes OMG YOU GUYS I CANT EVEN': 1,\n",
              "         \"RT @bigjoeknows: Ladies: I don't think that you can't drive, I just know that you can't park or back out of a parking space. #Facts #NotSex…\": 1,\n",
              "         \"!!! RT @mayasolovely: As a woman you shouldn't complain about cleaning up your house. &amp; as a man you should always take the trash out...\": 1,\n",
              "         \"@AMCTalkingDead Sad to see Sasha gone, But she went out her way! To bad she didn't get to bite the ass hole Negan!!\": 1,\n",
              "         \"Oh, darling MRAs. You making jabs at my appearance won't keep me from working to provide tools so others can shut you down. &lt;3\": 2,\n",
              "         'been told by gay men before that they\\'re \"going to rape me\" as a joke. gay men are fucking terrifying. not sure how to trigger warn on twitr': 1,\n",
              "         'For a selection of perfection, #superiorfruit !! #graceville #brisbane #foodie #mkr #goodfoodie… https://t.co/lFUTzymhMH': 1,\n",
              "         \"QE-FUCKIN-D @RizwanRock7 Are there any good female comedians?? Or comediennes if you prefer? Can't think of even one! #NotSexist\": 1,\n",
              "         'People who use gay, anorexic, and girl as insults, or people who make rape jokes are not the people you need in your life. :)': 4,\n",
              "         '@_bxtchesInPARIS thanks love': 1,\n",
              "         'Colin eating... #mkr http://t.co/FN5iyPp86C': 1,\n",
              "         \"@GregyTruMOB shut up you're not even in class\": 1,\n",
              "         'Huh? Normal ppl don’t call coworkers fucking bitch. Where do you work that you think anyone make or female should accept. Hmm. Looks like there were lots of witnesses. So instead of going with his I didn’t say that response, you believe she should just take it like a man?': 2,\n",
              "         \"all these girls at school who claim to love bon iver can't even prounce bon iver properly\": 2,\n",
              "         'whoever decided that this was an appropriate temperature for this building should take a week off, and then quit #bad #decision #mondays': 3,\n",
              "         '@BestProAdvice: Rape jokes https://twitter.com/BestProAdvice/status/470740560173879296/photo/1 the drops mic this was super gay': 2,\n",
              "         \"How come I hear more about Breast Cancer, Than Prostate Cancer, How Come I hear More about Female Depression than Male Depression. If I post on my stories a pic of me crying they would call me a Bitch, if a girl does it everyone goes to ask them if they're ok.\": 1,\n",
              "         '+men are \"biologically hardwired to like it\", thanks for draining my faith in humanity for today': 3,\n",
              "         'note: making jokes about rape or a gay man getting all the \"dick/pipe in prison he could want\" is not funny and shows you don\\'t understand sexual assault--it isn\\'t funny nor is it a \"tool\" for punishment or correction.': 2,\n",
              "         '@MDeSabato a gay joke? Are you twelve? Listen side burns, I dont have time to fry your ass all night. Rape isnt funny in any sence. Grow up': 6,\n",
              "         'This is absolutely ridiculous how bad my ankles and legs hurt from playing football.': 2,\n",
              "         '@Spacekatgal 80% of his points are bullshit taken from white cis male standpoint. no harassment on fbook? pft. providing ID/addy? NOPE.': 2,\n",
              "         '@AMohedin When the Taliban make women wear Burquas are they not preventing women from \"displaying themselves\"?': 3,\n",
              "         \"RT @Lewis__Duncan I'm not sexist but an all-female Ghostbusters is going to be just awful\": 2,\n",
              "         '#mkr Disneyland... really??!?!??!!?!??!?!': 2,\n",
              "         '@KingTeej_: Ol dirty foot ass bitches.. this was too funny to me.': 1,\n",
              "         '@biebervalue @greenlinerzjm You have presented a pile of lying crap that does not come from the Quran or Hadiths.': 3,\n",
              "         'Congrats Ash &amp; Camilla!': 3,\n",
              "         \"That would be *Ken* Starr, lately Baylor's Chancellor of Rape. Since media-waterboarding Lewinsky: defended expelling a student for making a pot joke, defending Blackwater for murder, defended persecuting gays, defended Epstein's and Kloman's pedophilia, https://en.wikipedia.org/wiki/Ken_Starr#Post&#x2013;independent_counsel_activities\": 1,\n",
              "         'RT @redbrasco: Stop a nuclear #Iran. Sign the petition. http://t.co/oUymB4AUOg': 1,\n",
              "         'can’t stand y’all mfs who call Women/ Girls “Females” like bitch u tryna sound “respectful?” but u sound stupid as fuck LMAOO': 1,\n",
              "         'I don\\'t like people making what they call \"gay\" jokes and using real life issues/trauma such as rape and molestation in the process': 3,\n",
              "         '@_Rades Buying/farming a whole new gear set for BGs + rape jokes &amp; gay insults = NOPE.': 1,\n",
              "         '@FACLC I suspected it was a homophobic joke about gay men loving prison rape but I just wanted to give you an opportunity to not be awful.': 5,\n",
              "         \"RT @James_Kakisingi I'm not sexist. But I dont like dealing with women, when there is business to do. They are too emotional\": 4,\n",
              "         'First social test of the year...': 3,\n",
              "         \"What we're up against, no joke. 'Legit rape' &amp; awesome control to not get pregnant?! http://gawker.com/5936050/republican-senate-nominee-explains-that-women-dont-really-get-pregnant-from-legitimate-rape Thx to @rgay for posting.\": 1,\n",
              "         \"This is some centrist-liberal classist BS. Low wage employees shouldn't be the butt of jokes any more than gays, blacks, or rape victims.\": 3,\n",
              "         '#iiHope SomeDay No One Has To Go Threw The Pain Of Cyber Bulling': 1,\n",
              "         'I cannot get this goofy grin off my face.': 3,\n",
              "         '@AjitPaiFCC after seeing your philosophy on regulation in general, I think it is pretty disappointing that you are a leader at the FCC': 3,\n",
              "         'Jovan can u address how, when people make jokes about male rape it contributes to demonizing gay men as rapists. Seriously under-discussed topic, and liberals usually brush it off as “meninist” but it contributes to so much racism and homophobia. https://youtu.be/veqpgXMzj0o': 1,\n",
              "         \"WTF is that mess...? That has to be the worst fucking deconstructed dessert I've ever seen. These bitches need to go like now. #MKR\": 2,\n",
              "         'So uh, my original reddit account is unbanned?': 2,\n",
              "         'Oh Kat you do something new every night to make yourself look even more like a hateful twat! #mkr #karmaisabitch': 2,\n",
              "         \"RT @SxFlint93: I'm not sexist but women should play football past the age of 12 unless they're over 285\": 3,\n",
              "         \"Don't fall in love with the memories, things will never be the same.\": 1,\n",
              "         '@dylanw not sure if i can still see a kaiser doctor with that.': 5,\n",
              "         'RT @curdistani: FLASH: ISIS used chemical gas loaded suicide car bomb in Mosul against Peshmerga http://t.co/u90yLdJT3r #twitterkurds http:…': 2,\n",
              "         'Colin is back....#MKR': 2,\n",
              "         \"@austin_michals_ I'm pretty sure that it's the first year if high school. I know people that fucked up &amp; graduated with honors.\": 1,\n",
              "         'This will be my first rainy day at SFSU 😁😩😕': 3,\n",
              "         '@USMarineCorps Ads endorse Rush Limbaugh who tells rape jokes, demeans women, ppl of color, gays. What honor, integrity?? #stoprush': 1,\n",
              "         'Yes, rape jokes are the pinnacle of comedy, dad. Oh totally, we should definitely purge all them \"gays\". How hilarious.': 4,\n",
              "         '@hannahdarking oh my god lets do that. Thursday or Friday you around home girl? Xx': 3,\n",
              "         'Here is my deconstructed Vanilla Cake...some assembly required #MKR http://t.co/Ah1suwvPJo': 1,\n",
              "         'tonight\\'s dinner with my family consisted of: racism doesnt exist, people are just fragile gay couples still use the terms \"husband and wife\" within a relationship YES, ANA, gay couples DO decide who is the man and who is the woman rape jokes are funny, women are just sensitive': 3,\n",
              "         'Suck it Kat, you fucking cunt. #mkr': 2,\n",
              "         \"#mkr kat is gonna score low for one 1.there last 2. She's crazy\": 2,\n",
              "         'So she makes a joke about everyone being gay, when in reality a lot of it is rape and sexual assault. Then she makes a joke about being in jail, like her 10,000+ sq foot home isnt the size of a full prison that she has full access too, no barriers to keep her locked in....': 2,\n",
              "         'Murdered babies ok, rape jokes ok, Holocaust jokes are fine, race jokes and gay jokes are cool, but no pedo jokes, is that your stance? Strange separations you make.': 1,\n",
              "         'Jack Dylan isn’t just problematic for smoking weed at 14, he is problematic for laughing at rape jokes, unsung gay as an insult and sexualizing his friend.': 1,\n",
              "         'Sometimes life just seems like chapters of goodbyes. Some good, some bad, but all come together to create the story of our lives.': 2,\n",
              "         'After reading all d RAPE and GAY jokes on Chris Gayle after IPL innings,I really appreciate how much we Indians celebrate RAPE!!!! #sick': 1,\n",
              "         'Will Colin like the dessert???? #MKR': 2,\n",
              "         \"I hope upcoming freshmans don't have bestfrann's because they gonna lose them bitches when you hit the high school doors lmao\": 2,\n",
              "         'RT @nowlinn Not sexist but I hate female sports announcers': 2,\n",
              "         'Round 2 of #MKR you guys did an amazing job zeebie05 !! Starting to get anxious about our turn #MKR… https://t.co/w2sCY5Whyr': 1,\n",
              "         '@zeynep @twitter @delbius omg, is that what happened? i keep hitting the wrong button.': 1,\n",
              "         \"@ManilaNews Vice Ganda's sickness of being gay has no cure. So don't overreact with the rape joke. He has more personal issues than this.\": 2,\n",
              "         '@harmlesstree2 @MaxBlumenthal Here is then pact of Umar that they lived by. http://t.co/Ye3XeanbXZ': 1,\n",
              "         'Um @Iaaine i m not sexist but there are somethings girls just shouldnt do': 3,\n",
              "         \"Oh Katie and Nikki, just because you're both (bottle) blondes that doesn't automatically make you pretty. #MKR #MKR2015\": 2,\n",
              "         'RT @gracefituk: lesson of the day: fight salty ass hate with poems ð\\x9f\\x99\\x82 https://t.co/rBCW9FXGD5': 2,\n",
              "         'Blowing me away': 2,\n",
              "         '@tpstigers depends on the artist ;) my outfit has a cape.': 4,\n",
              "         \"@ManhattaKnight I mean he's gay, but he uses gendered slurs and makes rape jokes\": 1,\n",
              "         '@SnowByNight Well, it is steak &amp; kidney and not, say, lemon meringue. But still! \"Aid me and I shall bestow upon thee PIE.\" (paraphrased)': 2,\n",
              "         'Only rape jokes are sick and disgusting. Gay, race, and sex male or female jokes, will always be funny to normal people. Fuc the weirdos, puritans are pathetic, male feminists are creepers, cancel culture is problematic, and PC advocates need a therapist, and a life.': 1,\n",
              "         'last year/2017 he made these jokes about rape in a live-stream, he also mentally abused his ex who exposed him with proof , then he had this racist ass girlfriend that he just excused and never cared about anything she said. he also thinks it’s okay to us “gay” as an insult': 3,\n",
              "         'RT @RealParkerJ im not sexist but if youre a female bartender you agree to certain gender standards': 2,\n",
              "         'RT @KaiSchnitker13: Im not sexist or anything but womans college basketball is super lame': 1,\n",
              "         \"these dudes are soooo sus. they make rape, race, and gay jokes like I'm not sitting here trying to eat my sandwich.\": 2,\n",
              "         'Lmfao! @starrawassfuck pull out with somee kool-aid! #blackstatus love this girl always mkes me laugh!': 2,\n",
              "         \"Y'all are legit upset that you can't make rape jokes and gay jokes on here anymore without getting checked. Seek help.\": 2,\n",
              "         'So gunna miss my home church when I get back to school.': 1,\n",
              "         'Are you serious a score of 1???? Uh I hate Kat and Andre #MKR': 2,\n",
              "         '@shaner38 Avs REALLY needed the D man too...but they made right pick.': 2,\n",
              "         '@wetsprocket there are some statements made which are obvious slander (ie: what I do with funds w/Patreon, wth?), claims of fraud.': 1,\n",
              "         'Is #mkr sexist then? Four of the six teams in the fourth instant restaurants are an all-female team.': 1,\n",
              "         \"RT @stephenpeel1: It's National Kit Kat day in Belarus. Go on treat ur girlfriend or wife and ask them if they 'Fancy a finger'! #notsexist\": 2,\n",
              "         'Hated the rape jokes, hated the gay &amp; transphobic jokes. Loved your article.': 2,\n",
              "         'Do you the definition of a woman. It means an a adult woman. So you calling a 15 year old little girl is beyond me and I’m talking about the dude as well how are u gonna put words into this man mouth and tell him what’s he meant to call y’all was a bitch bc he used female...': 2,\n",
              "         'Pancakes are proof that there is a deity and they love us #MKR': 2,\n",
              "         'can we leave rape, virgin and gay jokes in 2019,,, what are you FIVE?!': 3,\n",
              "         \"Ironic that the Democrat's party animal is a jackass #ijs\": 2,\n",
              "         '@halalflaws @haroonstyles @AMohedin @islamdefense @greenlinerzjm beyond the five translators,here is Google translate http://t.co/6DMLdZ24c3': 3,\n",
              "         'I\\'m still bad at flirting with ladies. My game ends at \"how YOU doin\\'\"': 2,\n",
              "         '@ZamnEaseUpBitch I like your Twitcon bully !': 3,\n",
              "         'What I don’t understand is how the mention of god got into the mix. Maybe he should say to himself would Jesus call my wife a fucking bitch before he addresses another female': 1,\n",
              "         'is this a joke? gays can\\'t marry cause it\\'s \"wrong\" but a 43yr old teacher can rape her 15yr old student&amp;marry him? http://www.starnewsonline.com/article/20130118/ARTICLES/130119678/1177?p=1&amp;tc=pg': 4,\n",
              "         'RT @PaulyPMC: I object to any food item that rhymes with \"turd\" #MKR': 3,\n",
              "         \"Oh good. Groundbreaking 'older gay' sitcom kicks off with a cack- handed rape joke. Giving with one hand, taking with the other. #Vicious\": 2,\n",
              "         'Second consecutive U in Physics test #topoftheclass #nextstephenhawkins #comeatmeoxbridge': 4,\n",
              "         '@ElderAwesomeish \"relax afterward\" &lt;-- so after a standard 8 hour shift of child-rearing and housework you take over, or when she\\'s dead?': 2,\n",
              "         \"@EqualityMen The motive doesn't lessen the outcome.\": 2,\n",
              "         'and just like black people are allowed to say the n word , and how gays are allowed to decide if the f word if offensive to them , rape survivors are allowed to decide if the jokes are funny are not and it’s not a one size fits all category , just because one person says it’s ok': 2,\n",
              "         '@BillWeiss tweetbot is a paid client. :P': 3,\n",
              "         'Some jokes require an apology in my opinion. Beating gay children is one example for me. Is there anything that offends you? Jokes about your race? Your religion? Your appearance? Rape? Incest? I mean we each decide where we draw the line. Beating gay children is a line for me.': 3,\n",
              "         'RT @GRIMACHU: @coathangerproj This happens to men all the time. Men have no reproductive rights whatsoever. #Questionsformen': 2,\n",
              "         'I almost hope someone at the table mocks the #KillerBlondes because their deconstructed lemon tart looks like crap \"just like us\" #MKR': 2,\n",
              "         '@mcmahoniel unfortunately, no. text filters are too high-risk.': 2,\n",
              "         'The main character in my book is a #homeschool student who must deal with a bully. #Curriculum will be at http://foureverclub.com soon.': 3,\n",
              "         'Compton College is the greatest place ever. I just love bein there for some reason.': 1,\n",
              "         '#AddYourLink Self-Defense for Kids Resources and Success Stories http://t.co/VV5KXUK Bully Prevention': 1,\n",
              "         'are u slow i said when they let us as in FEMALES call them as in MALES bitch as in FEMALE DOGS': 2,\n",
              "         '@AnaSwanson No. Every bit of that is a lie. http://t.co/aDDvaaDVtW': 2,\n",
              "         \"RT @Shermertron: Have you ever had a female judge outraged at you for not paying child support for someone else's kid?http://t.co/wdEv96Lr3…\": 1,\n",
              "         \"RT @TheD: I think extremely fat girls should be forced to have at least 5 people approve of their outfit before they're allowed to wear it …\": 2,\n",
              "         '@bbbtmenw He made a virgin rape disgusting joke about Veronica/Victoria. he said women were gay by choice': 2,\n",
              "         \"@radarecho Ain't that the truth....Have fun!!!\": 2,\n",
              "         \"This is commonly found in cases of domestic violence, but it's a favored tactic of GamerGate as well.\": 1,\n",
              "         \"Nothing worse than undercooked egg mmmm then again maybe last night's chicken livers still trying not to gag #mkr\": 1,\n",
              "         \"Once again Kat and Andre make it through again! Which #MKR producers dick did they suck to get through? I'm fucking HATE them!\": 1,\n",
              "         \"RT @Senor_Andrew: @raquellykelly exactly. Like I'm not sexist, but most female sportscasters I've seen say dumb shit lol\": 2,\n",
              "         \"RT @brian_day15: I swear, I'm not sexist, but I honestly just cannot stand the woman college football announcer on ESPN2\": 2,\n",
              "         'WHAT THE HECK!!! Kat and Andre definitely do NOT deserve to say in #mkr!! So so angry right now 😡': 1,\n",
              "         'bully ray of impact wrestling worst style ever': 3,\n",
              "         'RT @jcsliva1999 @Pjmcentee she is blond what do you want #notsexist': 2,\n",
              "         '@chaeronaea is it weird that 1st time I saw sacco on Twitter I was like \"that\\'s @chaeronaea\\'s fiancé\"? usually it\\'s the other way around.': 3,\n",
              "         'This is why I say that you guys are not consistent. If I call you gay now or make a patriarchal, misogynistic and sexist slur to Olga or something stupid like rape is fun, I will be canceled immediately.': 2,\n",
              "         'Why is PewDiePie the number one subscribed youtube channel? His LPs suck, all he does is call things \"gay\" and make rape jokes.': 4,\n",
              "         \"@comattwow it's always been my stance ;)\": 1,\n",
              "         'however am achingggggg, spinning class situps and stretches have done me in #allbeworthit': 1,\n",
              "         \"I ain't got nothing to do with if they are gay or not. What I don't agree with is pushing they gay agenda. Pushing, pedophilia and rape as a joke and supporting a man who admittedly rape, abuse and Laughs at the very idea of it.\": 2,\n",
              "         'http://t.co/vOmCP3K Spam Bully, Software & Services #Software #Services http://t.co/te8cOaI': 1,\n",
              "         '@VCR_Blog Picked the Ducks to win Cup before season...but that was thinking Gibson would be great. Might pick Hawks nows, but...Ducks in it.': 1,\n",
              "         \"@JulianSemenza If you hadn't noticed, feminists are against taking pictures of anyone without their consent. Nice strawman tho, would trash\": 1,\n",
              "         'When did we go from: \"maybe gay people are humans\" to \"this guy made a teeny tiny joke about gays, disgusting cis white males, crucify him immediately, rape his corpse and and burn it\"': 4,\n",
              "         'Please leave the rape and/or gay jokes to conservatives and Bill Maher types. Please hear me out: these are homophobic comments even if you don’t see yourself as homophobic. These are implying rape is ok if it happens to the “right” people.': 2,\n",
              "         'I have never heard a man ever call another male coworker a f@cking anything in my professional office.. I also have disagreed with other female workers and didn’t call them a fucking bitch (I might have thought it though)': 3,\n",
              "         'RT @nrrrdcore: At the very least, questions will be raised. And we now understand that women in our industry must choose between incompeten…': 1,\n",
              "         \"its really dehumanizing, makes us feel like we just a pair of tits and ass yk. if women tell you not to call them female, just shut up n do it. a lot of men dont get that it's basically another little less offensive way of calling women bitches\": 3,\n",
              "         'or so I can direct parents there around xmas time. :P': 1,\n",
              "         'omg, you guys. they are misusing the word gaslighting repeatedly. must not have gotten to that on their SJW word of the day calendar yet.': 2,\n",
              "         'how can you get a 7 for a dessert advertised as LEMON tart if it barely even has any lemon... #mkr': 1,\n",
              "         \"dear freshman boy, rape is not a joke, calling someone re*****d is not funny, that inanimate object is not gay, &amp; yes, I know I'm hot. bye.\": 3,\n",
              "         \"I can laugh at rape jokes, I can laugh at making fun of women and gays and minorities. But there's its really fucking obvious when someone's being funny and when someone's being an asshole.\": 2,\n",
              "         \"I'm gonna cyber bully some of my followers! Via the afterlife\": 1,\n",
              "         \"RT @BellyFlower: Kind of disappointed the 'promo girls' have gone...they weren't very nice but Kat from WA is horrid! #MKR #MKR2015\": 3,\n",
              "         '@sschinke @tomdcc that exists in web.': 2,\n",
              "         \"Oohhh they're back. And now there's three hot chefs on my screen. It's almost too much to bare... Almost 😉 #MKR @FourinHand\": 2,\n",
              "         'RT @peteBREAUX_: Dessert so deconstructed, you have to go Coles, buy the ingredients and make it yourself #MKR': 3,\n",
              "         \"Hey, so... If your activism as a white gay person is to show up to a Black Lives Matter Protest in a rainbow Pride float and showboat, then your activism sucks. (Vaguing about the person who sent me the weird rape jokes. Don't worry about it.)\": 1,\n",
              "         \"RT @ShawnFinchum Women SHOULD NOT Participate in No Shave November , it should be legal for them Ain't No Guy want a hairy chewbacca women\": 2,\n",
              "         \"Anywho enough of that shenanigans I'm going to school😊\": 1,\n",
              "         'College football is all about money but the players Tht make college athletics so successful get nothing. Players need to get paid': 1,\n",
              "         \"there's always those people that say don't joke about shit like rape,being gay, suicide, fat people ect but people do it's lighthearted shit\": 2,\n",
              "         'How can 5H preach equality & feminism but praise Frankie Grande who makes rape jokes and think lesbians choose to be gay': 1,\n",
              "         'Honestly, @nypost covers are all trash. NY Post Makes Gay Rape Joke on Jared Fogle Cover | http://Advocate.com': 2,\n",
              "         'Chicken livers. Do they have chianti? #hannibal #mkr2015 #mkr http://t.co/bYp2nqMtO1': 3,\n",
              "         '@seanbonner @metsfan anything that requires a government ID is a privacy concern. anything that requires money is a bad idea forever.': 2,\n",
              "         \"RT @lewisinho @OdemwingPlay If you have a vagina, don't try and be funny.\": 3,\n",
              "         '@jessiiccaa two different kinds of rape jokes plus easy cliche gay and nerd humor': 2,\n",
              "         \"@cjjmiller since you've shown dishonesty twice now, and support gay slurs and rape victim jokes, why should I believe your view of GamerGate\": 1,\n",
              "         'RT @BanterUtd: @MT8_9 @cflfrances hahahaha, the single greatest tweet ever posted against feminism. Good fucking job man! #fuckfeminism': 2,\n",
              "         \"RT @Joey_Eitner Please, let's hear the woman's perspective on a sporting event. That went well #notsexist #justobservant\": 1,\n",
              "         '@KarkatV97 ((I get way too upset over people using gay as a derogatory term, people calling trans people \"it\"s, rape \"jokes\" and suicide--': 2,\n",
              "         \"RT @jgmason93 Superb parking; couldn't have done a better job myself LOL #womandriver #notsexist #2013writeoff http://t.co/4mqjpCMnDs\": 1,\n",
              "         'We want everyone to know we are not just pretty faces noone said they were pretty though 😒 #MKR': 2,\n",
              "         \"Lots of love for @femfreq, @spacekatgal, @TheQuinnspiracy. I can't imagine how hard that was for them to watch. How violated they feel.\": 4,\n",
              "         'Hillary´s friends, supporters and funders treat women as slaves, kill gays, abuse women, rape, if you want to know a sexist look at her.': 2,\n",
              "         '@PeerWorker you made a false equivalency, I called it on you, and you threatened financial consequences.': 1,\n",
              "         'All the other schools got 3 weeks of break. Thanks Calabasas 👍': 1,\n",
              "         'I make a joke about Trump #AndThenSuddenly i get DMs threatening my family and a surprisingly high number of gay rape threats from the supposed Christian right?': 3,\n",
              "         'someone please tell me that Kat &amp; Andre get sent home tonight #mkr': 4,\n",
              "         \"Some people are so illiterate, get back to school and don't type like you're 5.\": 1,\n",
              "         'RT @PrincessBravato: This bitch oh my God': 1,\n",
              "         '@3Wendi I love that one. Because you have to be intelligent (gasp) to use it properly. And \"feminazi cunt\" is WAY too easy. Gotta have fun.': 2,\n",
              "         '@TonyCDKelly \"Bedroom Bully\" Mix Cd By @GappyRanks - #FreeDungloadLink : http://bit.ly/npG8EB - ☑ http://yfrog.com/khpu6tkj': 3,\n",
              "         'med./psyc.majors; Q: is hatred (et al) substitute for orgasm / cruelty-bullying substitute for foreplay?? Any goodBooks onThis? Thx.': 2,\n",
              "         '@Deanowen118 @PhilDoran21 What charming \"lads.\" I can\\'t imagine why women WOULDN\\'T want to impress YOU!': 4,\n",
              "         \"@fernhilldammit You're just an evül feminazi arentcha?\": 2,\n",
              "         \"yes ok he's fine with gays and he's against rape jokes but again, he doesn't say anything apologizing about the women thing?\": 3,\n",
              "         'RT @mickystre: “@stweet_heart: I still refuse to believe that his real name is Drasko!': 1,\n",
              "         '@EdWardMDBlog @JenniferCohagen No interest in your conspiracies.  I asked you a question. Are Daesh Libya?': 2,\n",
              "         'RT @Kobane33: After defeating #ISIS, Kurds return to #Kobane to rebuild the city.Retweet to tell the defenders they are not alone! http://t…': 1,\n",
              "         \"@discerningmumin No, they aren't.\": 3,\n",
              "         'You think it’s normal to go to work and call your female colleagues “fucking bitches”. Exactly where do you work?': 1,\n",
              "         \"After Nancy Binay Skin Colour Puns, Gay Filipino Comedian's Rape Joke Incurs ... - International Business Times AU http://fb.me/RxMUJE3T\": 1,\n",
              "         'I Neva met a bully nigga I could beat': 2,\n",
              "         'from guaranteed sex to being bullied by 8 year olds #inbetweenersmarathon': 2,\n",
              "         'Haha Kate, wiped the smile off your face too #mkr': 2,\n",
              "         '@alyciasthot well i mean frankie said that gay men are born with their sexuality while lesbians choose to be gay and he made rape jokes': 2,\n",
              "         '@Leexavier @brunagih e a toca do bulling haha': 2,\n",
              "         \"RT @ParissaXo: i'm tired of u feminist bitches bc this is just disgusting https://t.co/S91o478GJ2\": 3,\n",
              "         '@SkoomaPipe Because she\\'s not a \"feminazi\" and is really cool. I have a lot of friends with different views.': 2,\n",
              "         \"@Tjprodigy10 EVERYONE thinks so! I'm glad that there's someone like you that actually cares about the anti-bullying subject.\": 1,\n",
              "         'Adolphus Real Estate! No jokes but if you ask anyone around me they all Adolphus (adofuro) is what we call gay people, otin add rape mo! Chai aye le mhen': 3,\n",
              "         \"Rob's hat\": 1,\n",
              "         '@eugenegaytard BUT BUT WOMEN CAN\"T RAPE! no this breaks ma feminazi brainsz': 2,\n",
              "         'Almost crying. But not quite. I HAVE SOMETHING IN MY EYE, OKAY?': 3,\n",
              "         'So this season of #MKR is going to finish in which decade? Such a drag': 1,\n",
              "         '@MGTOWKnight @FactsVsOpinion ...cue the NAFALT in 3..2...1...': 2,\n",
              "         \"RT @mirahimage: @freebsdgirl hoping they don't need you to speak because he buried himself.\": 2,\n",
              "         \"RT @ben_thomas93 Call me sexist but really don't find female comedians funny at all\": 1,\n",
              "         '@itvnews @mittromney @barackobama @robertmooreitv': 1,\n",
              "         \"RT @NateGutman: Just to clear things up, I don't skip female comedians because they're female. Just because they generally suck. #notsexist…\": 1,\n",
              "         'How is the deadbeat Dad/tennis coach/friend of the judges still in this show??? #mkr': 2,\n",
              "         \"Ok think i'm gona be sick on the bus\": 2,\n",
              "         \"I'll just come back after this round. Thanks. #MKR @mykitchenrules\": 3,\n",
              "         'RT @RudawEnglish: BREAKING: #ISIS exploded Khorsibad archaeological site, 20 km east of #Mosul. The site includes many ancient temples. htt…': 3,\n",
              "         'RT @Craigles60Craig: So do you think pink undie skank meth teeth has ever cooked anything before? #mkr': 1,\n",
              "         'I don’t find it attractive when dudes call females bitches and hoes': 2,\n",
              "         'Yall know im Grown BOY !!': 1,\n",
              "         '@crazycultfilms You should have vomited and shit into a garbage bag and handed it to him.': 2,\n",
              "         'I mean, we could call the entitled bitches, but then we’d be hurting my female dogs feelings. She’s a good dog.': 1,\n",
              "         '@Dreysander1 Biurny Pegeuro put a man in jail for 20 years, never even had sex. Lied to her friends about ditching them at a club, so she...': 3,\n",
              "         \"RT @BigBupIsWatchin: @freebsdgirl THEY DON'T EVEN GO HERE\": 2,\n",
              "         '@ElBloombito How nice you are to ridicule someone who makes an effort to speak another language. Bully for you...': 1,\n",
              "         'Uh, @twitter @safety? I am displeased that you want me to reply to these emails with more details when I file a report.': 2,\n",
              "         'So far in this short convo 2 ND fans, @tTmayneMayne @shodals, have made gay and handicapped joke and threatened to rape me. Stay classy Nd': 2,\n",
              "         'RT @DanielSheppard5: I felt so out of place at that party last night. There again so would any man who stands in a kitchen for that long...…': 3,\n",
              "         '@MitchMilesMurph yup': 2,\n",
              "         \"@girlziplocked @DoubleUnionSF I have... a whiteboard. And a mental list that I run through several times a day. I don't know PM stuff yet.\": 5,\n",
              "         '@KellyTurner99 @buellerishere Those views are written in the Quran and Hadiths and are polled by Pew research, idiot.': 2,\n",
              "         '@98Halima @johnnygjokaj @somersert @cdnKhadija @BilalIGhumman @rfrankh53 And why do we care about this guy?': 2,\n",
              "         '@logicalmind11 @ummsuhaym That is a lie. http://t.co/rWT9Dg0JJ2': 2,\n",
              "         'Nah heifer, YOU can’t read. I just said god forbid I you call a female broke like she ain’t the one fixated on ya pockets cause I knew one of you heifers would catch a bitch fit over that statement and try to come for me. And you did you proved my point': 3,\n",
              "         \"I don't know why people joke about gay people and Europe. Europeans are scared of the dick and the pussy. They're the reason rape exist.\": 1,\n",
              "         'Feeling quite sorry for the NSW promo bitches! #mkr': 2,\n",
              "         \"The other teams KNEW kat would vote strategically, why wouldn't they score higher to get rid of kandre #mkr #cunce #katisadog #katisdirt\": 1,\n",
              "         'Haven’t seen a reference to LGBTIQ like that since Kevin Spacey saying he was gay when allegations against him first surfaced. Also, his take home message - not ‘don’t joke about rape’ but essentially, ‘don’t get caught (on Facebook)’. Whole thing was awful': 3,\n",
              "         '@shelbylynne74 @MechaSauce Women have MORE legal rights than men.': 2,\n",
              "         'If you say \"faggot\" \"gay\" or \"retarded\" as a joke or use rape or suicide in jokes, I have no respect for you and we can\\'t be friends.': 3,\n",
              "         '@FrankieJGrande rape jokes are not funny nor are they \"game play\" and your gay male misogyny is not only offensive but cliched. #BB16': 3,\n",
              "         '@dunno_someguy i love &amp; support sex workers. am friends with many.': 2,\n",
              "         '- A Misogynist @parody_guy A woman wants her man to treat her like a princess to the world and fuck her like a whore. - Someone': 2,\n",
              "         'I want that moovie Cyber Bully to come on again.!': 2,\n",
              "         'RT @trinnybopper: \"We want to stay in this competition because we haven\\'t finished telling everyone how pretty we are\" #mkr': 2,\n",
              "         'to all men, women, gay, lesbians, and etc. Rape jokes, ‘sex-insulting’ jokes, harassment jokes, and imitating people who have special needs are not laughing matters. God created us to help each other, not harm each other. To all people who tell this kinds of joke, Fuck off!': 3,\n",
              "         'class should be cancel. #Unisza': 4,\n",
              "         'How the fuck did Kat and Andre get thru #mkr': 1,\n",
              "         \"RT @AuntyNannon: I can't figure out if that promo chick has a receding hair line or just a massive forehead  #MKR\": 1,\n",
              "         \"The same people who say rape joke aren't funny are the same people who claim to be pro gay right but use gay as an insult.\": 2,\n",
              "         '@GarryBoyle40 @EamonnHolmes  Thats exactly what I mean His ego will be well inflated': 2,\n",
              "         'So cause it’s illegal in Nigeria we should be making sexual assault/rape jokes because it involves a gay person ?': 2,\n",
              "         'RT @YumchaAddict: mmmm Chinese Snack @lisamromano @garydlum @doriangray05 @heidi_han @mattsparks88 @binksterb #MKR mmmm http://t.co/epKwLmr…': 1,\n",
              "         'Ethan was a weird gay who lied about being rape, Alex is racist, nick was racist too and very toxic, also ruben....he was racist, sexist, abusive and is the same pattern eveyday with this clout chasers guys': 2,\n",
              "         \"he does end up killing mr evil gay bc he wont rape the mc cuz he met her before when she was mr 's prisoner and mr was Extremely 'dont anyone ever even Joke about prisoner mistreatment i Will shoot you' at all times but its still like AAAA.\": 1,\n",
              "         \"It's 2014: •call ppl by the pronouns they want u 2 •don't use the word faggot, even if ur gay •don't make rape jokes • don't say retard •thx\": 2,\n",
              "         \"RT @lwilliams0594 I'm not sexist, but this woman bus driver has nearly killed 2 pedestrians in the space of 4 minutes #sortitout\": 3,\n",
              "         \"RT @ImKindOfASavage I'm not sexist but if the rally games were all sport games then the boys would win every game hands down\": 2,\n",
              "         \"Call me crazy, but I like my food constructed. I wouldn't pay for a build it yourself dessert #MKR\": 2,\n",
              "         'RT @JamesBarrett666 has a female comedian ever made anyone laugh ever? call me sexist but women comedians are not funny': 4,\n",
              "         '@iMrBarfield it starts Thursday. My classes are canceled for tomorrow tho😌.': 2,\n",
              "         'A serious post about bullying & mental health going up tomorrow - please view with an open mind. Thanks.': 4,\n",
              "         'Evidently the @nypost believes the #JaredFogle allegations are an appropriate time for disgusting #gay #rape jokes.': 2,\n",
              "         \"I wished Kat and Andre would have left. Damn it, I can't stand them. #MKR\": 2,\n",
              "         'Meanwhile back in the English Boyz tent. #mkr http://t.co/ezWQnQIiYH': 2,\n",
              "         \"@drurbanski @trentmkays i've just seen way to many abuse preventatives lately that suggest some sort of pay wall. can't get behind that.\": 1,\n",
              "         'tw / rape , homophobia if he pulls another rape joke or another \"i used to be gay\" or blames the increase of cases on rallies then im turning it off idc': 1,\n",
              "         'Indian T-shirt brand apologies for gay rape joke: Gay rape joke goes viral in India, but Facebook says it does... http://dlvr.it/3HCc4r': 2,\n",
              "         '@Assiye61 @MaxBlumenthal The Quran.': 1,\n",
              "         \"RT @nigewillson: As a vegetarian, 'chocolate chicken cake' is heaven &amp; hell all in one meal ! ð\\x9f\\x98\\x83 https://t.co/RXFyKYUXGq\": 2,\n",
              "         \"RT @LiamDangerSmith: Call me sexist, but I really don't like female country singers\": 1,\n",
              "         'Being quiet while someone makes black jokes is contributing to racism. You are apart of the problem. Same with gay jokes, rape jokes, etc.': 3,\n",
              "         \"@bradybaggett @LUVSHINECAFE And it's not okay to say that only a few are extremists.\": 1,\n",
              "         \"I don't want #MKR to end!\": 1,\n",
              "         \"RT @Mr_BrightEyes There is NOTHING more retarded then a female who talks shit about kicking a guys ass. I'm not sexist but get real bitch.\": 3,\n",
              "         \"Wow thats a low group score! They deserved a little more don't you think? #mkr #sydneygirls @mykitchenrules\": 1,\n",
              "         'RT @esilver829: @MT8_9 This is dangerously accurate': 1,\n",
              "         \"Bring on bloody nose season, I'm ready. #noseissues\": 2,\n",
              "         'I put the js on the hoes look clueless I put the Designers on the hoes get stupid #truestory': 1,\n",
              "         \"Harry said Dion was gay as a joke and T.Susan was like ranting that it's nothing wrong and Harry said he might rape guys and Tsusan was so annoyed\": 1,\n",
              "         '@Jord_Is_Dead http://t.co/UsQInYW5Gn': 3,\n",
              "         'my brother and his12 year old friends keep telling each other to kill themselves, making rape jokes and using gay as a slur. this is not ok.': 1,\n",
              "         'A cheeky, gay brand whose name is a joke... about prison rape. My Facebook ads are so cursed.': 2,\n",
              "         'Out come the fingers and toes to do the counting. #MKR': 1,\n",
              "         '@AudreeJo this issue is mostly that James Potter is a bully, even in the Petunia/Vernon backstory he is very unlikeable': 2,\n",
              "         \"RT @PrinceLaQroix: @MT8_9 @philippenis 29 boys no girls killed isn't violence against boys 2 of 6 killed by Eliot Rodger = girls and is vio…\": 1,\n",
              "         \"“@IvanTrba: At least the #promogirls might have a future in creating new Ben &amp; Jerry's flavours #MKR #icecreamqueens” Offal and marrow?\": 1,\n",
              "         \"@codeGrit Anti gay jokes, rape jokes, anti-Semitism etc. I mean, I understand it's just childish banter, but it doesn't look great...\": 2,\n",
              "         '@SchoolBoyB_ Lets go ice skating when you get to CT': 3,\n",
              "         \"It's just a simple rape joke... racist joke... gay joke.. it's definitely not desensitizing us to the bigger picture at hand.\": 1,\n",
              "         'I really don’t get it. Why do the gay jokes have an exception? What about all the racist, religious and rape jokes that are made?': 5,\n",
              "         'A bully van comes and see one black boy on the road hooded up (ME) and they reversed and kicked': 2,\n",
              "         'This is the farthest thing from an apology. You denied saying it and actually had the balls to call your ignorance and hatred towards a female ‘passion’? Who’s the fu**ing bitch now?': 1,\n",
              "         'When is the drag show ? #ECU': 2,\n",
              "         'Yahoo has a great story about bullying. Okay, that sounds weird. they have a great story about standing up to a bully. http://t.co/jkY9wCs': 3,\n",
              "         'The term \"feminazi\" is actually really insulting lol': 5,\n",
              "         'Me and @LaDyMavV11 stay on instagram and twitter in this class!!': 3,\n",
              "         'First bus ride as a Warrior and I get my phone! #eatshitsunshine!': 2,\n",
              "         \"Listen, you're sexist. @TommyJohn15 Listen, I'm not sexist, but every dumbass driver I've crossed lately has been a female.\": 1,\n",
              "         'Collin admits that he is easily confused by a sausage. #MKR': 3,\n",
              "         'It was a rape joke. Being gay doesn’t give you a pass to be a misogynist pig.': 5,\n",
              "         'Dont take your own problems out on me, bitch.': 2,\n",
              "         'RT @softsurv: Because seriously, trolling or not, all it takes is one legitimate resident of Crazytown. @freebsdgirl @Spacekatgal @TheQuinn…': 2,\n",
              "         'Just let some \"dude\" walk past your mom and sister and call them \"fucking bitches\". Don\\'t care if your mom and sis are whiners or any of that, just because they\\'re women and most men are threatened by strong females. AOC called it for us- women': 2,\n",
              "         'is a man who calls women females a dealbreaker?': 2,\n",
              "         'rape jokes, child molestation, blatant gay slurs, racist inferences etc. One of the VA\\'s who accused Vic of sexual assault was laughing about a joke of a \"rape corner\". There was no evidence of Vic\\'s assault so people think it is weird they were laughing at rape jokes.': 1,\n",
              "         'Where is #mkr located tonight?': 2,\n",
              "         \"Cat you're an ugly and mean bitch! You miss can go fuck yourself! #mkr\": 1,\n",
              "         '@chsfword Feminists started #FeministsAreUgly take it up with them...': 5,\n",
              "         \"I've got literal Nazis in my mentions, ten bucks says @Twitter enforcement does fuck all about it.\": 1,\n",
              "         'Or because, even without rape allegations, hes stupid, purposefully offensive, sexist, racist, and incredibly gross. As a person. The dems are just slightly less racist and sexist reps. Oh and they allowed people to choose, gays to get married, and keep church and state separated': 1,\n",
              "         \"That one ugly hoe that even the hoe culture doesn't wanna accept\": 2,\n",
              "         \"What is it to you if a Muslim is gay? They're not hurting anybody, it's their life, mind your own business. Making rape jokes though actually promotes rape culture and triggers traumatic memories.\": 1,\n",
              "         'Why boys crack up at rape jokes, think having a girlfriend is \"gay,\" and still can\\'t cry—and why we need to give them new and better models of masculinity, from @peggyorenstein:': 3,\n",
              "         'RT @up_and_away149: #MKR To stop this strategic voting, perhaps announce all the scoring for each group of instant restaurants when they go…': 2,\n",
              "         \"Get Gordon Ramsay on there he'll sort #cuntandandre out #mkr\": 1,\n",
              "         \"@Caspasia_Boleyn uh, yeah. He's my stepdad. Thanks for the call out, though.\": 3,\n",
              "         'people who make gay jokes and rape jokes can go away forever tbh': 3,\n",
              "         '@IAmThe1Teacher @IronmanL1 @stevecorrales80 Try reality teacher. http://t.co/X8sqLd5jZU': 3,\n",
              "         \"or do offensive things now because /someone/ will say something. because oh no you can't make rape jokes. oh no you can't make gay jokes. oh no you can't be fucking racist.\": 3,\n",
              "         'OK? A prison rape joke isn\\'t exactly \"classist\" though. At most it could be homophobic, but that\\'s a completely separate discussion since she\\'s literally gay.': 2,\n",
              "         '@keithlaw Armstrong cheated in the dirtiest sport in the world. #shockedface': 2,\n",
              "         'not talking to you if theyre angry, calls women females, makes gay jokes, rape jokes, racist jokes etc': 1,\n",
              "         \"To think that we don't have to go to school on Monday is probably the best feeling  in the world #relief\": 4,\n",
              "         '@KeenGaze I keep screengrabs not links, sorry.  Google \"Kate Millett sister NOW\" it should be near top of list.': 3,\n",
              "         \"@evyncollins so if someone made a gay/trans joke it would be okay bc it's a joke right? FUCK NO. Joking about rape is ok bc it's a joke? NO.\": 1,\n",
              "         \"Nigga I just made a joke about a guy who got beaten to death outside of a gay club and made a rape joke about it and you are still talking to me. What does that say to you and your sensibilities. Aren't I despicable or did you get that it was a joke?\": 1,\n",
              "         \"RT @regxb: I'm not sexist but women are just bad at driving lol\": 2,\n",
              "         'honestly, i wont support someone who makes jokes about rape and uses the term \"gay\" just to insult his opposer': 1,\n",
              "         '@BasicMountain i have some pretty fantastic wonderwoman stuff. but i prefer marvel, hands down. DC chars seem to emo.': 3,\n",
              "         'A “grown ass man” thinks rape jokes are okay, believes that homosexuality is souly from trauma and that gays are only gay from assault, that defends himself from being... a predator.. AND uses the R word as an insult........ pull over I’m nauseous': 2,\n",
              "         \"@somanybees I've seen posters up in men's toilets saying basically 'don't be rapey'. The rape and gay 'jokes'(?) here are totally misplaced.\": 1,\n",
              "         '@tarah @girlziplocked @hypatiadotca @justkelly_ok @ameliagreenhall well, you have his support, but you just lost mine.': 3,\n",
              "         'Someday, a gater will have an epiphany regarding the definitions for DoS/DDoS. This unbelievable feat will be a sign of the apocalypse.': 1,\n",
              "         \"So now it's guilt by association. I am 100% gay. No woman has anything I want. I will never rape a woman. I treat all women with respect. But I am a dog because of my gender. You are a sexist. You are doing exactly what you hate men doing.\": 3,\n",
              "         'These two need to be in the dictionary under \"Gen Y\" #mkr': 3,\n",
              "         \"@xdannock maybe someone will use Kat's weber #mkr\": 2,\n",
              "         'Everyone has immunity this week...Kat and Andre are sure to fail big time #mkr': 1,\n",
              "         \"RT @BlackOpal80: Well @MT8_9 I checked out Jessica Valenti's Twitter. Nice objectification of men and threats of violence. http://t.co/xRhx…\": 2,\n",
              "         'RT @frayers101: 3 car pile-up outside the house, 3 women drivers... #NoComment #NotSexist #Coincidence http://t.co/HQiAKjJwUW': 2,\n",
              "         \"He made jokes about pedophilia, anti-gay bigotry &amp; rape. Now people believe he's a pedophile, hates gay people and he's a rapist. With them already believing he's an already a terrible person, it makes sense why they'd hate him. Same reason people hate Zack for false accusations.\": 2,\n",
              "         'Kat, you are a reprehensible individual #MKR': 1,\n",
              "         \"RT @SkyeLittlejohn: As of tonight, I am officially finished with this show. I've seen plenty of bullshit before, but this is ridiculous. #M…\": 2,\n",
              "         'Infinite campus is not letting me see my schedule t-.-t': 1,\n",
              "         'Told Gabrielle Union her movies were terrible Tweeted Jalen Rose “what’s the answer to 9x9?” Slandered Lagerrette Blount’s Super Bowl performance w/ the Patriots Made a gay joke about Jalen Ramsey Called Big Ben “Big Rape”': 2,\n",
              "         '@AnnabelleSpeaks My school made us do disposable swim diaper and then a reusable one over that. Double diapering, they call it.': 1,\n",
              "         \"@IamBustaFree I'm on my way to ur house from the exchange\": 2,\n",
              "         'The guy wearing the \"Go make me a sandwich\" t-shirt and cracking rape jokes. And calling everything \"gay\". The 12 yr olds are better behaved': 2,\n",
              "         'Eating breakfast and playing the sims': 2,\n",
              "         'Monday he entered a cafe, as he was told MANY times not to as it jeopardizes their safety, only to call an innocent female worker a “stupid bitch” while recording the staff working.': 3,\n",
              "         'I need dumbbells w/plates, pref up to 60 lbs on each. Suggestions to find these in the Bay Area cheap?': 2,\n",
              "         '@vijay_fansclub  Iam waiting for that for a long time.They are showing saravanan meenatchi serial.': 2,\n",
              "         '@Sir5000 not sure. was sent screencap': 3,\n",
              "         \"Agreed. Relationships would be much better without any men. @Msaleh14 Listen I'm not sexist but no girl should be the man in a relationship\": 3,\n",
              "         'I will stop tweeting this when it stops being necessary: 1. rape jokes are never funny 2. retarded &amp; gay are not words to be used as insults': 1,\n",
              "         '@g0ssipsquirrelx Take a guess...what %?': 1,\n",
              "         \"What restaurant around here isn't overwhelmed by GDC traffic? I require fuel in the form of gin.\": 2,\n",
              "         'oh okay cause i thought a girl who’s celeb crush calls females bitches said harry was overrated': 2,\n",
              "         \"sharing #suaju After Nancy Binay Skin Colour Puns, Gay Filipino Comedian's Rape Joke Incurs ... - Intern.. #skin http://dld.bz/cAr7x\": 2,\n",
              "         \"@PhilippineStarVice Ganda's sickness of being gay has no cure. So don't overreact with the rape joke. He has more personal issues than this.\": 2,\n",
              "         \"I'm hopeless. I spent my day reading again. Not packing, not learning a new piece, not exercising whatever. Just plain reading. Uh-oh\": 2,\n",
              "         \"@theMirai @SirGoldenrod @sloshedtrain2 @srhbutts it's tied to twitter user IDs. and it's not a constant update. it updates when i run it.\": 3,\n",
              "         'REASON WHY I DONT HAVE FEMALES FRIENDS Bitches will sit in your face &amp; text your nigga or the nigga you fucking Bitches will sit in other females faces &amp; let them talk shit about you Bitches will try their best to be just like you &amp;amp; call it competition Bitch': 1,\n",
              "         'Kat is such an awful bitch!!! #mkr': 1,\n",
              "         '@ShaePhoenix Would looooove to see a feminazi take on this ha ha': 1,\n",
              "         'i just showered in the hottest possible water while and exfoliated like crazy for the past 30 minutes. not even joking. fu, science.': 3,\n",
              "         'gay people can make jokes about being homophobic but you saying you wanna rape someone is disgusting I hope you choke': 2,\n",
              "         \"But since school started I can't really sleep in\": 1,\n",
              "         'Light up a stage and wax a chump like a candle!': 1,\n",
              "         \"@MrBrandonStroud oh look, Brie with gay and prison rape jokes. She's the bad guy here, right?\": 3,\n",
              "         'Krazy-eyes Kat needs a kick in the ku...': 2,\n",
              "         'Rape ,racist &amp; sexist jokes are unacceptable like but like I’m gay &amp; will always find homophobic jokes funny but that’s just me being me': 1,\n",
              "         \"Jo loug openly aur collectively transgender persons ka mazaaq uraatay hain, rape jokes martay hain, unhay aap kaise samjhayen gay ke racist comments pass karna isn't humor.\": 1,\n",
              "         '@BiblioEva I just looked at my review &amp; it seems the gay character was raping a servant boy and both the rape and his gayness were \"jokes.\"': 1,\n",
              "         \"Drasko only likes his mum's hot pot, especially when she's drunk and unconscious #MKR\": 1,\n",
              "         'When Drill Sergeants use to say “female”, for some reason (I guess the aggression in their voice), made it feel like that they were calling me a bitch. I swear it did. They couldn’t call me a bitch to my face so I believe that it was their version of it.': 1,\n",
              "         \"First, i really don't understand why the gays go in for femme fatale. Second, no Twitter joke should justify rape https://twitter.com/feimm/status/646310006648893440\": 1,\n",
              "         'I don\\'t know many people who confuse sex with rape. The point is that the \"joke\" is both trivilizing rape and stigmatizing gay sex. Your clarification is completely unnecessary.': 2,\n",
              "         'Kat and Andre should be going home. Mongrel hypocrites.': 2,\n",
              "         '@tsuundere_bot @feyris_eboobs @MeanGoats @Uni_ebooks I pictured her as a man can have a man wants rights, feminazi swarm like piranhas': 2,\n",
              "         'Man I don’t even know at this point. Like it apparently used to be because im a dreaded SJW who thinks horse rape jokes are unfunny but atm I just sit around drawing gay shit and shitposting so idk what I’m even doing that’s interesting enough to call for stalkers': 2,\n",
              "         \".@Trykezhighflyer True. The issue is not because he's gay. We should respect gays. That joke was low though. Rape is a serious matter\": 3,\n",
              "         '@UnoriginalJohn @girlziplocked @ameliagreenhall bahahaha': 3,\n",
              "         \"two hours into school, three rape jokes, and two gay jokes and that's only what I've heard. I had a double period, this, and homeroom. wtf.\": 2,\n",
              "         'yk in sixth grade when you would call someone a bitch then they would be like “im not a female dog ”': 3,\n",
              "         \"Jokes are everywhere. I'm not saying that nobody should do anything that could potentially hurt someone because anything could. Making fun of rape vicrims or gay people ect will definitely hurt a lot of people though.\": 3,\n",
              "         'Wow, @TimCAD, a rape joke and a gay joke at the same time. Stay classy.': 2,\n",
              "         'Ever been called a \"feminazi\"? Watch our new video! https://t.co/8tHjbcvniy @omniatweets @sistahscholar': 4,\n",
              "         '@Spacekatgal I\\'d say this is accurate of the feminazi girl \"gamurz\".': 2,\n",
              "         'When a ‘joke’ debases 50% of the human race, it’s not funny. Change the target from female to black, gay, etc and see how it flies. Men degrading women for LOLs is as old as rape.': 1,\n",
              "         '@AwesmeNathan rape and gay jokes coming from the gay guy who has had family issues with rape? fucking hell...': 3,\n",
              "         'liberals: US has been a bully to take advantage from all other countries economically; actually down grade is a good thing #tcot #p2 #p21': 2,\n",
              "         \"If he won't do anything for you kick that nigga to the curb cause its somebody that will waiting for a chance 😆\": 1,\n",
              "         \"RT @CalebKn: @YesYoureSexist doesn't make me sexist. I have a right to an opinion. I believe in equality for those who are equal. Man or wo…\": 2,\n",
              "         \"@mikeyfenn You appear to have common sense.  So, no, you'd be totally wrong.\": 6,\n",
              "         'Gretchen Atwood: Rape-jokes-are-funny twitterWhiny-gay-white-men twitterTERF twitterBoy-band-stans twitterCats-obvi-better-than-dogs-don’t-@-me twitter http://zpr.io/tdWDK #funny #maxcodedy #comedy': 1,\n",
              "         \"Dealing with journalists 101: Don't use slang if you don't fully understand the implications. // @wadhwa\": 2,\n",
              "         '@Ghostcrawler Still the majority is using blood dks and have a fancy run unlike other groups with different tanks. It is about the class.': 3,\n",
              "         \"Gay male rappers sexuality are reduced to prison rape jokes and the main character pausing over innuendos for dick? That's how this goes?\": 1,\n",
              "         'Black ppl be so against discrimination based on color but anytime a black female has a problem with me the first thing they do is call me a white bitch lmaooooooo I don’t understand.': 3,\n",
              "         '“i have gay friends so i can’t be homophobic” you can still be homophobic if you have gay friends lmao. also saying i made a rape joke when i absolutely did not. you ship two guys but as soon as it’s two girls you’re like ew no. you’re homophobic.': 1,\n",
              "         'Saying “Gay Jesus” on Netflix is okay is like saying rape jokes are not offensive. Where’s the respect and moral boundaries, people?': 4,\n",
              "         '@AnonHeel Really? Why is it not embedded for Buddhism, Hinduism, Tao, Judaism, Christianity, agnosticism, atheism, and animism?': 1,\n",
              "         '@_DirtyTruths Just drone mindlessly on if you like. By now you could have actually brought some facts to the table.  But you have none.': 3,\n",
              "         \"RT @Matt2theRios: Hats off to girls who light their own weed. I don't understand why most girls can't handle the simple mechanics of a ligh…\": 4,\n",
              "         'RT @Jus_HollyWood Call me sexist but 98% of y\\'all women cannot drive man, and 100% of y\\'all read this and said \"not me\" in y\\'all head': 2,\n",
              "         'RT @JuddApatow: Releasing private Sony e mails to hurt people is the same as releasing nude photos of Jennifer Lawrence.  Why are they ok t…': 2,\n",
              "         \"A bully bitch has never crossed my path. I've always been to tall for all that, shoot bully THIS DICK!!\": 2,\n",
              "         \"@Julia_Yates no we got kicked out so we came to the bull it's not good\": 2,\n",
              "         '@stirfryedshana yes, I can get down w/ lighthearted gay jokes that are actually funny, but the rape/abuse jokes are just never funny': 1,\n",
              "         'Miley Cyrus Rides Blow-Up Dick, Tells Rape Joke at London Gay Club http://fb.me/39Bf3ZdWc': 1,\n",
              "         'A 7? for unboned spatchcock and instant couscous? #MKR': 1,\n",
              "         'SO CLEVER @Billy_K11: How are girls so bad at math when they know so much about hair volume and the volume of their mascara #NotSexist': 3,\n",
              "         '@thain1982 http://t.co/2AXPNlSIkg': 2,\n",
              "         'forced sexual contact is a big no no , but women openly joke about how they have raped men and nobody bats an eye especially not the fellas cause they don’t want to be called Gay which is weird because rape is rape don’t matter': 3,\n",
              "         'Yall bitches be tryin to make a girl jealous with the MOST passed around female....girl, put that blunt down': 3,\n",
              "         'Finna make a change to my circle': 1,\n",
              "         '@PatriceChienne @mykitchenrules can understand that but the score seems so wack #mkr': 3,\n",
              "         \"I think the diversity thing's a distraction You think the LGBT community cares what you think on the subject? This was Funimation/SONY owned studios used by Funimation people to produce gay jokes, rape jokes and porn jokes and then storing it on the companies computers.\": 2,\n",
              "         \"@Ravavilad_film Dont' we know it!\": 2,\n",
              "         '@d1ng4d0ng @abbey_burch  we are x': 1,\n",
              "         \"All Leftists are neurotic and insecure about sex. This is why. It's like manly-men who constantly joke about gay stuff and prison rape and if you pat them on the back they call you gay. They're neurotic and insecure about homosexuality.\": 3,\n",
              "         'Does being gay violate other people? Bat mo kino-compare yung someone who jokes abt rape to a gay person? Lol': 2,\n",
              "         'Katie &amp; Nikki going home? Now who will they have to constantly tell how pretty they think they are? #MKR': 1,\n",
              "         'Getting ready to kill stuff with my teammates! #selfie #warlords http://t.co/TyEhfh3V0S': 2,\n",
              "         'Ladies I have a question: why is it okay for you to refer to any female your current/previous partner has dated as a bitch? but if they refer to you as a bitch, you get all offended and upset? What makes it okay for you to call someone that, but godforbid someone calls you that?': 7,\n",
              "         'Annie and Lloyd: \"vote\" is. It pronounced \"voite\". #mkr': 1,\n",
              "         \"RT @TheBigKahuna12 I'm not sexist, but I'm just not a fan of all these women rappers.\": 1,\n",
              "         '@ShriekAPotomos @CrashOverrideNW someone else - which means people are actively searching her name, which is still creepy.': 4,\n",
              "         '29. Misha Collins -made rape jokes -super transphobic -called sam &amp; dean \"mentally challenged\" -used \\'gay\\' to describe unmanly -queerphobic': 1,\n",
              "         'while everybody went to school, i enjoyed my day in my bed sleeping. #feelingbetter': 2,\n",
              "         'I make jokes about rape, abuse, gay bashing and a ton of stuff that have directly effected me.Am I being an asshole then too?': 1,\n",
              "         'RT @finicalgal: Pete \"couldn\\'t eat the whole plate\". (The plates are not made from bone broth and chicken oils.)': 3,\n",
              "         \"I've been watching college football all morning so far.\": 1,\n",
              "         'Fucking rape jokes. Haha when i was in year 9 a group of boys inside our classroom are sitting in consecutive seats and my former gay friend was beside me. Their “game” was to grope the chest of the person sitting next to you. It was suppose to be for the boys only sila isla lang': 1,\n",
              "         '@pixieyas @halalflaws @biebervalue @greenlinerzjm No bitch, I copied it from the Hadiths. Go look up the Hadiths yourself bitch.': 3,\n",
              "         '@HumanistFury \"Sorry\" for confusing me?  What am I looking at?': 1,\n",
              "         'I get my goodnight text when wakes up after passing out in the middle of our conversation. #classic': 2,\n",
              "         '@iFalasteen No, this is what Muslim brutality looks like. http://t.co/H3e7LzKBxT': 2,\n",
              "         \"RT @TiquanGray: Im not sexist but females now are trying to say that they're better than men, when they went through so much history saying…\": 3,\n",
              "         'I have a serious question for all of you. How many of you have children who have been victims of bullying? How did you deal with it?': 1,\n",
              "         \"#MileyCyrus Miley Cyrus causes controversy with date-rape 'joke' at GAY club gig in London http://ift.tt/1geiIzi'joke'-at-GAY-club-gig-in-London&amp;c=2ANoySojn758d6ckAcbPgEIBE3n0xG-Z3i4i-MK56ko&amp;mkt=en-us\": 6,\n",
              "         'The Miseducation of the American Boy Why boys crack up at rape jokes, think having a girlfriend is “gay,” and still can’t cry—and why we need to give them new and better models of masculinity @peggyorenstein https://www.theatlantic.com/magazine/archive/2020/01/the-miseducation-of-the-american-boy/603046/?utm_source=twitter&amp;utm_medium=social&amp;utm_campaign=share': 3,\n",
              "         'I dont like gay jokes, rape jokes, or racist jokes. However, today Im going to allow all 3 since Bieber is in Miami Dade County Prison': 1,\n",
              "         '@KellyTurner99 @buellerishere But bitches like you will only speak of the 1 or 2% killed by drones. Against your own culture every time.': 4,\n",
              "         \"RT @ex_feminist: #questionsforfeminists For those of you that think it isn't socially acceptable to abuse men.. It is. http://t.co/AZ6Dx8UW…\": 1,\n",
              "         'So not laughing at rape jokes makes a person gay? Edi anong tawag mo kay Vice Ganda who made a rape joke? Fucked up logic.': 1,\n",
              "         \"RT @schmeezi: @YesYoureSexist and what I tweet here is none of yours my employers or anyone's business. There's no way one can link it to m…\": 3,\n",
              "         \"RT @rjclifestyle i'm sorry i'm not sexist.....but i do not find women comedians funny. maybe tanisha long\": 2,\n",
              "         'Hey i agree with you on how pathetic the rape joke is and they shouldn\\'t have done that but some of the things you mentioned here dont make sense to me. Like if he said \"no\" to being gay then what is wrong with that? If he isn\\'t gay then he isn\\'t gay.': 4,\n",
              "         'RT @thevelvetbrick1: Whose sexist? #LikeAGirl vs. #sorryitsaboy http://t.co/P44oQEBT0h @treysanchezsez  #AntiSJW #WomenAgainstFeminism': 3,\n",
              "         'Rainy day..would rather be cuddling w/my furball.': 2,\n",
              "         '@madhav i logged into facebook after ages yesterday to find it full of Gay Gayle rape jokes, some of them from extremely conservative people': 3,\n",
              "         '@mrgoldfink Apparently the Iranian fascist Ayatollahs run it.': 2,\n",
              "         '@duckyties she followed me but i blocked her,, rape jokes and homophobia are not things i want anywhere near lol like hello im a gay woman': 2,\n",
              "         \"@nine11inreverse But you'll never be able to point to anything in the Tao Te Ching that encouraged their misbehavior.\": 2,\n",
              "         'Another left wing fallacy, that poverty causes extremism, has bitten the dust in multiple ways.  Here is one. http://t.co/oDG9YKzzRJ': 2,\n",
              "         '@RyanGilmourSM looks class mate': 3,\n",
              "         \"@_Kurda_ Baghdadi's little torch show will cost him a thousand Daesh at the hands of the Jordanians.\": 3,\n",
              "         \"RT @HenryJnrO: Them man that are showing teeth when you're pissed are just as bad https://t.co/oHxaXJVGep\": 1,\n",
              "         '@thesledgetobias ?': 1,\n",
              "         '@DiscordianKitty wat ok I rerun and update when the vodka duck fat has worn off': 2,\n",
              "         'Colin described it as a crime against cooking! Not sure we’d be ordering that for breakfast! #mkr #hungrycampers': 2,\n",
              "         '@HilzFuld i disagree again- naked women is not a form of protest against bullying, its cheap.': 1,\n",
              "         'RT @BrandonMcKenzie: Arghhhhh I want to kick in the television set right now, Kat you despicable rat #MKR': 3,\n",
              "         '@awollerman just got me some more class #sweaterVest': 1,\n",
              "         '@ScudsCorp @alexlifschitz @TheQuinnspiracy I bring the party!': 1,\n",
              "         'I have so much shit to do where do I start ? Sleeping sounds about right , Laundry,Final Projects, &amp; College Applications Can All Wait !': 1,\n",
              "         \"I don't know, any kind of joke about mental illness, cancer, race, being 'gay', human rights, or rape isn't funny and just distasteful\": 2,\n",
              "         \"Users want transparency in abuse systems, but there's a difficulty in this. It can allow people to game the system.\": 1,\n",
              "         'Colin looking very snazzy tonight, nice suit 👌✨#mkr @mykitchenrules @FourinHand': 3,\n",
              "         \"Also: people get angry when you ask them not to use the N-word or tell gay or rape jokes. Because they totez didn't mean it like that.\": 2,\n",
              "         'As we said in my country: Fish dies for the mouth. See ya girls. #mkr': 1,\n",
              "         '@halalfam @biebervalue @greenlinerzjm All the domestic violence data from Muslim countries says that you are lying.': 3,\n",
              "         'Don’t call me a female bitch.': 2,\n",
              "         '@dgbattaglia Saw this this morning... http://t.co/9YUwOuZugw': 1,\n",
              "         \"Apart from Ash and Robert, I'd pretty much forgotten about the rest of them. #MKR\": 2,\n",
              "         \"@OwynnP Honestly, I didn't look...because I'd bet my life we KNOW the answer.\": 2,\n",
              "         \"@tomdcc it's very easy to change your GV #.\": 3,\n",
              "         \"We're still two hot young blondes. UMM, really, ending sentence?? #MKR\": 3,\n",
              "         \"@rileysomething I'm not adverse to putting boots on the ground at Raqqa and letting our boys kill ISIS through a scope sight.\": 2,\n",
              "         \"RT @ColbyHarris902: I honestly can't believe they added female Soldiers to Call Of Duty Ghosts, I'm not sexist but it's kinda weird and a l…\": 2,\n",
              "         '@MHWitchfinder: Please, if you disagree with Harriet Harman http://t.co/hPYDZETRpN Please follow, RT http://t.co/OdFbiCEBr1 #DontDateSJWs': 5,\n",
              "         \"@copyMYclass_ he's going to broadcasting school so he's creating a sports talk blog...I'm creating a food blog, A Gentleman In The Kitchen\": 2,\n",
              "         '@Madeley Sorry, I cannot get over someone making that comparison. Referencing a 400 year old classic to rebut modern criticism, yeesh.': 2,\n",
              "         'RT @lukemac11 Ahh the chick who announces games on ESPN 2 is so annoying #gameonmute #getheroff #notsexist': 2,\n",
              "         '//they would call her a bitch for being a complicated female character.': 1,\n",
              "         'LRT has been stuck in my head since that Bauer piece has been floating around. Would definitely like that convo to be louder.': 2,\n",
              "         '@Bahai144 @greta So get your fat ass off the couch and go and fight ISIS.  What is your problem? Are your legs broken or are you a coward?': 1,\n",
              "         'they were making a lot of racist, gay, and other offensive “jokes” on their page and dming people saying stuff like they were going to rape them, and that they were fat and everything': 3,\n",
              "         'You must have done some Female ass shit if a girl calls you a bitch lol': 1,\n",
              "         \"I hate how that Vice Ganda rape joke is being taken as something he said because he's gay. It stemmed from ignorance, people, not sexuality.\": 1,\n",
              "         'Lets serve Colin Chev Up sausages. #MKR': 1,\n",
              "         'Things @twitter taught me this week: Prison gay rape jokes are perfectly fine as long as it directed at a Trump supporter and advocating punching falsely accused white kids is okey dokey. But \"learn to code\" is the new n-word!': 1,\n",
              "         'Ive never had a problem w gay people yet i used to make homophobic jokes and use the \"f\" word. I learned. Just saying these twitter investigations dont allow room for growth. I wasnt excusing rape jokes in any way. If he was making rape jokes today id be done w him too.': 2,\n",
              "         'RT @Kurdsnews: Turkish state has killed 241 children in last 11 years http://t.co/JlvkE1epws  #news  ##GoogleÇeviriciTopluluğuKürtçeyideE…': 5,\n",
              "         \"Who gives a flying fuck? @Rhace138 Again, call me sexist but men shouldn't get lower back tattoos\": 2,\n",
              "         '@vivian_games thanks, it is appreciated.': 3,\n",
              "         \"RT @trish2295: I'm done - won't bother with the rest of this pathetic shit show #mkr\": 2,\n",
              "         'The hypocrisy... SO you KNOW there’s no casting couch but VIC IS GUILTY WITHOUT A DOUBT!!! It’s satirical when you guys make gay rape jokes but VIC IS HOMOPHOBIC FOR SUR!!!! Monica is a saint and you should always believe victims BUT THE VICTIMS OF CHRIS ARE LIARS!!!': 2,\n",
              "         'so can someone explain to me why a white boy who says the n word, claims trump supports gays and makes rape jokes expects me (a gay girl) to love him back': 1,\n",
              "         \"@torionsellers TORION..... Would you ever go to a Middle school... Yes im a 8th grader IK IK I'm a baby! But seriously.. Would u?\": 1,\n",
              "         '@TheGags29 @JustLaurenB @AgentPatriarch7 @ZKotek @The_Loki_Jotunn @MyLostGadget DOJ is quoting same small sample survey you already cited...': 1,\n",
              "         'Rebecca Black Drops Out of School Due to Bullying:': 1,\n",
              "         '@justinbieber Your How I Get Through Bullying And Tough Times Thinking Of You & How You Got Through It Makes Me See A Light At The End NSN♥': 2,\n",
              "         'The censor board is a joke. Violence, gory rape scenes, heads being blown off is okay, but kissing, love making and gay pride are not. #Fail': 1,\n",
              "         \"@simonpegg isn't the whole mag just bullying?! It's like a bitch you can keep in your handbag\": 2,\n",
              "         '@BSKlein69  Just a troll.': 5,\n",
              "         '@annie_fd_xxx oh no need for bullying bbz! Okay hang on x': 4,\n",
              "         'It seems like when everythings good thats when some bullshit surfaces.': 1,\n",
              "         '@MaxxieBytes @NotAllBhas (hilarious side note: that show was my only sighting of a PoC until I was 15. Backwoods farm country. Saw 1 ep.)': 1,\n",
              "         'I hope their cooking shows through the next round. I mean, they have to plate it up right? All their (lacking) skills. #MKR': 1,\n",
              "         \"WHOA, a rare shit gem in the sewer. @Brettonme I'm not sexist I just really hope I don't have a daughter\": 2,\n",
              "         \"This KS isn't for a game, it's to sponsor his online abuse.\": 4,\n",
              "         'God another fucking instant restaurant round #mkr': 3,\n",
              "         \"I'm gonna gouge my eyes out if this bitch doesn't get off #mkr #catandandre\": 2,\n",
              "         'Specifically, I think it\\'s wrong when we talk about unacceptable humor that we talk about \"gay jokes\" or \"rape jokes\" or \"trans jokes\"': 2,\n",
              "         '@Uncr0wnedKing Ouch': 2,\n",
              "         'As soon as we cancel all holidays honoring men! @jvolk2 Im not sexist but can we stop making up holidays for women': 2,\n",
              "         '@MissLaMuerta Love it there, old school brunch goodness!': 3,\n",
              "         '@Professor_D anything i say publicly gets quoted by the press. randi@randi.io.': 3,\n",
              "         '4 Reasons Why Men Joke About Gay Rape http://everydayfeminism.com/2014/06/men-joke-about-gay-rape/ via @evrydayfeminism #rape #gender #prison #LGBTQ': 1,\n",
              "         'Sucks to have the smile wiped off your own face huh Kat? She in a glass house should not throw stones. #mkr  #mkr2015': 1,\n",
              "         'According to ryan sexton me and @JamisonRaines have no athletic ability': 2,\n",
              "         'Ladies, let’s start calling men “Males” because I’m sick of every other tweet being “females this, females that” bitch do u call other men “Males” when speaking about them?': 2,\n",
              "         '#NJ #FilAm Gay Filipino Comedian Apologises to News Executive for Rape Joke Gone Bad ... - International Business ... http://ow.ly/2xeMlB': 1,\n",
              "         'Sorry #killerblondes but you are a long LONG way from refined. #mkr': 4,\n",
              "         \"Niggas only wanna hang out with females who don't have their kids .\": 1,\n",
              "         'Every 7 minutes a child is bullied. Adult intervention - 4%. Peer intervention - 11%. No intervention - 85%. #LetsEndALLBullying': 2,\n",
              "         'And its not just racists jokes, its jokes about gay rights, rape, womens rights and its horrible.': 3,\n",
              "         'Don\\'t joke about rape yo RT \"@Entro_VICE: And nice :\\') RT @VixEn035: Being raped by a female rapist is gay\"': 4,\n",
              "         'WATCH: Audience Revolts After Margaret Cho Jokes About Rape, Whites, Gay People - Breitbart http://www.breitbart.com/big-hollywood/2016/03/28/margaret-cho-angers-audience-with-jokes-about-rape-white-people-garry-shandling/?utm_source=feedburner&amp;utm_medium=feed&amp;utm_campaign=Feed%3A+breitbart+%28Breitbart+News%29': 2,\n",
              "         'Bianca is \"feeling sick\". She tried the baked Greek eggs. #MKR': 1,\n",
              "         \"@EuroSlavA @brenbarber Those two are the only self ID'ed feminist I can think of who are legit.\": 2,\n",
              "         \"It's a doggy dogg world #bully #stafford #tekoop http://yfrog.com/gz3aladj\": 3,\n",
              "         'Oh wait, but wuz it a joke? Cuz THATS ok... Man w/ Bible threatens to rape woman during ‘Gay Day’ in Michigan http://www.rawstory.com/rs/2012/08/09/man-with-bible-threatens-to-rape-woman-during-gay-day-in-michigan/#.UCQQE2NN7KA.twitter': 1,\n",
              "         'RT @brian_carnell: Revenge porn is evil, but can see many potential problems with Twitter policies on removal http://t.co/0bO7JAp1OP': 4,\n",
              "         'Poor Sheri and Emilie. Feel so bad for them. #MKR': 4,\n",
              "         \"I'm not a misandrist but when men get kicked in the balls they should get up off the ground and get back to work!\": 2,\n",
              "         '@Bruciebabe @ericcartmanfat @andyblueskyz @chezkig1 @End_Bigotry @edulixavot34 @georgegalloway @MaxBlumenthal This. http://t.co/NUrVhiKBHZ': 1,\n",
              "         'Something is going on :O :O': 3,\n",
              "         'The contestants on #MKR should cook with as much dairy &amp; carbs as possible just to piss off glorified cook Pete Evans! #paleo #mkr2015': 3,\n",
              "         'RT @narryyymate: Drasko and Steve are trying to impress Collin so bad #MKR': 1,\n",
              "         'So it is ok to accost female members of Congress and call them a “Fucking Bitch” with no repercussions! Got it! @AOC @RepTedYoho @SpeakerPelosi': 1,\n",
              "         '@dale_in_denver Who assumed what now?': 2,\n",
              "         '@AlMonitor And the only success that the Daesh are still capable of are against civilians and weakly defended locations.': 3,\n",
              "         'Bruce has said the N-word several times They’ve made jokes about everything. Underage sex, rape, gays, blacks, you name it. They’ve probably done it': 2,\n",
              "         '@LifeInKhilafah Yesterday a Daesh fan posted a pic of an A10 with one engine blown off. Claimed Daesh did it.  I found the pic, it from 2003': 1,\n",
              "         'You are aware Cornette has a well documented history of standing up for gay rights? While Ryan has an equally well documented history of making rape jokes?': 2,\n",
              "         \"@THESethHughes @PopcornSutton__ @corey_walton isn't she the same feminazi that supports that Duke BS?! Lolol\": 3,\n",
              "         \"@EscapologistGl @EscapologistGl So weird, b/c I think you're gorgeous &amp; smart &amp; hilarious. Suppose that makes me a feminazi sympathizer?\": 3,\n",
              "         'Idk man...\"Bitch\" has the same feeling as a someone calling a woman a \"Female\" It just doesn\\'t sound right I\\'ll call you a whore though': 1,\n",
              "         'The love you never gave, I give to you': 4,\n",
              "         'Rape is not a joke as well as \"being Gay is not a crime\" echoz!': 1,\n",
              "         'Wanna know what Catholic school taught me? It taught me to hate myself for being gay, feel ashamed for having Mexican ancestry, laugh at rape jokes, and demonize women who get abortions.': 2,\n",
              "         \"@depenthene That's their goal.\": 3,\n",
              "         \"Ladies, stop flashing your boobs! It's rude!\": 2,\n",
              "         \"So how many teams are we 'starting' with now? #mkr\": 3,\n",
              "         '@BlackOpal80 ...I learned that doing so made me a \"misogynist\".': 1,\n",
              "         'Lol okay bud. Telephone tough guy. You’re so woke that you make a gay rape joke. Hehe the irony': 5,\n",
              "         'The same niggas everyday complaining about whores, gays, making rape jokes, ranting about feminists etc. Give it a rest lmfao': 3,\n",
              "         'The two accounts I reported (@fart2continue and @imh8bit) were both suspended, but this is not a good response.': 1,\n",
              "         'RT @jaykyew Call me sexist, but hearing a woman do play by play for a football game just sounds off to me': 4,\n",
              "         \"@sisshintaa  i've found ur key!!\": 3,\n",
              "         'Can I joke about 9/11? Gay people? Blacks? Giraffes? Rape? Murder? Cody?': 2,\n",
              "         'he was a boy she was a girl can i make it any more obvious?': 2,\n",
              "         'oh great another fucking instant round.....#MKR': 2,\n",
              "         'if mohammad was gay how the fuck he would have been able to rape Aisha ? they killed kamlesh tiwari for spreading lie. Mohammad was bisexual not gay...and if anyone who are laughing over such lame jokes on shivaji and found my statement offensive then sorry to say u r hypocrite.': 3,\n",
              "         \"That's bullshit Colin and you know it. #mkr\": 3,\n",
              "         'Jumping in like a wet blanket to remind everyone that there is nothing funny about rape. Also, all of the \"gay\" and \"boyfriend\" jokes are implicit homophobia.': 4,\n",
              "         'rape mention tw// so i was bored and put on “First Girl I Loved” bc its a gay movie i haven’t seen... it hasn’t even been 20 minutes and the main love interest just made a rape joke?? “promise you wont get raped and get AIDs and die”????? im turning the movie off now wtf': 1,\n",
              "         'Sexist rape culture only exists when straight men are doing it. If liberals (especially gay ones) do it, they’re A-OK . #doublestandards': 2,\n",
              "         \"@codemonkey_uk @1Life0Continues i haven't done much work with this kind of thing, so it's all a learning experience :P\": 3,\n",
              "         'I should stop drinking coffee now.': 3,\n",
              "         \"You may not like me, but you don't have to be do rude to me in school. I do nothing to you and you always have to make a comment. #smh\": 1,\n",
              "         \"#thingsthatirritateme when people joke about: -gay's -self harm -killing yourself -rape -cancer\": 1,\n",
              "         '@DCDeacon No need to thank us but instead Arkane Studios, they really pulled off and created an amazing game.': 2,\n",
              "         '@MinorAnnoyance @JimmyKimmelLive yup.': 3,\n",
              "         'RT @PeteHattam: According to Holly from Geordie Shore, \"Sassy - halfway between slut and classy\" #MKR #MKR2015': 2,\n",
              "         'RT @Jennaaayyy: Rob and Dave are definitely my favourites! Love how relaxed and positive they are :) #mkr #mkr2015': 1,\n",
              "         \"@BristolBen No, I don't think she's a bigot per se but blind to whatever she chooses not to believe...\": 1,\n",
              "         \"RT @AnnieKNK: Stay strong Missionary Man. Don't let these feminazi fascists tell you where you can and cant piss @dontdoxmebro_ @Ishfery @A…\": 1,\n",
              "         \"Drasko they didn't cook half a bird you idiot #mkr\": 1,\n",
              "         \"RT @Kaycz75 I'm not sexist but a lot of y'all. Females really ain't good for shit except catching semen.\": 1,\n",
              "         'Yeah I specially love gay, killers, r cool lets rape a mom jokes': 2,\n",
              "         'RT @mary__kaye: That face Kat just pulled was hideous. #mkr': 2,\n",
              "         'Ha ha suck on that kat and andre you dumb pieces of shit. #mkr #dumbslut': 2,\n",
              "         \"@ThatSabineGirl &lt;3  i can't imagine how hard it is. let me know if there's anything you want me to promote, any help that i can give.\": 1,\n",
              "         'RT @sailorhg: the intro for my hardware hacking zine, or, why i am even writing this zine: http://t.co/ruXoAymBz9': 1,\n",
              "         'Project Bully ALSATIAN SHEPHERD owners beware of Breed Specific Legislation: A lot of times the ALSATIAN SHEPHER... http://t.co/tG8xveu': 1,\n",
              "         'Way too many teams #MKR': 2,\n",
              "         'Sooo, @sagegnosis made me listen to a Heavy Meta episode. 20 minutes in have a gay joke and a rape joke. Keep it classy @manadeprived': 1,\n",
              "         'Ooo... I can see this going somewhere... Hehehe.': 2,\n",
              "         \"Idc how close we are but if you think you can joke around about rape and gay people, I'll cut you off. Akal celah bontot agaknya.\": 2,\n",
              "         'High quality food &amp; they have frozen beef cheeks?! #mkr': 2,\n",
              "         '@KTHeaney also boooo to the enduring concept of \"edginess\" as a 1-dimensional axis, i.e. sex joke &lt; gay sex joke &lt; rape joke &lt; gay rape joke': 1,\n",
              "         'it’s ok to sing along using a homophobic slur because people on the streets use homophobic slurs (this insinuation is wildly crap btw) so it’s grand? Gay men’s pain doesn’t matter? Also, if a movie was normalising rape as ok, ban it. Paddy jokes don’t = to hate speech.': 1,\n",
              "         \"#cm7 don't think we don't know lmao😂😂 #beplaya http://t.co/PiDyKapm\": 4,\n",
              "         'I would love to know why gas is like 15 cents cheaper in Alabama than in Georgia..': 3,\n",
              "         'Im thankful that this cclass really loves Martians.': 1,\n",
              "         'Hen party almost over - when is pete evans going to jump out of a cake #MKR2015 #MKR': 1,\n",
              "         '@waffle_gurl What specific information are you talking about? Did you watch the video?': 2,\n",
              "         'Some of my coworkers....': 1,\n",
              "         \"FUCK. THIS IS SO AWESOME I CAN'T STOP TYPING IN ALL CAPS.\": 4,\n",
              "         '@RealandIllusory = ranting idiot.': 2,\n",
              "         'TW//RAPE VIOLENCE MURDER THIS IS AMERICA WHERE Trans people can’t join the military Gay people couldn’t donated blood or get married til 2017 and 2018 Women can’t wear what the want without getting rape jokes or getting called sluts (1)': 1,\n",
              "         'RT @IBlame: Perturbed by neighborhood strip club, feminist asserts \"women are people 100% of the time\" http://t.co/cGlkw9n2Zy http://t.co/q…': 3,\n",
              "         'RT @KateFoxy:I really hope Katie and Nikki butcher this menu. #MKR': 2,\n",
              "         'I don\\'t care if the joke is about raping a man, woman, transgender. I don\\'t care if you\\'re \"not even gay!\" It is not okay to normalise rape.': 1,\n",
              "         \"RT @mitrebox: Guy who stabbed two people at busstop has face that says I'm going to stab you at a bus stop. http://t.co/nAp4hHbfUc\": 2,\n",
              "         'Be yourself and quit trying to be everyone else.': 3,\n",
              "         \"Omg!Can't wait until try hards, crazy eyed Kat &amp; douch bag go home! She can't cheat anymore so I'm guessing that will b soon! 😤 #mkr\": 3,\n",
              "         'I didn\\'t want to but I had to. Called out a gay man today for a rape \"joke\". \"It was an innocent joke\" he said afterwards. It really threw me that a gay person thinks joking about rape is \"innocent\" (the word he needed was \"naive\"). Isn\\'t that how bad things are?': 1,\n",
              "         'That none of the \"jokes\" that people make about being gay, rape, race, or gender are funny. They\\'re reaching for a reaction, seeking to +': 2,\n",
              "         \"she ain't passing her part of the project AHH fuck you\": 3,\n",
              "         \"Secret's Anti-Bullying Campaign Appears to Get Facebook Fans Engaged: Procter & Gamble Co.'s Secret deodorant ap... http://bit.ly/nv26a2\": 2,\n",
              "         'That awkward moment when you send a message to the wrong person': 2,\n",
              "         'I just want everyone to be happy!': 3,\n",
              "         'Thanks for making #mkr an unbearable watch @Channel7. #stopdraggingitout!!': 1,\n",
              "         'In Australia, we have always had tall poppy syndrome. Since when did sabotage and bitchy behaviour get you on national TV??  #MKR #mkr2015': 2,\n",
              "         'she got a couple gay female friends I met, they be makin lil jokes n shit talking bout \"awww he so cute &amp; how they gone rape me\"': 2,\n",
              "         \"@DevilGrimz: @VigxRArts you're fucking gay, blacklisted hoe Holding out for #TehGodClan anyway http://t.co/xUCcwoetmn\": 2,\n",
              "         \"@TaalibJamia Stick your censorship where the sun doesn't shine.\": 2,\n",
              "         'Lmfao I was sexually assaulted as a young teen; rape jokes can be funny I’m part of LGBT and my only prior long term relationship was with someone who was gender neutral; gay jokes can be funny Hate to break it to ya, but it’s dark humour and you’re just sensitive': 1,\n",
              "         'Sudden death for Annie and Lloyd, maybe they will buy a BBQ and practice for next time? @mykitchenrules #MKR #mkr2015': 3,\n",
              "         'There goes the man-woman wage-gap sham in shambles!..... like all other Feminazi falsities! http://t.co/6jN5AHiqeT': 2,\n",
              "         \"imagine thinking 5H say rape, racist &amp; gay jokes when they've never said anything about rape, they're all woc, &amp; Lauren is bisexual https://twitter.com/condoradore/status/843410631466373120\": 2,\n",
              "         \"it's a thai actor who played a gay man in a bl thai drama but he's very homophobic and made a rape joke :/\": 1,\n",
              "         'I will burn the building down.': 1,\n",
              "         'which connects to my first post about the party I went to. it’s a big nono when straight ppl try to rape others right, but why does it seem like a joke to ppl when gay ppl do it? It’s just something I’ve noticed lately, obviously rape isn’t okay in any shape or form.': 2,\n",
              "         \"My professor didnt enjoy Dave Chappelle's racist, gay and rape jokes in r presentation of him I had a good time tho #YOLO #GetASenseOfHumor\": 3,\n",
              "         'Hollywood is burning at this moment. More and more actors are \"coming out as gay\" for trying to rape a 14 year old child, and have \"a different sexuality\" for making jokes about having sex with a dead a child. What had liberalism done to this world....': 3,\n",
              "         \"RT @randomwibbler: What Kat and Andre are doing is called bullying. I hope they're proud of themselves. #mkr\": 3,\n",
              "         \"RT @A1_WithMines I'm no sexist, but ion know how I'd react if my son came down the stairs in heels... Prolly throw a football at his head\": 3,\n",
              "         'RT @Rhys_Dempsey29 Where the women should be #notsexist #justfunny http://t.co/PdfuIvUyG8': 2,\n",
              "         \"“@SeaEph: It's got sass?\": 1,\n",
              "         'Waiting @ thee orthodontist. Just wish it was actually for ME. (.___.)': 2,\n",
              "         \"Gay rape prison jokes so funny so original!!! Forgot we were all 14 year old kids who hadn't developed a sense of humour\": 2,\n",
              "         \"@LizzleP I know exactly how u feel woke up this morning thinking Damn I'm still in mky\": 1,\n",
              "         \"#mkr #qldbesties Sheri if you don't swallow that fine but Ill drink lots pineapple juice\": 1,\n",
              "         'Lord save me from the hurt feelings of men in tech whose ideas have been challenged.': 1,\n",
              "         \"Yeah, uh, @CharlTaylorPage #WomenAgainstFeminism aren't bigots who hate men and don't mind sharing equality w them like you hypocrites. FYI.\": 4,\n",
              "         '@HouseGOP @HouseDemocrats censure @RepTedYoho. We are tired of the disrespect so freely shown to women by men who think they hold all of the power. Go back to being a Veterinarian where it’s appropriate to call a female a bitch. #SomebodysDaughter': 1,\n",
              "         \"@annnnie93 haha yes he was! That's Sean for tho. Funny, chill, a nice guy lol\": 3,\n",
              "         'I RUN FASTER WHEN I WEAR THESE http://t.co/YwfGj6vMtV': 1,\n",
              "         \"It didn't blow my mind. It blew my mind and my head. Colin is no Matt Preston. #MKR\": 2,\n",
              "         \"Don't joke about religion. Joke about others things. *comedians joke about other things* Theri maa ki bhosda how dare you joke about other things - I will rape you - gay pig comedian - hinduphobic being a comedian in India is a risky trade smh\": 2,\n",
              "         'bitches period be syncing up to mine they call me the alpha female': 2,\n",
              "         '@Way2FengShui I can see how some offended by the rape jokes but the gay jokes he saying explains what ppl doing after watching': 1,\n",
              "         \"That Yahoo Yoho had a bad day at home & afraid if he was to call his dearest &amp; I quote 'fucking bitch' she would knock his block off so decide to hit on the nicest female he could find &amp; insulted AOC. Beeing brainless the idiot did'nt want to appear headless in front of his flock\": 2,\n",
              "         \"Hey guys remember that time glee made a rape joke? But it's a totes progressive show because gays\": 2,\n",
              "         \"RT @PATAFRIA: I hate when my exes siblings try to get at me. Like I fucked your brother bro, it's one dick per family\": 3,\n",
              "         \"Katy's running back should be something in college, holy shit\": 2,\n",
              "         'Nobody is at school today. I guess they decided their thanksgiving break started Friday. Lucky bastards.': 5,\n",
              "         '// rape mention horrible gay stereotype as in like, there was a recurring hero that was a living prison rape joke': 1,\n",
              "         'RT @Kathblue: #mkr is feeling a little rigged this year.': 1,\n",
              "         '@JamesyNBA: I wish I was a bitch like my brother keezy &#128530; ooooow I bet you do': 1,\n",
              "         \"RT @Hector_newcomb: I am not sexist but changing making the next Thor female isn't something I'm okay with due to Thor almost always being …\": 2,\n",
              "         \"You have the look that every man wants in a woman's eyes - surprised with a bit of fear - holy crap.\": 5,\n",
              "         \"RT @gater_ebooks: Is it true that if women ran the world we'd all still be living in echo chambers.\": 1,\n",
              "         \"Apparently when a man is falsely accused of rape by a woman that he doesn't even find attractive, it's sexist for him to point out that she's not his type. All women are supposed to be every man's type---unless the man is gay.\": 5,\n",
              "         \"RT @AndiSaputro: Not sexist but I'm glad there'll be a female driver on F1. Just imagine we can finally see some great accidents thanks for…\": 1,\n",
              "         'rape is not a joke, neither is suicide, gay is not an insult, and the \"R word\" should not be used under any circumstance. got it? good.': 1,\n",
              "         'Haha ily \"Smexy Lexi\" (: haha Nickname that Jake & Noah made up for her... &lt;3 & mine is \"Ally The Bully?\" there nice haha -Alyssa...': 2,\n",
              "         'RT @BliggiVee: Round and round we go where it stops nobody knows. How much more will this drag on?!? #MKR': 2,\n",
              "         'Rep Ted Yoho: a real American class-act and also a great father figure. Because all the best dad’s call female colleagues a “f*^%cking bitch,” right?': 2,\n",
              "         \"Maybe your program forked until it could fork no longer, and you didn't have restrictions on. Maybe you sent an inappropriate amount of UDP.\": 2,\n",
              "         'A must watch and share: http://t.co/YRBgSYToMV #notyourmascot #changethename': 4,\n",
              "         'Isn\\'t it supposed to be \"keep emailing\" :P  (via https://t.co/YshEHFHMFm) http://t.co/V1hMUj1tTr': 1,\n",
              "         '*sigh* oh Colin 😍 #MKR': 1,\n",
              "         '.\"@DustyPee: #cuntandandre Best thing I\\'ve heard! #mkr”': 3,\n",
              "         \"FFS last year WA had Chloe &amp; Kelly and now we have Kat &amp; Andre. Channel 7 doesn't like Perth haha! #mkr\": 3,\n",
              "         'The funny thing abt people (male & female) who have a tendency to call a woman \"a fucking bitch\" is that they\\'ll do it behind the woman\\'s back, then deny it when caught. If they ever grew a pair and said it to our faces, we fucking bitches might muster up some respect for them.': 1,\n",
              "         '@alex or in properly angled photographs at low resolution with the brightness jacked up. need this photoshop filter for irl.': 3,\n",
              "         '@anbaari16 Looks like things have turned around and the Daesh are now very quick to run away.': 2,\n",
              "         'Idk if it was the gay jokes or the Cosby rape jokes but in the scheme of comedy it was all good in my opinion': 2,\n",
              "         '@PsychScientists @geekyjessica Can you explain why what she described there is wrong?': 2,\n",
              "         'People have made their entire careers off of making gay, trans and rape jokes n I think it shows more about the people than it does te comedians themselves All art is a reflection of the culture really': 2,\n",
              "         '@mykitchenrules another round of instant restaurants? haha 😉 #MKR': 3,\n",
              "         '@___ARie shit yeah 😂': 2,\n",
              "         '@brianfenton did you just try to mansplain perl to me and fail?': 3,\n",
              "         \"RT @Marshall_SS: Call me sexist but if a song is sung by a girl there is a 94% chance I'm going to hate it.\": 1,\n",
              "         'I always ignore when people get them mixed up bc they always call me a “sexist straight white male who hates women” even tho I’m a feminine gay man like... it amazes me that people don’t know the difference between rape, sexual assault, and sexual harassment.': 1,\n",
              "         \"@lilyconwell85 So let's get after the ISIS fan boys about him running away and see what happens.\": 1,\n",
              "         '#gymflow as my sister just showed off her push to start kia! Def gonna have to get something new soon! Or just bully hers': 1,\n",
              "         'When you call a female colleague a “fucking bitch” there is no misunderstanding. This is just misogynistic behavior.': 2,\n",
              "         'As a woman who supports a pussy-grabber* for a President, it\\'s NOT surprising that you also THANK a man who calls his female Congressional colleague \"disgusting\" &amp; a \"fucking bitch\" at work. I wonder how you feel when you, your daughters or mom are called \"fucking bitches\" by men': 1,\n",
              "         \"@allieemorse i really didn't mean to dig on anyone in a horrible way. I thought it was just a bit of snow, honestly. :\\\\\": 4,\n",
              "         'Watching #MKR before @marlo_music LEL @JordanaTascione': 2,\n",
              "         'http://t.co/Mx8mVx2 Jedward and Saoirse Ronan back anti-bullying campaign - The Drum': 3,\n",
              "         'We all can handle being called bitches- but it’s not supposed to happen in a place of business. Michael, do you want one of your female workers to call you a douche, or a dick or any other name that may fit you where you work. You call me a bitch where I work -you would be fired': 1,\n",
              "         \"@Channel7 how's Colin and these rounds working for you.. Pretty crap I'd say from the tweets.. #needarethinkinformat #MKR\": 2,\n",
              "         'For the females that call them stallion...a stallion are only male horse’s you bitches weird': 1,\n",
              "         '@jusstJordan_ bully how u been livin !! lol': 2,\n",
              "         \"Things are coming together. If all goes well with my next 2 meetings, I'll have a major announcement to make during GDC.\": 3,\n",
              "         'Read one article by him. He’s clearly sexist, racist ect. Rides the moral coat tail of a non existent god.thinks women need to keep their rape babies. And that gay marriage will ruin this country': 2,\n",
              "         '@mykitchenrules  meatballs to die for and bacon to cry for #mkr': 2,\n",
              "         'No because Rape is a crime, tweeting offensive jokes isnt. Also your argument seems backwards. There’s statute of limitations on many crimes, why wouldn’t there be a social one on statements? By this logic Hillary should’ve been dragged for being against gay rights. People change': 3,\n",
              "         '@buttercupashby @MaDaSaHaTtEr_17 My facts come from the Quran, the Hadiths, and Sharia, microbrain. Stop your Taquiyya lying.': 2,\n",
              "         \"RT @sharonpiggott: Don't understand how bad sportsmanship can be condoned by #mkr #strategicscoring\": 2,\n",
              "         'I don’t say males it sounds awkward. It’s two reasons I do that. 1. 1 call bitches females so I don’t call them bitches. 2. I’m address all ages that can relate to the situation. All of them may not be women so I use a general word.': 2,\n",
              "         'Anyway, today a colleague showed me a picture of a woman in a bikini and said, \"No wonder there\\'s rape in this world!\" As if I\\'m someone to joke and laugh about raping women with because he knows I\\'m gay. I wonder how he\\'ll raise his newborn daughter.': 2,\n",
              "         'She a pussy Hoe till I get the Pussy HOE!': 3,\n",
              "         'When Will people learn? They are not that hot. Pride always comes before a fall.': 1,\n",
              "         '.@TedYoho If you\\'re going to apologize, DO SO. Don\\'t try to weasel out of it by saying you didn\\'t call your female colleague a \"fucking bitch\" to her face, like that makes it acceptable. She found out you said it; own it and apologize for it. Don\\'t be a 2-faced weasel, Ted.': 4,\n",
              "         'RT @JoshuaFelts12 @ABC how is this not sexist, but if he only took questions from male reporters it would be? This pisses me off.': 1,\n",
              "         '@Digitalistic my nickname is grandma. &gt;.&gt;': 1,\n",
              "         '@_RetroQueen_ on the last day of school I seen you at taco bender': 2,\n",
              "         '@sajid_fairooz @IsraeliRegime The Jews that did live under Muslims lived as dhimmis, according to pact of Umar, so they had no legal rights.': 2,\n",
              "         '@Friday13 @DarkSim7 @InvisibleJimBSH @iam8bit your mom was uncalled for.': 2,\n",
              "         '@LibrosOverHos @anylaurie16 Not a gay joke. A \"Don Lemon asks inappropriate questions of rape victims\" joke.': 1,\n",
              "         'UAC Military Nightmare was basically a masterpiece of shit that started the whole trend of the despised “Terry Trap” WADs. It’s even regaurded as one of the worst mods of all time because it’s completely unplayable and filled with gay sex and rape jokes.': 2,\n",
              "         'Fourth Circuit Court Upholds School Discipline Of Student For Internet Bullying http://ht.ly/670ev #bullying #sm #schools': 1,\n",
              "         \"For 1, men r REALLY good at spouting sexism @daibhidc Second guy: I'm not sexist, but I do think men and women are good at different things.\": 1,\n",
              "         'Lloyd likes thing intensely meaty. No surprises there. #MKR': 1,\n",
              "         \"I seriously don't understand. All the singles : WANEGBT, Red, I knew you were trouble.. Came out in the French iTunes store the SAME day -\": 2,\n",
              "         \"RT @thelindsayellis: you've got to be kidding me http://t.co/EhfXB3Epww\": 2,\n",
              "         \"I hope there's a lot of portaloos at that campsite #mkr\": 2,\n",
              "         'Gene Smith Needs To Get Axed As Our Gm #nohope': 3,\n",
              "         \"Okay, you're right. I'm wrong, gay and rape jokes are awesome, Kid Rock is Proud of Us.\": 3,\n",
              "         '@Clashoftherats The translators know Arabic. You are lying about knowing Arabic.': 4,\n",
              "         \"Real friends don't get offended when үou call them bitch, hoe or slut. Theү smile and call үou something more offensive\": 3,\n",
              "         'ew white boys who use the n and r words and joke about being gay and rape .': 2,\n",
              "         \"Bet 90% of the people complaining were cishet xd buddy, we gay people joke about bottom and top all the time. If the girl wasn't enforcing hurtful stereotypes, condoning rape, paedophilia or something like that, stfu. Also, please, FUCKING PLEASE let gay people decide +\": 3,\n",
              "         'The boys fritters are going to kill it!! #MKR': 1,\n",
              "         '@allaboutgeorge @kevin_finke @TheRealNimoy you had to pick the tweet about spock and not about drinking with star trek. :P': 3,\n",
              "         'AVAILABLE FOR ADOPTION! Bully ~~ Available English Bulldog for Adoption in Chicago IL: Image: http://i897.photob... http://bit.ly/nULpEa': 1,\n",
              "         'Like it? Minnesota gay teens bullied by adults, peers, say activists (Reuters) http://t.co/XMRBYHu Retweet it!': 1,\n",
              "         \"RT @NotFaulty: Mark Kern is the dictionary definition of 'Willfully Dense' http://t.co/Yfu94K6iD3\": 1,\n",
              "         'Feminazi Blog Reminds Liberals Today Is “National Day of Appreciation for Abortion Providers”… http://t.co/JzmTLkVeyK': 5,\n",
              "         '@LeoKikiLady89 I respect your use of Sprinkles Are For Winners.': 2,\n",
              "         'RT @GudawEnglish: Residents leaving en masse from Tal abyad as YPG and FSA advance to liberated the town from ISIS  terrorist #TwitterKurds': 5,\n",
              "         'RT @feministhulk: BLOG \"What is difficult is having any conversation at all while I am in the process of being raped.\" TRIGGER WARNING http…': 2,\n",
              "         'So when I hear \"retard\", \"gay\", \"rape them\", sexist jokes or slutshaming it lessens my ability to have fun with other players.': 1,\n",
              "         '.@tarah @girlziplocked @hypatiadotca @justkelly_ok @ameliagreenhall when ur writing a book about WiT, it is prob not a good idea to do this.': 1,\n",
              "         'find the problems w/dude\\'s solution, don\\'t publicly call him out, get accused of \"trying to pick a fight\" when i ask him about it. SHOCKING.': 1,\n",
              "         '@Saffronian But yeah, you are so intelligent and brave, you post few insults, lock your accounts and run like the coward feminazi you are.': 1,\n",
              "         '@_blackglass__ @TheYellowPete Absorbing US strike power by creating ISIS corpses! ROFL. Great plan.  Keep doing that.': 7,\n",
              "         '@VeronicaSicoe I agree, let the feminazi psycho bitch change her own god damned tire.': 4,\n",
              "         '@chase_michaela Yeah Michaela ur the worst!!! u hoe': 2,\n",
              "         \"RT @MagallonaIan: I'm not politically correct. People call me sexist for acknowledging gender differences and distinctives and I... http://…\": 3,\n",
              "         '@Lawwwen @curdistani The religion of peace takes over.': 4,\n",
              "         \"i bet these people were going 'ewww that's so gay wtf [slur slur rape joke slur] XD XD XD' five years ago\": 1,\n",
              "         'RT @AaronDagloria: @YesYoureSexist #stopbeingsexist': 1,\n",
              "         'Why punish someone for their past? I agree rape “jokes” aren’t funny. But I’m sure it wasn’t too long ago people were making gay jokes and not batting an eye. Not condoning that either but I’m saying the past we weren’t as accepting as we are now': 2,\n",
              "         'Wow. The gay rape portrayed as a \"joke\" in #KillLaKill #anime ep 15 was so INCREDIBLY offensive that even my Roku box threw up...': 4,\n",
              "         'Ahhh my arms numb': 1,\n",
              "         \"High achieving #Latinos who don't conform to stereotypes are vulnerable to the effect #bullying has on grades.  http://t.co/vqbp1cX\": 1,\n",
              "         '@Snipzor Please stop calling it a rape joke. Gay, yes. Rape, no.': 2,\n",
              "         'And Kat and Andre live  ... Again . I hope she uses up her nine lives soon .  #mkr': 2,\n",
              "         '@DQTwitchStream Allegedly did Hartnells ugly wife.': 2,\n",
              "         '.@WayJamesO Yep. The Coyotes. They have an out in 2-3 years. #NHL would have gone to Seattle.  But no building. Vegas will get them instead.': 2,\n",
              "         'her voice is so FUCKING annoying https://t.co/ErqhgtmPc7': 4,\n",
              "         \"Very homophobic, said he would prefer his own son dead than gay. Told a representative that he wouldn't rape her because she was too ugly to deserve rape. Planned false flag attacks on military bases to increase funding to the military (but said it was a joke when found).\": 2,\n",
              "         \"@JussBlaze8 not necessarily. If ur so mad at women-everday?  maybe we're not the sex u desire? SOUNDS like closeted frustration 2me. #IJS\": 2,\n",
              "         'RT @colonelkickhead: \"Tonight all your favourites are back\"....do you mean favourites to rag on because then yes, all my favourites are bac…': 1,\n",
              "         '@vickafarahdiba Tul bgt,mb..Say NO to Bullying': 2,\n",
              "         \"RT @macleod_robert: I'm not sexist but after reading about new coloured parking bays that assist women park faster I thought.....! http://t…\": 2,\n",
              "         'Do you think Kat is happy with that group score? #mkr #tvweekmag': 1,\n",
              "         'Good breakfast ideas with vegetables.  Vegetable fritters with fresh corn yum #mkr': 2,\n",
              "         'To be fair, those gay jokes were painfully unfunny. That\\'s all I got on \"problematic stuff\", unless they are talking about dealing with stuff like rape, emotional abuse, prostitution, crippling anxiety and depression, forced marriage, bad lawyers, corrupt politicians and...': 1,\n",
              "         \"HAHA WHAT @AbeAmas Call me sexist but I still don't like how the main character of legend of korra is a woman. It just doesn't feel right.\": 3,\n",
              "         \"Fuck it, i'm young. No joke, i'm 69 and gay. Rape me.\": 2,\n",
              "         'So you can be offended by Gay jokes, but a conservative thinker cannot be offended by the RAPE of a child? Mr. (Kettle) Black, this makes you a complete hypocrite... But that is the basis of your progressive movement. PRISON for you!': 3,\n",
              "         'Forget what hurt you, but never forget what it taught you. #&lt;3': 1,\n",
              "         'The Miseducation of the American Boy Why boys crack up at rape jokes, think having a girlfriend is “gay,” and still can’t cry—and why we need to give them new and better models of masculinity https://www.theatlantic.com/magazine/archive/2020/01/the-miseducation-of-the-american-boy/603046/ ICYMI @RemakingManhood #masculinity #boys': 4,\n",
              "         \"RT @AnthonySammarco: @YesYoureSexist @JakeDandrea_ Y'all can exit this conversation because nobody likes a feminist you piss everybody off,…\": 2,\n",
              "         'Yes Miley, because a date rape joke is the best way to advocate gay people. I should knock you out.': 2,\n",
              "         'If Chrome is the school bully, Explorer would be the kid quietly eating glue in the corner. http://t.co/30cTHpB': 1,\n",
              "         \"A 4th round of instant restaurants? I thought 3 was enough this year. Don't get me wrong i love this show but seriously? #MKR\": 1,\n",
              "         'It really bothers when people makes jokes about serious things like rape, depression, sucide, gay rights, etc etc. i see nothing funny.': 3,\n",
              "         '@Skawtnyc @a_man_in_black @ChrisWarcraft I saw.': 1,\n",
              "         'I’m gay and support outing him. He’s a hypocrite. The rape jokes are tired for sure, but not so bothersome in light of current affairs. Just my opinion.': 5,\n",
              "         'Only person i enjoy drinking with is @adrinizzle. Lol havent found another female who will take a shot EVERYSINGLE TIME i call a round of shots. I hate a omg noooo wait i just took one. Aht ahtttt shut yo bitch ass up.': 1,\n",
              "         \"I can't see how there was any real cooking in the main #MKR\": 1,\n",
              "         'Racist Gays Make Inappropriate Rape Jokes https://youtu.be/uxWh82mrcfA via @YouTube': 1,\n",
              "         'I think everyone should boycott school this week #simplesolution': 6,\n",
              "         'since when does the hill at the footy count as a catwalk? isnt that what a promo girl is, pimping out jim beam at the footy? #mkr': 3,\n",
              "         \"Aaaand, she just made a joke out of dismissing the concerns of a gay man over a homophobic joke that was doubled as a rape joke. I guess I'm humorless now.\": 1,\n",
              "         \"@Spacekatgal i'm FOSS at heart. i think the tools should be open for all to use. however, for monitoring services, things that require infra\": 2,\n",
              "         '@smileyt22 @CSPANJNKY @Communist_Dog @RockDots @cspanwj Privateers taking over our public schools our most important asset': 2,\n",
              "         'RT @Larryputt: The Victims of Islam: http://t.co/13nJXgMgkl +': 6,\n",
              "         'RT @PhilBrindAmour Call me sexist but female sports anchors r the worst. Makes me uncomfortable when women know more about sports than I do': 1,\n",
              "         '@PolitiBunny @FemsHaveBallz': 2,\n",
              "         'Yay the Texans back! Luv that dude 😘 #mkr': 1,\n",
              "         'WHAT THE SHIT http://t.co/ja2UbCspO3': 3,\n",
              "         '@ExposeFalsehood Womderful.': 1,\n",
              "         \"The girl who cried because she didn't get her back rubbed lol\": 1,\n",
              "         \"i can't even @emk194 Call me sexist, but I actually prefer having guys in charge. Lol atmosphere is more laid-back &amp; fun. Women are serious\": 2,\n",
              "         '@BriaKelly why the fuck did you let that bitch steal your girl!!! Ã°Â\\x9fÂ\\x98Â¡Ã°Â\\x9fÂ\\x92Â\\x94': 2,\n",
              "         'Simple fix, just don’t use females. It comes off as diragatory, aggressive, and overly misogynistic. Also, it ruins your argument. You can’t bitch about ***WOMEN*** and then call them females in the same sentence...it’s an automatic “IM A MISOGYNIST” response to anything.': 1,\n",
              "         \"I've seen soup kitchens that provide a higher quality of food. Seriously. #MKR #MKR2015\": 1,\n",
              "         '@MelBiebs69 @halalflaws @biebervalue @greenlinerzjm Tell me what your Quran 33:33 says?': 2,\n",
              "         'Why is #aussietv so white? #MKR #theblock #ImACelebrityAU #today #sunrise #studio10 #Neighbours #WonderlandTen #etc': 3,\n",
              "         'ManUtd arent gays wankers\"@DeKingtweet: boring joke RT @MrsMUFC: LOOOOOOOOOOOOOOOOOOOL RT\"@DeOsh_: Arsenal will rape United dis weekend\"\"\"': 3,\n",
              "         \"Kat &amp; Andre have the worst sportsmanship. Genuinely hope they don't do well purely because of how bitter they are. #mkr\": 4,\n",
              "         '@ItsMr_RazaQ @kristefany @baradar85 really? calling for the killing of gay people or promote rape in the name of a \"joke\" is cool to you?': 2,\n",
              "         'fuck school , imma marry me a rich nigga so ion have to do shit , forreal .': 2,\n",
              "         \"Screw the Academy Awards. I have much better taste than 100% of white dudes so I'm going to continue to like things I like SUCK IT\": 1,\n",
              "         'can we start cancelling men who call women “females” and “bitches”': 2,\n",
              "         '@_DirtyTruths Wikipedia says that there were no sanctions against food and medicine.  Try again, microbrain.': 2,\n",
              "         'It’s the scene where Ryuji gets taken away (and implied molested) by the two flamboyant gay guys and the game just kinda treats it like a joke. Like the game treats adult male on teenage female rape as awful, but adult male on teenage male is somehow funny? That’s the problem.': 3,\n",
              "         'Guy: *jokes about rape and honour killings* His mutuals: \"But gay people and feminists make fun of Islam????\"': 1,\n",
              "         'Meatballs in the morning would be the problem #mkr': 2,\n",
              "         '@MichaelToes @MrRepzion and here we see the lesser spotted feminazi being ridiculed by equalitarians': 1,\n",
              "         \"@KaitlynBurnell i'm a little concerned. the tweet still exists. i see no retraction published.\": 3,\n",
              "         '@bllockwood What was your favorite subject in school? #AskBobby': 2,\n",
              "         \"Colin was pretty nice to the girls. Do you think he's giving them the dick? #MKR\": 3,\n",
              "         'Unfortunately your sausage was a little bit short... #mkr': 5,\n",
              "         'Racist is an adjective, it isn\\'t a discriminatory or aggressive word. It isn\\'t racist to call someone a racist. It is sexist to call a woman a bitch, a female dog. Its also not a curse word like \"fucking\".': 2,\n",
              "         \"Good thing you'll never get the opportunity. @ItsJonTyler I just don't feel safe driving with any girl call me sexist\": 1,\n",
              "         'Don’t Call Me About Another Nigga/Female Especially You Bitch Ass Nigga’s': 3,\n",
              "         'Every time I try to read this book I get to the part where school &amp; YA are a murderous feminazi conspiracy, and stop http://t.co/W03kbqJQqZ': 2,\n",
              "         '@Anastaciatime flick it!': 3,\n",
              "         '.@ListenToRaisin Patriarchy is a myth, so the system has no push back &amp; feminists use chivalry &amp; benevolent sexism masterfully to own ends.': 1,\n",
              "         'I hope to god Kat cant sleep at night #MKR': 3,\n",
              "         \"@FindChaos FFS, American Dad has rape jokes, it's made for adults, the fact it has two white gay men is pretty fricken' tame.\": 2,\n",
              "         'I forgot, old tweets and blogs only count if if proves your point. Deadspin tweeting *rape* jokes, *faggot cams*, outing gay citizens, and supporting sexual assault don’t count because they are not recent. But name changes, that’s what’s ruining this world. Stay angry ‘my dude’!': 1,\n",
              "         \"RT @RCrowster: I'm not sexist, but females lately are just dumbing down. Please focus on your brain and your soul than you do on your body …\": 3,\n",
              "         '@SenatorWong is rather flexible with the prattle of #values. Peter Killin, vanquished for over gay infiltration (ever Freudian, that); Jeremy Hearn likewise for anti-Muslim fervour. But @CreaseyLuke has #ALP absolution despite having previously shared rape jokes. #auspol': 2,\n",
              "         \"@iamyaokhari Men HATE getting the last word. That's why they follow you around expectantly after an argument, hoping you'll say something.\": 1,\n",
              "         'Kandre are SUCH bad sports #MKR': 3,\n",
              "         'Ok, cool. This guy says his “passion” made him call a junior female Senator a disgusting, fucking bitch. Thanks for that absurd explanation.': 2,\n",
              "         'Things i dont find funny:rascist \"jokes\" rape \"jokes\" gay \"jokes\".shit aint funny.': 1,\n",
              "         '@DGotBricks: What happen to them vixen ent bitches they got ran and threw to the side like a foothill bitch': 1,\n",
              "         \"Heads up to others who live in upstate NY the Roma's in Latham NY has a bunch of assholes working in it. They have been making racist comments about their black customers, make up rape jokes about female employees and customers, and frequently take about how trans, gay, and-\": 2,\n",
              "         '#mkr Katie &amp; Nikki are atrocities, but Kat &amp; Andre would be the ones leaving if they had scored the promoskanks fairly. Kat has no dignity.': 2,\n",
              "         'Cracked up at Charlie telling Eureka to shut up XD MOMENTS': 3,\n",
              "         \"RT @mensrightsrdt: #mensrights@reddit Misandrist bigot asks of #BlameOneNotAll: Do men who don't hurt women ac... http://t.co/mwlVtEWaqp #F…\": 3,\n",
              "         'RT @VILLEGOD I always really wish i had a girlfriend when im hungry. #NotSexist #ImHighOkay #TooLazy': 2,\n",
              "         'RT @curdistani: Kurdish forcec #YPG and allies cleansed Qaraqawzaq bridge area from ISIS terrorists #TwitterKurds #Kobane': 4,\n",
              "         '@WayneJBurrows Normally.  But, nope.': 3,\n",
              "         'RT @Drift0r: I said \"we got raped\" in a video today and the white knights came out in force. Guess it is time to dust off the ban hammer an…': 2,\n",
              "         \"I bet it never, ever occurred to you that I can't say hello to you &amp; risk another goodbye. #ialmostdo #RED 😚😍❤✨\": 2,\n",
              "         \"@ansaralummah13 @Believer__Soul The reason they don't release the gold dinar is because they don't have any gold.\": 3,\n",
              "         'Kat and Andre scored strategically just so stay in the bloody competition. SO UNFAIR! #katandandre #mkr #katieandnikki': 1,\n",
              "         'Even tough your header is a joke about anal? You think being gay is funny? You think anal sex on men is funny? A man who is on twitter crying about a rape joke? Grow up': 3,\n",
              "         'Fuck bullying.': 2,\n",
              "         'Noted gay icon and prison rape joke-maker, Ellen DeGeneres.': 3,\n",
              "         'Teams deserve an Oscar for their performance tonight in \"Holy Shit this is a terrible meal but I\\'ll pretend to love it. #MKR #killerblondes': 1,\n",
              "         \"Great to see the local National Park workers tucking into a free feed.  How about you empty those loo's instead. #MKR\": 3,\n",
              "         'Why are the WA contestants always assholes? 3 yeas running!! #mkr': 3,\n",
              "         'Watching Dodgeball for the first time in about 8 years, fat joke, gay joke, rape joke within the first twenty mins....': 3,\n",
              "         '@EurekAlertAAAS: Researchers push to import top anti-bullying program to US schools http://t.co/UPZrMbl\\r\\n@NomCookiesNom Instead of personal attacks, maybe you can explain why there are more than 100 Islamic terrorist groups.\\r\\n@_Finessinfool yea imma bring in tomorrow\\r\\n#mkr I think Colin might not be a fan of the meatballs.\\r\\n@KatieBatterman yeah, we should talk. I was just about to send an email over to them right before I was told it was retracted.\\r\\nI\\'m not a fan of the bears from QLD. 💩 #MKR\\r\\n@eDRoaCH @orvtech this isn\\'t de-anonymizing. the phone # wouldn\\'t necessarily be stored. no names would be required.\\r\\n@owlcity hey adam :) I\\'ve been to 2 of your concerts &amp; haven\\'t been allowed to meet you. when will I be able to?\\r\\nMe: The boat or the thing that melts Nazi faces?\\r\\nWatching a video of the snowman play from primary school! Go Tanners Wood haha #oldschool\\r\\n@eranubuwah @352_7538 Taking tiny villages while loosing major cities like Tikrit.\\r\\nSofro Bulling No Chat u_u\\r\\n@greenlinerzjm The best Muslims are the ones who ignore most of what is in the Quran and Hadiths. ISIS doesn\\'t ignore any of it.\\r\\nThis kid in my science class got the iPod 4th over the 5th.. That\\'s so stupid\\r\\n@danaleigh92 pretty sure me and mama will know all the words to #NightTrain by the time we get home👍☺ because we can\\'t listen to Luke 💔👎\\r\\n@thaumatropia too late, i\\'m literally blue. no taksies backsies.\\r\\n.@BenKuchera I CAN PROGRAM IT TO DO MANY THINGS RABDAFGTSERdfwgradggrtybgbawfhghddsfdtgtgbwjdserdfggvssadfrwqVXXSDF https://t.co/fLjADoHL24\\r\\n@KellyTurner99 @buellerishere ... That\\'s one example of self genocide for the sake of pandering to left wing idiotology.\\r\\n#10PeopleYouTrulyLove Mom\\r\\n@MarloThomas: Too many children are dying from #bullying! I hope this new law in New Jersey helps: http://t.co/Rr47y6m\"': 2,\n",
              "         'Eugh piss off kat #mkr': 2,\n",
              "         'The fact that i just paid $7 for a fruit cup and a coffee at school is insane': 3,\n",
              "         'god bless my mom for bringing home chinese food': 3,\n",
              "         'There is a Normandy Crossing yearbook for class 15 as fifth graders at my house.. I see everyone here!': 2,\n",
              "         'My ex showed me that video of the guy from jackass talking about how \"if u don\\'t find rape jokes funny, then get out\" as a means of showing me what he believed. Then blantently used the n-word and the f-slur around me and called being gay \"unnatural\"': 2,\n",
              "         'They joke abt rape yet when a gay guy dms them they panic and call it sexual assault': 2,\n",
              "         \"A horrible gay stereotype AND a rape joke. With basically nothing else about him. He's the reason I stopped with that series tbh.\": 2,\n",
              "         '@caitlin_mariee dear Caitlin, I read your tweets and automatically lose my case of the Mondays #yourthebest': 1,\n",
              "         \"@CarSalesBossMan Unlike men, who can't fix cars because they can't fit their giant fucking swelled heads under them.\": 1,\n",
              "         'Straights when u tell them their “Sam Woodward will get raped in prison” jokes are homophobic bc they are trying to a)equate prison rape with consensual gay sex, and following this logic b)argue homosexuality should be a tool for punishment': 3,\n",
              "         'Welcome to my \"stupid emotionally crippled child who needs to put their fingers in their ears cuz life is hard\" list. http://t.co/Gb3n2XYwPg': 1,\n",
              "         '@kisskissto1D @tomlinson_love is a bully and has a gaay laptop!:)': 2,\n",
              "         \"oh, look. threats. no, i really don't care. @hyperion5182 @PolitiBunny\": 3,\n",
              "         '@petecheslock after he tried pulling the \"you don\\'t need to be here, woman, because i\\'m so senior and i\\'ve already done this\"': 3,\n",
              "         \"@stufox @keith_ng No, I'm a feminazi -- I need sexism to outrage me enough to invade something.\": 1,\n",
              "         \"I can't handle all the sass at Sassy. Feisty   foodies are definitely going home. #mkr\": 1,\n",
              "         'So @RepTedYoho calling female colleagues a fucking bitch isn’t accosting or attacking them? Can’t wait till someone calls your daughters fucking bitches and you defend them for it. I’m sure you’ll have this same passion for their defense.': 2,\n",
              "         'RT @RetiredUsnCapt: @ShaePhoenix Would looooove to see a feminazi take on this ha ha': 2,\n",
              "         'Homophobic/transphobic film wins #Tropfest. Key moments: trans ppl used as a joke &amp; a character tricked into gay sex. Cos rape is hilarious?': 3,\n",
              "         'Also gay jokes and anal-rape': 1,\n",
              "         'RT @RKHayer: #Kurdish Troops Liberate #Kirkuk #Oil Workers Sputnik International #Iraq #Kurds #ISIS #IS #Hostages #Prisonersofwar http://t.…': 5,\n",
              "         'She’s such an evil bitch. Now who’s not smiling? Shove it. #Kat #MKR': 2,\n",
              "         'How can they get away with that. Kat &amp; Andre are cunts. #MKR': 3,\n",
              "         '@reflexhouse what you gona do then? After all that': 1,\n",
              "         \"Vic still fired? 1-Vic still makes money. 2-Vic still makes more money than Monica. 3-The VA's used some other companies characters for gay/incest/rape/pedo jokes. 4-At the end of this lawsuit Funimation will have a firing spree handled by Sony. do we need #Monica fired soon?\": 2,\n",
              "         'Self-awareness at critically low levels @YouknowitsDoug im not sexist but some bitches are dumb': 1,\n",
              "         'RT @tsnorway: The difference between crime and punishment by ISIS and by Saudi Arabia? #daesh #Saudi #ShariaLaw #humanrights http://t.co/zW…': 2,\n",
              "         'RT @peter__kay:RT @AshleyBellamy_: Katie and Nikki need to be deported from australia #MKR': 3,\n",
              "         'Starting To Get An Headache.': 6,\n",
              "         \"@SantaCruzTax soon. We've been working on it. Gotta move fast.\": 3,\n",
              "         \"RT @darthkbub I'm not racist and I'm not sexist...I'm just tired of self-entitlement\": 2,\n",
              "         \"RT @DarrellHall_: I'm not sexist but a female can't do what a nigga do... In the end y'all gonna look like a hoe and a dude gonna look like…\": 1,\n",
              "         \"RT @KingHammock Fat Amy isn't funny because she's a women... I personally don't think women are funny at all #notsexist #realtalk\": 1,\n",
              "         'Why am I disappointed?': 1,\n",
              "         \"Stop sending me anonymous valentines things. I'm pretty sure they are all from GamerGate.\": 3,\n",
              "         '@edgeofthesandbx @batchelorshow @FearDept And any fool can read about Stephan Bandera and find that he had no Nazi ideaology.': 2,\n",
              "         '#itreallymakesmemad when people bully , it ,makes me want to tell the bully , to try to mess wit me , bet yo ass wake up on the floor! #word': 1,\n",
              "         \"If we're at the bottom of the leaderboard, we're going home! CLEVER! #MKR\": 3,\n",
              "         \"Kudos, @RepTedYoho, for your apology to @AOC, but dude, no need! As a female, when a man calls me 'disgusting' + 'out of my mind' --for saying basic 9th-grade level facts, then mutters 'fucking bitch' in front of a reporter-- I too 'misunderstand' &amp; 'misconstrue' word meanings.\": 3,\n",
              "         \"@shaner38 Just my guess...it's now in my tweets as proof if it comes true.  I knew he'd rig the 2013 draft so the Avs could get Seth Jones.\": 2,\n",
              "         'Thanks @ameliagree…': 5,\n",
              "         'This is the probably the committee that decides who sells oil to the world. They just gave it a sexier name. 3/4 of these places toss gay people off the tallest building in sight and throw rocks at women for being victim of rape. What a sad joke.': 4,\n",
              "         \"First a rape joke and now I'm gonna be one of those sad single 40 year old gay guys? How fucking rude. I love my sister.\": 1,\n",
              "         'First thing I would do if #thePurge was real is say jokes about rape and gay people, which is currently illegal due to PC feminazis. #tcot': 4,\n",
              "         \"Hopefully this will begin to die down soon, in some spaces at least, see ppl aren't making prison rape jokes like they used to, &amp; it's crazy how the standard deviations around the usage of 'gay' as an insult have shifted. Otoh, more essentialism &amp; transphobia, so backlash as ever\": 1,\n",
              "         'RT @ernesto_aloia: @guidoolimpio Kirkuk is the new Kobane from USAF point of view: a lot of  targets in contact with friendly forces servin…': 1,\n",
              "         'RT @RudawEnglish: #Peshmerga forces managed to cut off the main road between Tel Afar and #Mosul and disrupt #ISIS supply chain,... http://…': 2,\n",
              "         'Why is it phillip schofeild comes out as gay, its on. BBC news, 1,000s of children up and down the country by rape gangs, nothing what a joke.': 2,\n",
              "         'There is no circumstance in which threatening children is considered OK. There is no circumstance in which \"triggering\" is OK.': 2,\n",
              "         'A wise man once told me, \"Logan, don\\'t weigh 200 pounds.\" @therealgiffy': 3,\n",
              "         '@TVWEEKmag #katandandre  that was priceless #mkr #tvweekmag': 1,\n",
              "         \"RT @J_Birt94 Now I'm not sexist, and fully believe and support the idea of gender equality, but some women really cannot drive.\": 2,\n",
              "         '@Questionor that is a lot harder. developer policy prohibits it.': 2,\n",
              "         \"@AH_bigmak93 @ogdave_o I like to give non-apologies after the rape stuff and just do gay jokes instead. Haha gays. They're gay.\": 1,\n",
              "         \".@DoWeWantTo #'s like this...I just spin the gallery on my tablet like the Price is Right wheel and use whatever meme or story I land on...\": 2,\n",
              "         'Everybody go vote Early!!!!!! #GoVote': 2,\n",
              "         'oh sorry i dont date girls who are taller than me': 4,\n",
              "         '@mykitchenrules  #katandandre maybe you should make sure your dish is up to scratch before you laugh at others #nasty #mkr #mkr2015 😂😂😂': 3,\n",
              "         'I agree entirely on prison being a special case. I apologize, I was unclear. I was using the ubiquity of prison rape jokes in pop culture as a heuristic measure of how widespread the straight fear of gay rape might be in the broader culture.': 1,\n",
              "         '@JihaTweAnbarwea In the meantime, the peshmerga are posting pictures of truckloads of Daesh killed in battle.': 2,\n",
              "         'RT @BlackGirlDanger: New rule (old rule): you can\\'t be a \"leader\" in a movement against oppressions you do not experience.': 2,\n",
              "         '@LeBronVuitton: A loyal bitch from the burbs without daddy issues is like finding a holographic Mewtwo. ...sounding like me over there lol': 3,\n",
              "         '@obsurfer84 obsurfer=lies, vileislam=truth': 3,\n",
              "         '@TheDemonEyeX next time someone calls VJ a rape joke just ask them why they think gay sex = rape. That usually shuts em up. :D': 4,\n",
              "         \"@KuraFire yeah, that's my only concern. Being a nonprofit gives us a lot of restrictions.\": 1,\n",
              "         \"RT @katsferdayz And no I'm not sexist but a bitch is a bitch\": 3,\n",
              "         \"@Bahbahsham they hate me bc I'm gay. They hate me bc they think I lied about getting raped, I didn't. Rape is a horrible thing to joke about\": 1,\n",
              "         '@anniekfox There is literally photo evidence above...?': 1,\n",
              "         \"@ktonieskacze @Femitheist Agreed. Thoughtful. Every once in a while an old tweet of mine lumping her Poe in w Gearheart is RT'ed. I cringe.\": 1,\n",
              "         \"RT @KeatonRich: I'm not sexist but I hate when certain girls tweet about football when I bet they think offside is a seasoning.\": 4,\n",
              "         ...})"
            ]
          },
          "metadata": {},
          "execution_count": 117
        }
      ],
      "source": [
        "Counter(X_train)"
      ]
    },
    {
      "cell_type": "code",
      "execution_count": 118,
      "metadata": {
        "colab": {
          "base_uri": "https://localhost:8080/"
        },
        "id": "CtyZMTMJeSwm",
        "outputId": "1a17db0a-83b4-4191-e6c5-f52bb6d8f076"
      },
      "outputs": [
        {
          "output_type": "execute_result",
          "data": {
            "text/plain": [
              "Counter({'not_cyberbullying': 1865, 'gender': 2135})"
            ]
          },
          "metadata": {},
          "execution_count": 118
        }
      ],
      "source": [
        "Counter(y_test)"
      ]
    },
    {
      "cell_type": "markdown",
      "metadata": {
        "id": "T5P6mHjhhg1L"
      },
      "source": []
    },
    {
      "cell_type": "code",
      "execution_count": 119,
      "metadata": {
        "id": "4ONHOsppcu_x"
      },
      "outputs": [],
      "source": [
        "#Clean the text in order to extract meaningful features"
      ]
    },
    {
      "cell_type": "code",
      "execution_count": 120,
      "metadata": {
        "colab": {
          "base_uri": "https://localhost:8080/"
        },
        "id": "hSPaxxXEKq50",
        "outputId": "d0e96b07-0335-4db8-92fe-1066b1f5a0d8"
      },
      "outputs": [
        {
          "output_type": "stream",
          "name": "stderr",
          "text": [
            "[nltk_data] Downloading package stopwords to /root/nltk_data...\n",
            "[nltk_data]   Package stopwords is already up-to-date!\n",
            "[nltk_data] Downloading package wordnet to /root/nltk_data...\n",
            "[nltk_data]   Package wordnet is already up-to-date!\n",
            "[nltk_data] Downloading package punkt to /root/nltk_data...\n",
            "[nltk_data]   Package punkt is already up-to-date!\n"
          ]
        },
        {
          "output_type": "execute_result",
          "data": {
            "text/plain": [
              "True"
            ]
          },
          "metadata": {},
          "execution_count": 120
        }
      ],
      "source": [
        "import nltk\n",
        "from nltk.stem import WordNetLemmatizer\n",
        "from nltk.corpus import stopwords\n",
        "from nltk.tokenize import word_tokenize\n",
        "\n",
        "nltk.download('stopwords')\n",
        "nltk.download('wordnet')\n",
        "nltk.download('punkt')"
      ]
    },
    {
      "cell_type": "code",
      "execution_count": 121,
      "metadata": {
        "id": "qjlaF0qkLTeO"
      },
      "outputs": [],
      "source": [
        "def process_lang_data(text):\n",
        "  '''\n",
        "    For a given text, go through the process of tokenizing, removing stopwords,\n",
        "    stemming / lemmatization, and removing punctuation. Return the cleaned text.\n",
        "  '''\n",
        "  cleaned_text = []\n",
        "  punctuation = string.punctuation\n",
        "  our_stopwords = stopwords.words('english')\n",
        "  lemmatizer = WordNetLemmatizer()\n",
        "\n",
        "  for token in word_tokenize(text):\n",
        "    if token not in punctuation and token not in our_stopwords:\n",
        "      clipped_token = lemmatizer.lemmatize(token)\n",
        "      cleaned_text.append(clipped_token)\n",
        "\n",
        "  return cleaned_text"
      ]
    },
    {
      "cell_type": "code",
      "execution_count": 122,
      "metadata": {
        "id": "xBHTZF0Ifg39"
      },
      "outputs": [],
      "source": [
        "#Training the data\n",
        "from sklearn.feature_extraction.text import CountVectorizer\n",
        "\n",
        "bow2 = CountVectorizer(analyzer=process_lang_data, max_features=1000) # using the function we made above\n",
        "bow2.fit(X_train)                             # fitting to our training data\n",
        "bow2_train = bow2.transform(X_train).toarray() # then transforming both training and testing data\n",
        "bow2_test = bow2.transform(X_test).toarray()"
      ]
    },
    {
      "cell_type": "code",
      "execution_count": 123,
      "metadata": {
        "colab": {
          "base_uri": "https://localhost:8080/"
        },
        "id": "1jdMhJ6Lf0Kg",
        "outputId": "f2a86fe7-f815-457b-b7ac-1fad08ec8aec"
      },
      "outputs": [
        {
          "output_type": "stream",
          "name": "stdout",
          "text": [
            "(16000, 1000)\n",
            "(4000, 1000)\n"
          ]
        }
      ],
      "source": [
        "print(bow2_train.shape)\n",
        "print(bow2_test.shape)"
      ]
    },
    {
      "cell_type": "code",
      "execution_count": 124,
      "metadata": {
        "id": "PhCrZXH2W5T2"
      },
      "outputs": [],
      "source": [
        "y=sorted_tweets['cyberbullying_type'].values"
      ]
    },
    {
      "cell_type": "code",
      "execution_count": 125,
      "metadata": {
        "colab": {
          "base_uri": "https://localhost:8080/"
        },
        "id": "RsiXUKkSX5AJ",
        "outputId": "913ea14a-7814-4d9b-bd99-bc8f3c467d76"
      },
      "outputs": [
        {
          "output_type": "stream",
          "name": "stdout",
          "text": [
            "['gender' 'not_cyberbullying' 'not_cyberbullying' ... 'gender'\n",
            " 'not_cyberbullying' 'not_cyberbullying']\n"
          ]
        }
      ],
      "source": [
        "print(y)"
      ]
    },
    {
      "cell_type": "code",
      "execution_count": 126,
      "metadata": {
        "id": "VkJKEu7BD-qn",
        "colab": {
          "base_uri": "https://localhost:8080/"
        },
        "outputId": "2eb73a5d-befd-4dc2-f895-3abeeade3155"
      },
      "outputs": [
        {
          "output_type": "execute_result",
          "data": {
            "text/plain": [
              "(16000, 1000)"
            ]
          },
          "metadata": {},
          "execution_count": 126
        }
      ],
      "source": [
        "bow2_train.shape"
      ]
    },
    {
      "cell_type": "code",
      "execution_count": 127,
      "metadata": {
        "id": "sHhjQYFJOHEC"
      },
      "outputs": [],
      "source": [
        "from sklearn.preprocessing import LabelEncoder\n",
        "\n",
        "# Encode labels\n",
        "label_encoder = LabelEncoder()\n",
        "y_train_encoded = label_encoder.fit_transform(y_train)\n",
        "y_test_encoded = label_encoder.transform(y_test)\n",
        "\n",
        "# Convert labels to float32\n",
        "y_train_float = y_train_encoded.astype('float32')\n",
        "y_test_float = y_test_encoded.astype('float32')\n"
      ]
    },
    {
      "cell_type": "code",
      "execution_count": 128,
      "metadata": {
        "id": "oDBq7DKB2pYT"
      },
      "outputs": [],
      "source": [
        "import re\n",
        "\n",
        "def depure_data(data):\n",
        "\n",
        "    #Removing URLs with a regular expression\n",
        "    url_pattern = re.compile(r'https?://\\S+|www\\.\\S+')\n",
        "    data = url_pattern.sub(r'', data)\n",
        "\n",
        "    # Remove Emails\n",
        "    data = re.sub('\\S*@\\S*\\s?', '', data)\n",
        "\n",
        "    # Remove new line characters\n",
        "    data = re.sub('\\s+', ' ', data)\n",
        "\n",
        "    # Remove distracting single quotes\n",
        "    data = re.sub(\"\\'\", \"\", data)\n",
        "\n",
        "    return data"
      ]
    },
    {
      "cell_type": "code",
      "execution_count": 129,
      "metadata": {
        "id": "ueQVUp-V23Dg"
      },
      "outputs": [],
      "source": [
        "import gensim\n",
        "from nltk.tokenize.treebank import TreebankWordDetokenizer\n",
        "\n",
        "def sent_to_words(sentences):\n",
        "    for sentence in sentences:\n",
        "        yield(gensim.utils.simple_preprocess(str(sentence),     deacc=True))\n",
        "\n",
        "def detokenize(text):\n",
        "    return TreebankWordDetokenizer().detokenize(text)"
      ]
    },
    {
      "cell_type": "code",
      "execution_count": 130,
      "metadata": {
        "id": "MBrSk-4nqMCc"
      },
      "outputs": [],
      "source": [
        "import numpy as np\n",
        "from sklearn.metrics import accuracy_score, f1_score\n",
        "from sklearn.model_selection import train_test_split\n",
        "from keras.models import Sequential\n",
        "from keras.layers import Embedding, Conv1D, GlobalMaxPooling1D, Dense\n",
        "from sklearn.metrics import precision_score\n",
        "from sklearn.metrics import recall_score\n",
        "\n"
      ]
    },
    {
      "cell_type": "markdown",
      "metadata": {
        "id": "60I_rzSP9Hz7"
      },
      "source": [
        "# MLP Classifier"
      ]
    },
    {
      "cell_type": "code",
      "execution_count": 131,
      "metadata": {
        "id": "Psfp65tSuJK-",
        "colab": {
          "base_uri": "https://localhost:8080/"
        },
        "outputId": "8622434d-a2f9-47d6-8a79-018ed3a519e8"
      },
      "outputs": [
        {
          "output_type": "stream",
          "name": "stdout",
          "text": [
            "MLP Model Accuracy: 95.58%\n",
            "F1 Scores: 0.9555887845120778\n",
            "Precision score:  0.9552400192139721\n",
            "Recall Score:  0.9560390780493624\n"
          ]
        }
      ],
      "source": [
        "from sklearn.neural_network import MLPClassifier\n",
        "from sklearn.metrics import accuracy_score, f1_score\n",
        "\n",
        "# Initialize and train the MLP classifier\n",
        "clf = MLPClassifier(hidden_layer_sizes=(500,4), max_iter=200)  # Adjust parameters as needed\n",
        "clf.fit(bow2_train, y_train)\n",
        "\n",
        "# Make predictions using the trained classifier\n",
        "predictions2 = clf.predict(bow2_test)\n",
        "\n",
        "# Evaluate accuracy\n",
        "score = accuracy_score(y_test, predictions2)\n",
        "print('MLP Model Accuracy: {:.2%}'.format(score))\n",
        "\n",
        "# Calculate F1 score\n",
        "f1_scores = f1_score(y_test, predictions2, average='macro')\n",
        "print('F1 Scores:', f1_scores)\n",
        "print('Precision score: ', precision_score(y_test, predictions2, average='macro'))\n",
        "print('Recall Score: ', recall_score(y_test, predictions2, average='macro'))\n",
        "\n",
        "\n"
      ]
    },
    {
      "cell_type": "code",
      "execution_count": 132,
      "metadata": {
        "id": "3OOAybRW9Oem",
        "colab": {
          "base_uri": "https://localhost:8080/",
          "height": 581
        },
        "outputId": "c5ee219c-ad89-44c2-e65f-a613e107b6f2"
      },
      "outputs": [
        {
          "output_type": "stream",
          "name": "stdout",
          "text": [
            "AUC: 0.9560390780493623\n"
          ]
        },
        {
          "output_type": "display_data",
          "data": {
            "text/plain": [
              "<Figure size 800x600 with 1 Axes>"
            ],
            "image/png": "[encoded data removed]"
          },
          "metadata": {}
        }
      ],
      "source": [
        "import matplotlib.pyplot as plt\n",
        "from sklearn.metrics import roc_curve, roc_auc_score\n",
        "\n",
        "\n",
        "\n",
        "# Assuming you have your true labels and predicted probabilities\n",
        "# true_labels = y_test  # True labels (0 or 1)\n",
        "# predicted_probs = model.predict_proba(X_test)[:, 1]  # Predicted probabilities for class 1\n",
        "y_test_binary = np.where(y_test == 'gender', 1, 0)\n",
        "predictions2_binary=np.where(predictions2 == 'gender', 1, 0)\n",
        "\n",
        "fpr, tpr, thresholds = roc_curve(y_test_binary, predictions2_binary)\n",
        "roc_auc = roc_auc_score(y_test_binary, predictions2_binary)\n",
        "print('AUC:', roc_auc)\n",
        "\n",
        "plt.figure(figsize=(8, 6))\n",
        "plt.plot(fpr, tpr, color='darkorange', lw=2, label=f'ROC curve (AUC = {roc_auc:.2f})')\n",
        "plt.plot([0, 1], [0, 1], color='navy', lw=2, linestyle='--')\n",
        "plt.xlim([0.0, 1.0])\n",
        "plt.ylim([0.0, 1.05])\n",
        "plt.xlabel('False Positive Rate')\n",
        "plt.ylabel('True Positive Rate')\n",
        "plt.title('Receiver Operating Characteristic (ROC) Curve for MLP')\n",
        "plt.legend(loc='lower right')\n",
        "plt.show()"
      ]
    },
    {
      "cell_type": "code",
      "execution_count": 133,
      "metadata": {
        "id": "6f9Acj3p40pu",
        "colab": {
          "base_uri": "https://localhost:8080/",
          "height": 450
        },
        "outputId": "7922b685-9fb5-4bc9-d550-6f08e700dafc"
      },
      "outputs": [
        {
          "output_type": "display_data",
          "data": {
            "text/plain": [
              "<Figure size 640x480 with 2 Axes>"
            ],
            "image/png": "[encoded data removed]"
          },
          "metadata": {}
        }
      ],
      "source": [
        "import matplotlib.pyplot as plt\n",
        "from sklearn.datasets import make_classification\n",
        "from sklearn.metrics import confusion_matrix, ConfusionMatrixDisplay\n",
        "from sklearn.model_selection import train_test_split\n",
        "from sklearn.svm import SVC\n",
        "\n",
        "cm = confusion_matrix(y_test, predictions2, labels=clf.classes_)\n",
        "disp = ConfusionMatrixDisplay(confusion_matrix=cm,display_labels=clf.classes_)\n",
        "disp.plot()\n",
        "plt.show()"
      ]
    },
    {
      "cell_type": "code",
      "execution_count": 134,
      "metadata": {
        "id": "qkZ2u5pBxkzr"
      },
      "outputs": [],
      "source": [
        "#pip install keras"
      ]
    },
    {
      "cell_type": "markdown",
      "metadata": {
        "id": "-zYSdnOEXAUS"
      },
      "source": [
        "\n",
        "\n",
        "```\n",
        "# This is formatted as code\n",
        "```\n",
        "\n",
        "# LSTM\n"
      ]
    },
    {
      "cell_type": "code",
      "execution_count": 135,
      "metadata": {
        "colab": {
          "base_uri": "https://localhost:8080/",
          "height": 443
        },
        "id": "AgkfaJe1W-EN",
        "outputId": "ea8b8fe0-e51d-4cf1-a9e2-fca1b5081578"
      },
      "outputs": [
        {
          "output_type": "stream",
          "name": "stdout",
          "text": [
            "Epoch 1/10\n",
            "411/500 [=======================>......] - ETA: 28s - loss: 0.6765 - accuracy: 0.5593"
          ]
        },
        {
          "output_type": "error",
          "ename": "KeyboardInterrupt",
          "evalue": "ignored",
          "traceback": [
            "\u001b[0;31m---------------------------------------------------------------------------\u001b[0m",
            "\u001b[0;31mKeyboardInterrupt\u001b[0m                         Traceback (most recent call last)",
            "\u001b[0;32m<ipython-input-135-26794c5684ea>\u001b[0m in \u001b[0;36m<cell line: 17>\u001b[0;34m()\u001b[0m\n\u001b[1;32m     15\u001b[0m \u001b[0;34m\u001b[0m\u001b[0m\n\u001b[1;32m     16\u001b[0m \u001b[0;31m# Train the model using your data\u001b[0m\u001b[0;34m\u001b[0m\u001b[0;34m\u001b[0m\u001b[0m\n\u001b[0;32m---> 17\u001b[0;31m \u001b[0mmodel\u001b[0m\u001b[0;34m.\u001b[0m\u001b[0mfit\u001b[0m\u001b[0;34m(\u001b[0m\u001b[0mbow2_train\u001b[0m\u001b[0;34m,\u001b[0m \u001b[0my_train_float\u001b[0m\u001b[0;34m,\u001b[0m \u001b[0mepochs\u001b[0m\u001b[0;34m=\u001b[0m\u001b[0;36m10\u001b[0m\u001b[0;34m)\u001b[0m\u001b[0;34m\u001b[0m\u001b[0;34m\u001b[0m\u001b[0m\n\u001b[0m\u001b[1;32m     18\u001b[0m \u001b[0;34m\u001b[0m\u001b[0m\n\u001b[1;32m     19\u001b[0m \u001b[0;31m# Make predictions using the trained model\u001b[0m\u001b[0;34m\u001b[0m\u001b[0;34m\u001b[0m\u001b[0m\n",
            "\u001b[0;32m/usr/local/lib/python3.10/dist-packages/keras/src/utils/traceback_utils.py\u001b[0m in \u001b[0;36merror_handler\u001b[0;34m(*args, **kwargs)\u001b[0m\n\u001b[1;32m     63\u001b[0m         \u001b[0mfiltered_tb\u001b[0m \u001b[0;34m=\u001b[0m \u001b[0;32mNone\u001b[0m\u001b[0;34m\u001b[0m\u001b[0;34m\u001b[0m\u001b[0m\n\u001b[1;32m     64\u001b[0m         \u001b[0;32mtry\u001b[0m\u001b[0;34m:\u001b[0m\u001b[0;34m\u001b[0m\u001b[0;34m\u001b[0m\u001b[0m\n\u001b[0;32m---> 65\u001b[0;31m             \u001b[0;32mreturn\u001b[0m \u001b[0mfn\u001b[0m\u001b[0;34m(\u001b[0m\u001b[0;34m*\u001b[0m\u001b[0margs\u001b[0m\u001b[0;34m,\u001b[0m \u001b[0;34m**\u001b[0m\u001b[0mkwargs\u001b[0m\u001b[0;34m)\u001b[0m\u001b[0;34m\u001b[0m\u001b[0;34m\u001b[0m\u001b[0m\n\u001b[0m\u001b[1;32m     66\u001b[0m         \u001b[0;32mexcept\u001b[0m \u001b[0mException\u001b[0m \u001b[0;32mas\u001b[0m \u001b[0me\u001b[0m\u001b[0;34m:\u001b[0m\u001b[0;34m\u001b[0m\u001b[0;34m\u001b[0m\u001b[0m\n\u001b[1;32m     67\u001b[0m             \u001b[0mfiltered_tb\u001b[0m \u001b[0;34m=\u001b[0m \u001b[0m_process_traceback_frames\u001b[0m\u001b[0;34m(\u001b[0m\u001b[0me\u001b[0m\u001b[0;34m.\u001b[0m\u001b[0m__traceback__\u001b[0m\u001b[0;34m)\u001b[0m\u001b[0;34m\u001b[0m\u001b[0;34m\u001b[0m\u001b[0m\n",
            "\u001b[0;32m/usr/local/lib/python3.10/dist-packages/keras/src/engine/training.py\u001b[0m in \u001b[0;36mfit\u001b[0;34m(self, x, y, batch_size, epochs, verbose, callbacks, validation_split, validation_data, shuffle, class_weight, sample_weight, initial_epoch, steps_per_epoch, validation_steps, validation_batch_size, validation_freq, max_queue_size, workers, use_multiprocessing)\u001b[0m\n\u001b[1;32m   1740\u001b[0m                         ):\n\u001b[1;32m   1741\u001b[0m                             \u001b[0mcallbacks\u001b[0m\u001b[0;34m.\u001b[0m\u001b[0mon_train_batch_begin\u001b[0m\u001b[0;34m(\u001b[0m\u001b[0mstep\u001b[0m\u001b[0;34m)\u001b[0m\u001b[0;34m\u001b[0m\u001b[0;34m\u001b[0m\u001b[0m\n\u001b[0;32m-> 1742\u001b[0;31m                             \u001b[0mtmp_logs\u001b[0m \u001b[0;34m=\u001b[0m \u001b[0mself\u001b[0m\u001b[0;34m.\u001b[0m\u001b[0mtrain_function\u001b[0m\u001b[0;34m(\u001b[0m\u001b[0miterator\u001b[0m\u001b[0;34m)\u001b[0m\u001b[0;34m\u001b[0m\u001b[0;34m\u001b[0m\u001b[0m\n\u001b[0m\u001b[1;32m   1743\u001b[0m                             \u001b[0;32mif\u001b[0m \u001b[0mdata_handler\u001b[0m\u001b[0;34m.\u001b[0m\u001b[0mshould_sync\u001b[0m\u001b[0;34m:\u001b[0m\u001b[0;34m\u001b[0m\u001b[0;34m\u001b[0m\u001b[0m\n\u001b[1;32m   1744\u001b[0m                                 \u001b[0mcontext\u001b[0m\u001b[0;34m.\u001b[0m\u001b[0masync_wait\u001b[0m\u001b[0;34m(\u001b[0m\u001b[0;34m)\u001b[0m\u001b[0;34m\u001b[0m\u001b[0;34m\u001b[0m\u001b[0m\n",
            "\u001b[0;32m/usr/local/lib/python3.10/dist-packages/tensorflow/python/util/traceback_utils.py\u001b[0m in \u001b[0;36merror_handler\u001b[0;34m(*args, **kwargs)\u001b[0m\n\u001b[1;32m    148\u001b[0m     \u001b[0mfiltered_tb\u001b[0m \u001b[0;34m=\u001b[0m \u001b[0;32mNone\u001b[0m\u001b[0;34m\u001b[0m\u001b[0;34m\u001b[0m\u001b[0m\n\u001b[1;32m    149\u001b[0m     \u001b[0;32mtry\u001b[0m\u001b[0;34m:\u001b[0m\u001b[0;34m\u001b[0m\u001b[0;34m\u001b[0m\u001b[0m\n\u001b[0;32m--> 150\u001b[0;31m       \u001b[0;32mreturn\u001b[0m \u001b[0mfn\u001b[0m\u001b[0;34m(\u001b[0m\u001b[0;34m*\u001b[0m\u001b[0margs\u001b[0m\u001b[0;34m,\u001b[0m \u001b[0;34m**\u001b[0m\u001b[0mkwargs\u001b[0m\u001b[0;34m)\u001b[0m\u001b[0;34m\u001b[0m\u001b[0;34m\u001b[0m\u001b[0m\n\u001b[0m\u001b[1;32m    151\u001b[0m     \u001b[0;32mexcept\u001b[0m \u001b[0mException\u001b[0m \u001b[0;32mas\u001b[0m \u001b[0me\u001b[0m\u001b[0;34m:\u001b[0m\u001b[0;34m\u001b[0m\u001b[0;34m\u001b[0m\u001b[0m\n\u001b[1;32m    152\u001b[0m       \u001b[0mfiltered_tb\u001b[0m \u001b[0;34m=\u001b[0m \u001b[0m_process_traceback_frames\u001b[0m\u001b[0;34m(\u001b[0m\u001b[0me\u001b[0m\u001b[0;34m.\u001b[0m\u001b[0m__traceback__\u001b[0m\u001b[0;34m)\u001b[0m\u001b[0;34m\u001b[0m\u001b[0;34m\u001b[0m\u001b[0m\n",
            "\u001b[0;32m/usr/local/lib/python3.10/dist-packages/tensorflow/python/eager/polymorphic_function/polymorphic_function.py\u001b[0m in \u001b[0;36m__call__\u001b[0;34m(self, *args, **kwds)\u001b[0m\n\u001b[1;32m    823\u001b[0m \u001b[0;34m\u001b[0m\u001b[0m\n\u001b[1;32m    824\u001b[0m       \u001b[0;32mwith\u001b[0m \u001b[0mOptionalXlaContext\u001b[0m\u001b[0;34m(\u001b[0m\u001b[0mself\u001b[0m\u001b[0;34m.\u001b[0m\u001b[0m_jit_compile\u001b[0m\u001b[0;34m)\u001b[0m\u001b[0;34m:\u001b[0m\u001b[0;34m\u001b[0m\u001b[0;34m\u001b[0m\u001b[0m\n\u001b[0;32m--> 825\u001b[0;31m         \u001b[0mresult\u001b[0m \u001b[0;34m=\u001b[0m \u001b[0mself\u001b[0m\u001b[0;34m.\u001b[0m\u001b[0m_call\u001b[0m\u001b[0;34m(\u001b[0m\u001b[0;34m*\u001b[0m\u001b[0margs\u001b[0m\u001b[0;34m,\u001b[0m \u001b[0;34m**\u001b[0m\u001b[0mkwds\u001b[0m\u001b[0;34m)\u001b[0m\u001b[0;34m\u001b[0m\u001b[0;34m\u001b[0m\u001b[0m\n\u001b[0m\u001b[1;32m    826\u001b[0m \u001b[0;34m\u001b[0m\u001b[0m\n\u001b[1;32m    827\u001b[0m       \u001b[0mnew_tracing_count\u001b[0m \u001b[0;34m=\u001b[0m \u001b[0mself\u001b[0m\u001b[0;34m.\u001b[0m\u001b[0mexperimental_get_tracing_count\u001b[0m\u001b[0;34m(\u001b[0m\u001b[0;34m)\u001b[0m\u001b[0;34m\u001b[0m\u001b[0;34m\u001b[0m\u001b[0m\n",
            "\u001b[0;32m/usr/local/lib/python3.10/dist-packages/tensorflow/python/eager/polymorphic_function/polymorphic_function.py\u001b[0m in \u001b[0;36m_call\u001b[0;34m(self, *args, **kwds)\u001b[0m\n\u001b[1;32m    855\u001b[0m       \u001b[0;31m# In this case we have created variables on the first call, so we run the\u001b[0m\u001b[0;34m\u001b[0m\u001b[0;34m\u001b[0m\u001b[0m\n\u001b[1;32m    856\u001b[0m       \u001b[0;31m# defunned version which is guaranteed to never create variables.\u001b[0m\u001b[0;34m\u001b[0m\u001b[0;34m\u001b[0m\u001b[0m\n\u001b[0;32m--> 857\u001b[0;31m       \u001b[0;32mreturn\u001b[0m \u001b[0mself\u001b[0m\u001b[0;34m.\u001b[0m\u001b[0m_no_variable_creation_fn\u001b[0m\u001b[0;34m(\u001b[0m\u001b[0;34m*\u001b[0m\u001b[0margs\u001b[0m\u001b[0;34m,\u001b[0m \u001b[0;34m**\u001b[0m\u001b[0mkwds\u001b[0m\u001b[0;34m)\u001b[0m  \u001b[0;31m# pylint: disable=not-callable\u001b[0m\u001b[0;34m\u001b[0m\u001b[0;34m\u001b[0m\u001b[0m\n\u001b[0m\u001b[1;32m    858\u001b[0m     \u001b[0;32melif\u001b[0m \u001b[0mself\u001b[0m\u001b[0;34m.\u001b[0m\u001b[0m_variable_creation_fn\u001b[0m \u001b[0;32mis\u001b[0m \u001b[0;32mnot\u001b[0m \u001b[0;32mNone\u001b[0m\u001b[0;34m:\u001b[0m\u001b[0;34m\u001b[0m\u001b[0;34m\u001b[0m\u001b[0m\n\u001b[1;32m    859\u001b[0m       \u001b[0;31m# Release the lock early so that multiple threads can perform the call\u001b[0m\u001b[0;34m\u001b[0m\u001b[0;34m\u001b[0m\u001b[0m\n",
            "\u001b[0;32m/usr/local/lib/python3.10/dist-packages/tensorflow/python/eager/polymorphic_function/tracing_compiler.py\u001b[0m in \u001b[0;36m__call__\u001b[0;34m(self, *args, **kwargs)\u001b[0m\n\u001b[1;32m    146\u001b[0m       (concrete_function,\n\u001b[1;32m    147\u001b[0m        filtered_flat_args) = self._maybe_define_function(args, kwargs)\n\u001b[0;32m--> 148\u001b[0;31m     return concrete_function._call_flat(\n\u001b[0m\u001b[1;32m    149\u001b[0m         filtered_flat_args, captured_inputs=concrete_function.captured_inputs)  # pylint: disable=protected-access\n\u001b[1;32m    150\u001b[0m \u001b[0;34m\u001b[0m\u001b[0m\n",
            "\u001b[0;32m/usr/local/lib/python3.10/dist-packages/tensorflow/python/eager/polymorphic_function/monomorphic_function.py\u001b[0m in \u001b[0;36m_call_flat\u001b[0;34m(self, args, captured_inputs)\u001b[0m\n\u001b[1;32m   1347\u001b[0m         and executing_eagerly):\n\u001b[1;32m   1348\u001b[0m       \u001b[0;31m# No tape is watching; skip to running the function.\u001b[0m\u001b[0;34m\u001b[0m\u001b[0;34m\u001b[0m\u001b[0m\n\u001b[0;32m-> 1349\u001b[0;31m       \u001b[0;32mreturn\u001b[0m \u001b[0mself\u001b[0m\u001b[0;34m.\u001b[0m\u001b[0m_build_call_outputs\u001b[0m\u001b[0;34m(\u001b[0m\u001b[0mself\u001b[0m\u001b[0;34m.\u001b[0m\u001b[0m_inference_function\u001b[0m\u001b[0;34m(\u001b[0m\u001b[0;34m*\u001b[0m\u001b[0margs\u001b[0m\u001b[0;34m)\u001b[0m\u001b[0;34m)\u001b[0m\u001b[0;34m\u001b[0m\u001b[0;34m\u001b[0m\u001b[0m\n\u001b[0m\u001b[1;32m   1350\u001b[0m     forward_backward = self._select_forward_and_backward_functions(\n\u001b[1;32m   1351\u001b[0m         \u001b[0margs\u001b[0m\u001b[0;34m,\u001b[0m\u001b[0;34m\u001b[0m\u001b[0;34m\u001b[0m\u001b[0m\n",
            "\u001b[0;32m/usr/local/lib/python3.10/dist-packages/tensorflow/python/eager/polymorphic_function/atomic_function.py\u001b[0m in \u001b[0;36m__call__\u001b[0;34m(self, *args)\u001b[0m\n\u001b[1;32m    194\u001b[0m         \u001b[0;32mwith\u001b[0m \u001b[0mrecord\u001b[0m\u001b[0;34m.\u001b[0m\u001b[0mstop_recording\u001b[0m\u001b[0;34m(\u001b[0m\u001b[0;34m)\u001b[0m\u001b[0;34m:\u001b[0m\u001b[0;34m\u001b[0m\u001b[0;34m\u001b[0m\u001b[0m\n\u001b[1;32m    195\u001b[0m           \u001b[0;32mif\u001b[0m \u001b[0mself\u001b[0m\u001b[0;34m.\u001b[0m\u001b[0m_bound_context\u001b[0m\u001b[0;34m.\u001b[0m\u001b[0mexecuting_eagerly\u001b[0m\u001b[0;34m(\u001b[0m\u001b[0;34m)\u001b[0m\u001b[0;34m:\u001b[0m\u001b[0;34m\u001b[0m\u001b[0;34m\u001b[0m\u001b[0m\n\u001b[0;32m--> 196\u001b[0;31m             outputs = self._bound_context.call_function(\n\u001b[0m\u001b[1;32m    197\u001b[0m                 \u001b[0mself\u001b[0m\u001b[0;34m.\u001b[0m\u001b[0mname\u001b[0m\u001b[0;34m,\u001b[0m\u001b[0;34m\u001b[0m\u001b[0;34m\u001b[0m\u001b[0m\n\u001b[1;32m    198\u001b[0m                 \u001b[0mlist\u001b[0m\u001b[0;34m(\u001b[0m\u001b[0margs\u001b[0m\u001b[0;34m)\u001b[0m\u001b[0;34m,\u001b[0m\u001b[0;34m\u001b[0m\u001b[0;34m\u001b[0m\u001b[0m\n",
            "\u001b[0;32m/usr/local/lib/python3.10/dist-packages/tensorflow/python/eager/context.py\u001b[0m in \u001b[0;36mcall_function\u001b[0;34m(self, name, tensor_inputs, num_outputs)\u001b[0m\n\u001b[1;32m   1455\u001b[0m     \u001b[0mcancellation_context\u001b[0m \u001b[0;34m=\u001b[0m \u001b[0mcancellation\u001b[0m\u001b[0;34m.\u001b[0m\u001b[0mcontext\u001b[0m\u001b[0;34m(\u001b[0m\u001b[0;34m)\u001b[0m\u001b[0;34m\u001b[0m\u001b[0;34m\u001b[0m\u001b[0m\n\u001b[1;32m   1456\u001b[0m     \u001b[0;32mif\u001b[0m \u001b[0mcancellation_context\u001b[0m \u001b[0;32mis\u001b[0m \u001b[0;32mNone\u001b[0m\u001b[0;34m:\u001b[0m\u001b[0;34m\u001b[0m\u001b[0;34m\u001b[0m\u001b[0m\n\u001b[0;32m-> 1457\u001b[0;31m       outputs = execute.execute(\n\u001b[0m\u001b[1;32m   1458\u001b[0m           \u001b[0mname\u001b[0m\u001b[0;34m.\u001b[0m\u001b[0mdecode\u001b[0m\u001b[0;34m(\u001b[0m\u001b[0;34m\"utf-8\"\u001b[0m\u001b[0;34m)\u001b[0m\u001b[0;34m,\u001b[0m\u001b[0;34m\u001b[0m\u001b[0;34m\u001b[0m\u001b[0m\n\u001b[1;32m   1459\u001b[0m           \u001b[0mnum_outputs\u001b[0m\u001b[0;34m=\u001b[0m\u001b[0mnum_outputs\u001b[0m\u001b[0;34m,\u001b[0m\u001b[0;34m\u001b[0m\u001b[0;34m\u001b[0m\u001b[0m\n",
            "\u001b[0;32m/usr/local/lib/python3.10/dist-packages/tensorflow/python/eager/execute.py\u001b[0m in \u001b[0;36mquick_execute\u001b[0;34m(op_name, num_outputs, inputs, attrs, ctx, name)\u001b[0m\n\u001b[1;32m     51\u001b[0m   \u001b[0;32mtry\u001b[0m\u001b[0;34m:\u001b[0m\u001b[0;34m\u001b[0m\u001b[0;34m\u001b[0m\u001b[0m\n\u001b[1;32m     52\u001b[0m     \u001b[0mctx\u001b[0m\u001b[0;34m.\u001b[0m\u001b[0mensure_initialized\u001b[0m\u001b[0;34m(\u001b[0m\u001b[0;34m)\u001b[0m\u001b[0;34m\u001b[0m\u001b[0;34m\u001b[0m\u001b[0m\n\u001b[0;32m---> 53\u001b[0;31m     tensors = pywrap_tfe.TFE_Py_Execute(ctx._handle, device_name, op_name,\n\u001b[0m\u001b[1;32m     54\u001b[0m                                         inputs, attrs, num_outputs)\n\u001b[1;32m     55\u001b[0m   \u001b[0;32mexcept\u001b[0m \u001b[0mcore\u001b[0m\u001b[0;34m.\u001b[0m\u001b[0m_NotOkStatusException\u001b[0m \u001b[0;32mas\u001b[0m \u001b[0me\u001b[0m\u001b[0;34m:\u001b[0m\u001b[0;34m\u001b[0m\u001b[0;34m\u001b[0m\u001b[0m\n",
            "\u001b[0;31mKeyboardInterrupt\u001b[0m: "
          ]
        }
      ],
      "source": [
        "import tensorflow as tf\n",
        "from tensorflow import keras\n",
        "from tensorflow.keras.models import Sequential\n",
        "from tensorflow.keras.layers import Embedding, LSTM, Dense\n",
        "from sklearn.metrics import accuracy_score, f1_score, precision_score, recall_score\n",
        "\n",
        "# Create an LSTM-based model\n",
        "model = Sequential()\n",
        "model.add(Embedding(input_dim=10000, output_dim=16))\n",
        "model.add(LSTM(units=64, return_sequences=False))\n",
        "model.add(Dense(units=1, activation='sigmoid'))\n",
        "\n",
        "# Compile the model\n",
        "model.compile(optimizer='adam', loss='binary_crossentropy', metrics=['accuracy'])\n",
        "\n",
        "# Train the model using your data\n",
        "model.fit(bow2_train, y_train_float, epochs=10)\n",
        "\n",
        "# Make predictions using the trained model\n",
        "predictions = model.predict(bow2_test)\n",
        "\n",
        "\n"
      ]
    },
    {
      "cell_type": "code",
      "execution_count": null,
      "metadata": {
        "id": "F1_3JNAyiMSL"
      },
      "outputs": [],
      "source": [
        "\n",
        "# Evaluate accuracy\n",
        "predictions = (predictions > 0.5).astype(int).flatten()\n",
        "\n",
        "score = accuracy_score(y_test_float, predictions)\n",
        "print('LSTM Model Accuracy: {:.2%}'.format(score))\n",
        "\n",
        "# Calculate F1 score\n",
        "f1_scores = f1_score(y_test_float, predictions, average='macro')\n",
        "print('F1 Scores:', f1_scores)\n",
        "\n",
        "# Calculate Precision and Recall\n",
        "precision = precision_score(y_test_float, predictions, average='macro')\n",
        "recall = recall_score(y_test_float, predictions, average='macro')\n",
        "print('Precision Score:', precision)\n",
        "print('Recall Score:', recall)\n",
        "\n",
        "from sklearn.metrics import roc_auc_score\n",
        "# Calculate the AUC\n",
        "auc = roc_auc_score(y_test_float, predictions)\n",
        "\n",
        "# Print the AUC\n",
        "print('AUC:', auc)"
      ]
    },
    {
      "cell_type": "markdown",
      "metadata": {
        "id": "9A8q022-9cFD"
      },
      "source": []
    },
    {
      "cell_type": "markdown",
      "source": [
        "# Feedforward Neural Network"
      ],
      "metadata": {
        "id": "HpwOgYumFVWg"
      }
    },
    {
      "cell_type": "code",
      "execution_count": null,
      "metadata": {
        "id": "RNRNAd2VQBpA"
      },
      "outputs": [],
      "source": [
        "#Search for best hyperparameters\n",
        "\"\"\"import tensorflow as tf\n",
        "from tensorflow import keras\n",
        "from tensorflow.keras.models import Sequential\n",
        "from tensorflow.keras.layers import Embedding, GlobalAveragePooling1D, Dense\n",
        "from sklearn.model_selection import RandomizedSearchCV\n",
        "from scipy.stats import uniform, randint\n",
        "\n",
        "# Define a function to create the model\n",
        "def create_model(learning_rate=0.001, units=64):\n",
        "    model = Sequential()\n",
        "    model.add(Embedding(input_dim=10000, output_dim=16))\n",
        "    model.add(GlobalAveragePooling1D())\n",
        "    model.add(Dense(units=units, activation='relu'))\n",
        "    model.add(Dense(units=1, activation='sigmoid'))\n",
        "\n",
        "    optimizer = keras.optimizers.Adam(learning_rate=learning_rate)\n",
        "    model.compile(optimizer=optimizer, loss='binary_crossentropy', metrics=['accuracy'])\n",
        "    return model\n",
        "\n",
        "# Create a KerasClassifier wrapper for the model\n",
        "from keras.wrappers.scikit_learn import KerasClassifier\n",
        "model = KerasClassifier(build_fn=create_model, verbose=0)\n",
        "\n",
        "# Define the hyperparameter grid\n",
        "param_dist = {\n",
        "    'learning_rate': uniform(0.0001, 0.01),  # Search range for learning rate\n",
        "    'units': randint(32, 128),  # Search range for the number of units\n",
        "    'epochs': [4,8,12,16],  # You can also tune other hyperparameters like epochs here\n",
        "    'batch_size': [8,16,32,64]  # You can tune batch size as well\n",
        "}\n",
        "\n",
        "# Create a RandomizedSearchCV object\n",
        "random_search = RandomizedSearchCV(\n",
        "    estimator=model,\n",
        "    param_distributions=param_dist,\n",
        "    n_iter=10,  # Number of random combinations to try\n",
        "    cv=3,  # Cross-validation folds\n",
        "    scoring='accuracy',  # Scoring metric\n",
        "    verbose=1,\n",
        "    n_jobs=-1  # Use all available CPU cores\n",
        ")\n",
        "\n",
        "# Perform the random search on your data\n",
        "random_search.fit(bow2_train, y_train_float)\n",
        "\n",
        "# Print the best hyperparameters and corresponding accuracy\n",
        "print(\"Best Hyperparameters:\", random_search.best_params_)\n",
        "print(\"Best Accuracy:\", random_search.best_score_)\"\"\""
      ]
    },
    {
      "cell_type": "code",
      "execution_count": null,
      "metadata": {
        "id": "Q6Ru6BOPv51j"
      },
      "outputs": [],
      "source": [
        "#Feedforward neural network\n",
        "import tensorflow as tf\n",
        "from tensorflow import keras\n",
        "from tensorflow.keras.models import Sequential\n",
        "model = keras.Sequential()\n",
        "model.add (keras.layers.Embedding(10000, 16))\n",
        "model.add(keras.layers.GlobalAveragePooling1D())\n",
        "model.add(keras.layers.Dense(64, activation = 'relu'))\n",
        "model.add(keras.layers.Dense(1, activation = 'sigmoid'))\n",
        "\n",
        "optimizer = keras.optimizers.Adam(learning_rate=0.001)\n",
        "\n",
        "\n",
        "model.compile(optimizer='adam', loss='binary_crossentropy', metrics=['accuracy'])\n",
        "model.fit(bow2_train, y_train_float, epochs=10 )\n",
        "# Make predictions using the trained classifier\n",
        "predictions2_prob = model.predict(bow2_test)\n",
        "predictions2 = (predictions2_prob > 0.5).astype(int).flatten()\n",
        "score = accuracy_score(y_test_float, predictions2)\n",
        "print('NN Model Accuracy: {:.2%}'.format(score))\n",
        "\n",
        "# Calculate F1 score\n",
        "f1_scores = f1_score(y_test_float, predictions2, average='macro')\n",
        "print('F1 Scores:', f1_scores)\n",
        "print('Precision score: ', precision_score(y_test_float, predictions2, average='macro'))\n",
        "print('Recall Score: ', recall_score(y_test_float, predictions2, average='macro'))\n",
        "auc = roc_auc_score(y_test_float, predictions2)\n",
        "\n",
        "# Print the AUC\n",
        "print('AUC:', auc)"
      ]
    },
    {
      "cell_type": "code",
      "execution_count": null,
      "metadata": {
        "id": "eiAljQlPWIBf"
      },
      "outputs": [],
      "source": [
        "import matplotlib.pyplot as plt\n",
        "from sklearn.metrics import roc_curve, roc_auc_score\n",
        "\n",
        "# Assuming you have your true labels and predicted probabilities\n",
        "# true_labels = y_test  # True labels (0 or 1)\n",
        "# predicted_probs = model.predict_proba(X_test)[:, 1]  # Predicted probabilities for class 1\n",
        "\n",
        "fpr, tpr, thresholds = roc_curve(y_test_float, predictions2)\n",
        "roc_auc = roc_auc_score(y_test_float, predictions2)\n",
        "\n",
        "plt.figure(figsize=(8, 6))\n",
        "plt.plot(fpr, tpr, color='darkorange', lw=2, label=f'ROC curve (AUC = {roc_auc:.2f})')\n",
        "plt.plot([0, 1], [0, 1], color='navy', lw=2, linestyle='--')\n",
        "plt.xlim([0.0, 1.0])\n",
        "plt.ylim([0.0, 1.05])\n",
        "plt.xlabel('False Positive Rate')\n",
        "plt.ylabel('True Positive Rate')\n",
        "plt.title('Receiver Operating Characteristic (ROC) Curve')\n",
        "plt.legend(loc='lower right')\n",
        "plt.show()"
      ]
    },
    {
      "cell_type": "code",
      "execution_count": null,
      "metadata": {
        "id": "mnRKrGHb0iD5"
      },
      "outputs": [],
      "source": [
        "import matplotlib.pyplot as plt\n",
        "from sklearn.metrics import roc_curve, roc_auc_score\n",
        "\n",
        "# Assuming you have your true labels and predicted probabilities\n",
        "# true_labels = y_test  # True labels (0 or 1)\n",
        "# predicted_probs = model.predict_proba(X_test)[:, 1]  # Predicted probabilities for class 1\n",
        "\n",
        "fpr, tpr, thresholds = roc_curve(y_test_float, predictions2)\n",
        "roc_auc = roc_auc_score(y_test_float, predictions2)\n",
        "\n",
        "plt.figure(figsize=(8, 6))\n",
        "plt.plot(fpr, tpr, color='darkorange', lw=2, label=f'ROC curve (AUC = {roc_auc:.2f})')\n",
        "plt.plot([0, 1], [0, 1], color='navy', lw=2, linestyle='--')\n",
        "plt.xlim([0.0, 1.0])\n",
        "plt.ylim([0.0, 1.05])\n",
        "plt.xlabel('False Positive Rate')\n",
        "plt.ylabel('True Positive Rate')\n",
        "plt.title('Receiver Operating Characteristic (ROC) Curve')\n",
        "plt.legend(loc='lower right')\n",
        "plt.show()\n"
      ]
    },
    {
      "cell_type": "code",
      "execution_count": null,
      "metadata": {
        "id": "CjZcwleByL-W"
      },
      "outputs": [],
      "source": [
        "#print('Accuracy: {:.2%}'.format(score))\n",
        "\n",
        "#print(f1_score(y_test, stacking_predictions, average=None))"
      ]
    },
    {
      "cell_type": "markdown",
      "metadata": {
        "id": "vlcs6ZwB9nQw"
      },
      "source": [
        "#Logistic Regression"
      ]
    },
    {
      "cell_type": "code",
      "execution_count": 136,
      "metadata": {
        "id": "phbCAfkdf5e1",
        "colab": {
          "base_uri": "https://localhost:8080/"
        },
        "outputId": "85cb657a-6fd3-4f52-c6e8-007ec43ce59b"
      },
      "outputs": [
        {
          "output_type": "stream",
          "name": "stdout",
          "text": [
            "Logistic Regression Model Accuracy: 92.15%\n",
            "0.9214118043974852\n",
            "Precision score:  0.9215169803792451\n",
            "Recall Score:  0.9234462017567542\n"
          ]
        }
      ],
      "source": [
        "#unfiltered\n",
        "from sklearn.linear_model import LogisticRegression\n",
        "from sklearn.metrics import accuracy_score\n",
        "from sklearn.metrics import f1_score\n",
        "\n",
        "logistic_model = LogisticRegression()\n",
        "logistic_model.fit(bow2_train, y_train)\n",
        "predictions = logistic_model.predict(bow2_test)\n",
        "score = accuracy_score(y_test, predictions)\n",
        "print('Logistic Regression Model Accuracy: {:.2%}'.format(score))\n",
        "\n",
        "print(f1_score(y_test, predictions, average='macro'))\n",
        "print('Precision score: ', precision_score(y_test, predictions, average='macro'))\n",
        "print('Recall Score: ', recall_score(y_test, predictions, average='macro'))\n",
        "\n",
        "# Print the AUC\n"
      ]
    },
    {
      "cell_type": "code",
      "execution_count": null,
      "metadata": {
        "id": "AjVIIW6h9198"
      },
      "outputs": [],
      "source": [
        "import matplotlib.pyplot as plt\n",
        "from sklearn.metrics import roc_curve, roc_auc_score\n",
        "\n",
        "# Assuming you have your true labels and predicted probabilities\n",
        "# true_labels = y_test  # True labels (0 or 1)\n",
        "#predicted_probs = model.predict_proba(X_test)[:, 1]  # Predicted probabilities for class 1\n",
        "y_test_binary = np.where(y_test == 'gender', 1, 0)\n",
        "predictions_binary=np.where(predictions == 'gender', 1, 0)\n",
        "\n",
        "\n",
        "fpr, tpr, thresholds = roc_curve(y_test_binary,predictions_binary)\n",
        "roc_auc = roc_auc_score(y_test_binary, predictions_binary)\n",
        "print (roc_auc)\n",
        "\n",
        "plt.figure(figsize=(8, 6))\n",
        "plt.plot(fpr, tpr, color='darkorange', lw=2, label=f'ROC curve (AUC = {roc_auc:.2f})')\n",
        "plt.plot([0, 1], [0, 1], color='navy', lw=2, linestyle='--')\n",
        "plt.xlim([0.0, 1.0])\n",
        "plt.ylim([0.0, 1.05])\n",
        "plt.xlabel('False Positive Rate')\n",
        "plt.ylabel('True Positive Rate')\n",
        "plt.title('Receiver Operating Characteristic (ROC) Curve')\n",
        "plt.legend(loc='lower right')\n",
        "plt.show()\n"
      ]
    },
    {
      "cell_type": "markdown",
      "metadata": {
        "id": "deIYnz---AS9"
      },
      "source": [
        "# SVM"
      ]
    },
    {
      "cell_type": "code",
      "execution_count": null,
      "metadata": {
        "id": "pA4ROq85gYUi"
      },
      "outputs": [],
      "source": [
        "#unfiltered\n",
        "\n",
        "from sklearn import svm\n",
        "from sklearn.metrics import mean_absolute_error\n",
        "\n",
        "clf = svm.SVC()\n",
        "clf.fit(bow2_train,y_train)\n",
        "\n",
        "# STEP 3: Prediction\n",
        "predictions2=clf.predict(bow2_test)\n",
        "# STEP 4: Evaluation\n",
        "score = accuracy_score(y_test, predictions2)\n",
        "print('SVC Model Accuracy: {:.2%}'.format(score))\n",
        "\n",
        "print(f1_score(y_test, predictions2, average='macro'))\n",
        "print('Precision score: ', precision_score(y_test, predictions2, average='macro'))\n",
        "print('Recall Score: ', recall_score(y_test, predictions2, average='macro'))"
      ]
    },
    {
      "cell_type": "code",
      "execution_count": null,
      "metadata": {
        "id": "GisUCLURku0q"
      },
      "outputs": [],
      "source": [
        "import matplotlib.pyplot as plt\n",
        "from sklearn.metrics import roc_curve, roc_auc_score\n",
        "\n",
        "# Assuming you have your true labels and predicted probabilities\n",
        "# true_labels = y_test  # True labels (0 or 1)\n",
        "#predicted_probs = model.predict_proba(X_test)[:, 1]  # Predicted probabilities for class 1\n",
        "y_test_binary = np.where(y_test == 'gender', 1, 0)\n",
        "predictions_binary=np.where(predictions2 == 'gender', 1, 0)\n",
        "\n",
        "\n",
        "fpr, tpr, thresholds = roc_curve(y_test_binary,predictions_binary)\n",
        "roc_auc = roc_auc_score(y_test_binary, predictions_binary)\n",
        "print(\"AUC\", roc_auc)\n",
        "\n",
        "plt.figure(figsize=(8, 6))\n",
        "plt.plot(fpr, tpr, color='darkorange', lw=2, label=f'ROC curve (AUC = {roc_auc:.2f})')\n",
        "plt.plot([0, 1], [0, 1], color='navy', lw=2, linestyle='--')\n",
        "plt.xlim([0.0, 1.0])\n",
        "plt.ylim([0.0, 1.05])\n",
        "plt.xlabel('False Positive Rate')\n",
        "plt.ylabel('True Positive Rate')\n",
        "plt.title('Receiver Operating Characteristic (ROC) Curve')\n",
        "plt.legend(loc='lower right')\n",
        "plt.show()"
      ]
    },
    {
      "cell_type": "markdown",
      "source": [
        "# Multinomial Naive Bayes\n",
        "\n"
      ],
      "metadata": {
        "id": "Qwj_Mdpvahh6"
      }
    },
    {
      "cell_type": "code",
      "execution_count": null,
      "metadata": {
        "id": "1vMCzRZCU1ew"
      },
      "outputs": [],
      "source": [
        "from sklearn.model_selection import GridSearchCV\n",
        "from sklearn.naive_bayes import MultinomialNB\n",
        "\n",
        "# Define a range of alpha values to search\n",
        "alpha_range = [0.01, 0.1, 1.0, 10.0]\n",
        "\n",
        "# Create a parameter grid\n",
        "param_grid = {'alpha': alpha_range}\n",
        "\n",
        "# Initialize the Multinomial Naive Bayes classifier\n",
        "clf = MultinomialNB()\n",
        "\n",
        "# Perform grid search with cross-validation\n",
        "grid_search = GridSearchCV(clf, param_grid, cv=5, scoring='accuracy')\n",
        "grid_search.fit(bow2_train, y_train)\n",
        "\n",
        "# Get the best alpha value\n",
        "best_alpha = grid_search.best_params_['alpha']\n"
      ]
    },
    {
      "cell_type": "code",
      "execution_count": null,
      "metadata": {
        "id": "U5RtVP1QUJ2V"
      },
      "outputs": [],
      "source": [
        "from sklearn.naive_bayes import MultinomialNB\n",
        "from sklearn.metrics import accuracy_score, f1_score, precision_score, recall_score\n",
        "\n",
        "# STEP 1: Create and train the Naive Bayes classifier\n",
        "clf = MultinomialNB(alpha=best_alpha)\n",
        "clf.fit(bow2_train, y_train)\n",
        "\n",
        "# STEP 2: Prediction\n",
        "predictions2 = clf.predict(bow2_test)\n",
        "\n",
        "# STEP 3: Evaluation\n",
        "accuracy = accuracy_score(y_test, predictions2)\n",
        "f1 = f1_score(y_test, predictions2, average='macro')\n",
        "precision = precision_score(y_test, predictions2, average='macro')\n",
        "recall = recall_score(y_test, predictions2, average='macro')\n",
        "\n",
        "print('Multinomial Naive Bayes Model Accuracy: {:.2%}'.format(accuracy))\n",
        "print('F1 Score:', f1)\n",
        "print('Precision Score:', precision)\n",
        "print('Recall Score:', recall)\n"
      ]
    },
    {
      "cell_type": "code",
      "source": [
        "y_test_binary = np.where(y_test == 'gender', 1, 0)\n",
        "predictions_binary=np.where(predictions2 == 'gender', 1, 0)\n",
        "\n",
        "\n",
        "fpr, tpr, thresholds = roc_curve(y_test_binary,predictions_binary)\n",
        "roc_auc = roc_auc_score(y_test_binary, predictions_binary)\n",
        "print(\"AUC\", roc_auc)"
      ],
      "metadata": {
        "id": "saD0Mrx0riXv"
      },
      "execution_count": null,
      "outputs": []
    },
    {
      "cell_type": "markdown",
      "metadata": {
        "id": "LS-pCFMmMgIM"
      },
      "source": [
        "\n",
        "\n",
        "```\n",
        "`# This is formatted as code`\n",
        "```\n",
        "\n",
        "# KNN"
      ]
    },
    {
      "cell_type": "code",
      "execution_count": null,
      "metadata": {
        "id": "OtU113f2l9Mh"
      },
      "outputs": [],
      "source": [
        "#unfilterered\n",
        "from sklearn.neighbors import KNeighborsClassifier\n",
        "from sklearn.metrics import mean_squared_error\n",
        "from sklearn.metrics import mean_absolute_error\n",
        "from sklearn.metrics import r2_score\n",
        "from sklearn.metrics import precision_score\n",
        "from sklearn.metrics import recall_score\n",
        "\n",
        "# Initialize and train the KNN classifier\n",
        "k = 1  # Number of neighbors\n",
        "clf = KNeighborsClassifier(n_neighbors=k)\n",
        "clf.fit(bow2_train, y_train)\n",
        "\n",
        "# Make predictions using the trained classifier\n",
        "predictions4 = clf.predict(bow2_test)\n",
        "# Evaluate accuracy\n",
        "score = accuracy_score(y_test, predictions4)\n",
        "print('KNN Model Accuracy: {:.2%}'.format(score))\n",
        "\n",
        "# Calculate F1 score\n",
        "f1_scores = f1_score(y_test, predictions4, average='macro')\n",
        "print('F1 Scores:', f1_scores)\n",
        "#print('Mean Absolute Error: ', mean_absolute_error(y_test_en, predictions4))\n",
        "#print('Mean Squared Error: ', mean_squared_error(y_test_en, predictions4))\n",
        "#print('Root Mean Squared Error: ', mean_squared_error(y_test_en, predictions4,squared=False))\n",
        "#print('r2 SCore: ', r2_score(y_test_en, predictions4))\n",
        "print('Precision score: ', precision_score(y_test, predictions4, average='macro'))\n",
        "print('Recall Score: ', recall_score(y_test, predictions4, average='macro'))\n"
      ]
    },
    {
      "cell_type": "code",
      "execution_count": null,
      "metadata": {
        "id": "m-lhKpJ_LjFs"
      },
      "outputs": [],
      "source": [
        "import matplotlib.pyplot as plt\n",
        "from sklearn.metrics import roc_curve, roc_auc_score\n",
        "\n",
        "# Assuming you have your true labels and predicted probabilities\n",
        "# true_labels = y_test  # True labels (0 or 1)\n",
        "#predicted_probs = model.predict_proba(X_test)[:, 1]  # Predicted probabilities for class 1\n",
        "y_test_binary = np.where(y_test == 'gender', 1, 0)\n",
        "predictions_binary=np.where(predictions4 == 'gender', 1, 0)\n",
        "\n",
        "\n",
        "fpr, tpr, thresholds = roc_curve(y_test_binary,predictions_binary)\n",
        "roc_auc = roc_auc_score(y_test_binary, predictions_binary)\n",
        "print (\"AUC\", roc_auc)\n",
        "\n",
        "plt.figure(figsize=(8, 6))\n",
        "plt.plot(fpr, tpr, color='darkorange', lw=2, label=f'ROC curve (AUC = {roc_auc:.2f})')\n",
        "plt.plot([0, 1], [0, 1], color='navy', lw=2, linestyle='--')\n",
        "plt.xlim([0.0, 1.0])\n",
        "plt.ylim([0.0, 1.05])\n",
        "plt.xlabel('False Positive Rate')\n",
        "plt.ylabel('True Positive Rate')\n",
        "plt.title('Receiver Operating Characteristic (ROC) Curve')\n",
        "plt.legend(loc='lower right')\n",
        "plt.show()"
      ]
    },
    {
      "cell_type": "code",
      "execution_count": null,
      "metadata": {
        "id": "Otk2QPX9flXf"
      },
      "outputs": [],
      "source": [
        "#print(f1_score(y_test_en, predictions4, average='macro'))\n",
        "#print('Precision score: ', precision_score(y_test_en, predictions4, average=None))\n",
        "#print('Recall Score: ', recall_score(y_test_en, predictions4, average=None))\n"
      ]
    },
    {
      "cell_type": "markdown",
      "metadata": {
        "id": "osbF4tF8Mygp"
      },
      "source": [
        "# Random Forest Classifier"
      ]
    },
    {
      "cell_type": "code",
      "execution_count": null,
      "metadata": {
        "id": "xPckS1pwotOS"
      },
      "outputs": [],
      "source": [
        "#unfiltered\n",
        "# Initialize and train the Random Forest classifier\n",
        "from sklearn.ensemble import RandomForestClassifier\n",
        "\n",
        "n_estimators = 250 # Number of trees in the forest\n",
        "clf = RandomForestClassifier(n_estimators=n_estimators, random_state=42)\n",
        "clf.fit(bow2_train, y_train)\n",
        "\n",
        "# Make predictions using the trained classifier\n",
        "predictions5 = clf.predict(bow2_test)\n",
        "\n",
        "# Evaluate accuracy\n",
        "score = accuracy_score(y_test, predictions5)\n",
        "print('Random Forest Model Accuracy: {:.2%}'.format(score))\n",
        "\n",
        "# Calculate F1 score\n",
        "f1_scores = f1_score(y_test, predictions5, average='macro')\n",
        "print('F1 Scores:', f1_scores)\n",
        "print('Precision score: ', precision_score(y_test, predictions5, average='macro'))\n",
        "print('Recall Score: ', recall_score(y_test, predictions5, average= 'macro'))\n",
        "auc = roc_auc_score(y_test_float, predictions5)\n",
        "\n",
        "# Print the AUC\n",
        "print('AUC:', auc)"
      ]
    },
    {
      "cell_type": "code",
      "execution_count": null,
      "metadata": {
        "id": "ZbuHUFxrRpip"
      },
      "outputs": [],
      "source": [
        "import matplotlib.pyplot as plt\n",
        "from sklearn.metrics import roc_curve, roc_auc_score\n",
        "\n",
        "# Assuming you have your true labels and predicted probabilities\n",
        "# true_labels = y_test  # True labels (0 or 1)\n",
        "#predicted_probs = model.predict_proba(X_test)[:, 1]  # Predicted probabilities for class 1\n",
        "y_test_binary = np.where(y_test == 'gender', 1, 0)\n",
        "predictions_binary=np.where(predictions5 == 'gender', 1, 0)\n",
        "\n",
        "\n",
        "fpr, tpr, thresholds = roc_curve(y_test_binary,predictions_binary)\n",
        "roc_auc = roc_auc_score(y_test_binary, predictions_binary)\n",
        "\n",
        "plt.figure(figsize=(8, 6))\n",
        "plt.plot(fpr, tpr, color='darkorange', lw=2, label=f'ROC curve (AUC = {roc_auc:.2f})')\n",
        "plt.plot([0, 1], [0, 1], color='navy', lw=2, linestyle='--')\n",
        "plt.xlim([0.0, 1.0])\n",
        "plt.ylim([0.0, 1.05])\n",
        "plt.xlabel('False Positive Rate')\n",
        "plt.ylabel('True Positive Rate')\n",
        "plt.title('Receiver Operating Characteristic (ROC) Curve')\n",
        "plt.legend(loc='lower right')\n",
        "plt.show()"
      ]
    },
    {
      "cell_type": "markdown",
      "metadata": {
        "id": "xD849EpfTyvT"
      },
      "source": [
        "# Gaussian Naive Bayes"
      ]
    },
    {
      "cell_type": "code",
      "execution_count": null,
      "metadata": {
        "id": "CF_zSKOMp7tx"
      },
      "outputs": [],
      "source": [
        "#unfiltered\n",
        "from sklearn.naive_bayes import GaussianNB\n",
        "#Create a Gaussian Classifier\n",
        "model = GaussianNB()\n",
        "# Train the model using the training sets\n",
        "model.fit(bow2_train,y_train)\n",
        "#Predict Output\n",
        "predictions3= model.predict(bow2_test) # 0:Overcast, 2:Mild\n",
        "\n",
        "score = accuracy_score(y_test, predictions3)\n",
        "print('Naive Bayes Model Accuracy: {:.2%}'.format(score))\n",
        "print(f1_score(y_test, predictions3, average='macro'))"
      ]
    },
    {
      "cell_type": "code",
      "execution_count": null,
      "metadata": {
        "id": "PmJ-mu3cTqa4"
      },
      "outputs": [],
      "source": [
        "import matplotlib.pyplot as plt\n",
        "from sklearn.metrics import roc_curve, roc_auc_score\n",
        "\n",
        "# Assuming you have your true labels and predicted probabilities\n",
        "# true_labels = y_test  # True labels (0 or 1)\n",
        "#predicted_probs = model.predict_proba(X_test)[:, 1]  # Predicted probabilities for class 1\n",
        "y_test_binary = np.where(y_test == 'gender', 1, 0)\n",
        "predictions_binary=np.where(predictions3 == 'gender', 1, 0)\n",
        "\n",
        "\n",
        "fpr, tpr, thresholds = roc_curve(y_test_binary,predictions_binary)\n",
        "roc_auc = roc_auc_score(y_test_binary, predictions_binary)\n",
        "\n",
        "plt.figure(figsize=(8, 6))\n",
        "plt.plot(fpr, tpr, color='darkorange', lw=2, label=f'ROC curve (AUC = {roc_auc:.2f})')\n",
        "plt.plot([0, 1], [0, 1], color='navy', lw=2, linestyle='--')\n",
        "plt.xlim([0.0, 1.0])\n",
        "plt.ylim([0.0, 1.05])\n",
        "plt.xlabel('False Positive Rate')\n",
        "plt.ylabel('True Positive Rate')\n",
        "plt.title('Receiver Operating Characteristic (ROC) Curve')\n",
        "plt.legend(loc='lower right')\n",
        "plt.show()"
      ]
    },
    {
      "cell_type": "code",
      "execution_count": null,
      "metadata": {
        "id": "MoyYC471ObPd"
      },
      "outputs": [],
      "source": [
        "from sklearn.metrics import confusion_matrix\n",
        "confusion_matrix(y_test, predictions5)"
      ]
    },
    {
      "cell_type": "code",
      "execution_count": null,
      "metadata": {
        "id": "PE7MxYkSnv8a"
      },
      "outputs": [],
      "source": [
        "#unfiltered\n",
        "from sklearn.metrics import confusion_matrix\n",
        "confusion_matrix(y_test, predictions4)"
      ]
    },
    {
      "cell_type": "code",
      "execution_count": null,
      "metadata": {
        "id": "huB5HxrzpsiM"
      },
      "outputs": [],
      "source": [
        "import matplotlib.pyplot as plt\n",
        "from sklearn.datasets import make_classification\n",
        "from sklearn.metrics import confusion_matrix, ConfusionMatrixDisplay\n",
        "from sklearn.model_selection import train_test_split\n",
        "from sklearn.svm import SVC\n",
        "\n",
        "cm = confusion_matrix(y_test, predictions5, labels=clf.classes_)\n",
        "disp = ConfusionMatrixDisplay(confusion_matrix=cm,display_labels=clf.classes_)\n",
        "disp.plot()\n",
        "plt.show()"
      ]
    },
    {
      "cell_type": "code",
      "execution_count": null,
      "metadata": {
        "id": "jbf7WoLQpE06"
      },
      "outputs": [],
      "source": [
        "#y_new=np.random.choice(y, 1000, replace = True) do this for sorted tweets"
      ]
    },
    {
      "cell_type": "code",
      "execution_count": null,
      "metadata": {
        "id": "Z6hqFtZAqJtQ"
      },
      "outputs": [],
      "source": [
        "import numpy as np\n",
        "from sklearn import metrics\n",
        "y = np.array([1, 1, 2, 2])\n",
        "pred = np.array([0.1, 0.4, 0.35, 0.8])\n",
        "fpr, tpr, thresholds = metrics.roc_curve(y, pred, pos_label=2)\n",
        "metrics.auc(fpr, tpr)"
      ]
    },
    {
      "cell_type": "code",
      "execution_count": null,
      "metadata": {
        "id": "7yL3WS8sObf1"
      },
      "outputs": [],
      "source": [
        "################################################################################################################################################################################################"
      ]
    },
    {
      "cell_type": "markdown",
      "source": [
        "# Beginning of Future Research: coupling sentiment analysis with tweet classification\n",
        "\n",
        "Useful for targetted bullying intervention"
      ],
      "metadata": {
        "id": "pS46fxx0ayfL"
      }
    },
    {
      "cell_type": "code",
      "execution_count": null,
      "metadata": {
        "id": "CwBSghqZBIAr"
      },
      "outputs": [],
      "source": [
        "from textblob import TextBlob\n",
        "\n",
        "# Function to perform sentiment analysis on a tweet\n",
        "def analyze_sentiment(tweet_text):\n",
        "    analysis = TextBlob(tweet_text)\n",
        "    if analysis.sentiment.polarity > 0:\n",
        "        return 'Positive'\n",
        "    elif analysis.sentiment.polarity == 0:\n",
        "        return 'Neutral'\n",
        "    else:\n",
        "        return 'Negative'\n",
        "\n",
        "# Example array of tweet content\n",
        "tweet_content_array = [\n",
        "    \"I love working on Python projects!\",\n",
        "    \"Just finished coding a cool Python app.\",\n",
        "    \"Feeling frustrated with this Python bug.\",\n",
        "    \"Attended an amazing Python workshop today.\",\n",
        "    \"Python programming is so much fun!\"\n",
        "]\n",
        "\n",
        "# Analyze sentiment for each tweet in the array\n",
        "for tweet_text in X_train_en:\n",
        "    sentiment = analyze_sentiment(tweet_text)\n",
        "    print(f\"Tweet: {tweet_text}\")\n",
        "    print(f\"Sentiment: {sentiment}\")\n",
        "    print('-' * 50)\n"
      ]
    },
    {
      "cell_type": "code",
      "execution_count": null,
      "metadata": {
        "id": "qdmzp_mnCVlX"
      },
      "outputs": [],
      "source": [
        "pip install transformers\n"
      ]
    },
    {
      "cell_type": "code",
      "execution_count": null,
      "metadata": {
        "id": "zl1lOZuYDDs_"
      },
      "outputs": [],
      "source": []
    },
    {
      "cell_type": "code",
      "execution_count": null,
      "metadata": {
        "id": "Z9SAqy8nCYYc"
      },
      "outputs": [],
      "source": [
        "from transformers import pipeline\n",
        "\n",
        "# Create a sentiment analysis pipeline using a pre-trained model\n",
        "sentiment_analyzer = pipeline(\"sentiment-analysis\")\n",
        "\n",
        "# Example array of tweet content\n",
        "tweet_content_array = [\n",
        "    \"I love working on Python projects!\",\n",
        "    \"Just finished coding a cool Python app.\",\n",
        "    \"Feeling frustrated with this Python bug.\",\n",
        "    \"Attended an amazing Python workshop today.\",\n",
        "    \"Python programming is so much fun!\"\n",
        "]\n",
        "\n",
        "# Analyze sentiment for each tweet in the array\n",
        "for tweet_text in X_train_en:\n",
        "    result = sentiment_analyzer(tweet_text)\n",
        "    sentiment = result[0]['label']\n",
        "    score = result[0]['score']\n",
        "\n",
        "    print(f\"Tweet: {tweet_text}\")\n",
        "    print(f\"Sentiment: {sentiment} (Score: {score:.2f})\")\n",
        "    print('-' * 50)\n"
      ]
    },
    {
      "cell_type": "code",
      "execution_count": null,
      "metadata": {
        "id": "xCeVeGqpDEjO"
      },
      "outputs": [],
      "source": [
        "from transformers import pipeline\n",
        "\n",
        "# Create a sentiment analysis pipeline using a pre-trained model\n",
        "sentiment_analyzer = pipeline(\"sentiment-analysis\")\n",
        "\n",
        "# Example array of tweet content\n",
        "tweet_content_array = [\n",
        "    \"I love working on Python projects!\",\n",
        "    \"Just finished coding a cool Python app.\",\n",
        "    \"Feeling frustrated with this Python bug.\",\n",
        "    \"Attended an amazing Python workshop today.\",\n",
        "    \"Python programming is so much fun!\"\n",
        "]\n",
        "\n",
        "# Analyze sentiment for each tweet in the array\n",
        "for tweet_text in X_train_en:\n",
        "    result = sentiment_analyzer(tweet_text)\n",
        "    sentiment = result[0]['label']\n",
        "    score = result[0]['score']\n",
        "\n",
        "    print(f\"Tweet: {tweet_text}\")\n",
        "    print(f\"Sentiment: {sentiment} (Score: {score:.2f})\")\n",
        "    print('-' * 50)\n"
      ]
    },
    {
      "cell_type": "code",
      "execution_count": null,
      "metadata": {
        "id": "KsE47eoYDlp8"
      },
      "outputs": [],
      "source": [
        "import nltk\n",
        "from nltk.sentiment import SentimentIntensityAnalyzer\n",
        "\n",
        "# Download the VADER lexicon for sentiment analysis\n",
        "nltk.download('vader_lexicon')\n",
        "\n",
        "# Create a SentimentIntensityAnalyzer object\n",
        "sia = SentimentIntensityAnalyzer()\n",
        "\n",
        "# Example array of tweet content\n",
        "tweet_content_array = [\n",
        "    \"I love working on Python projects!\",\n",
        "    \"Just finished coding a cool Python app.\",\n",
        "    \"Feeling frustrated with this Python bug.\",\n",
        "    \"Attended an amazing Python workshop today.\",\n",
        "    \"Python programming is so much fun!\"\n",
        "]\n",
        "\n",
        "# Analyze emotions for each tweet in the array\n",
        "for tweet_text in X_train_en:\n",
        "    sentiment_scores = sia.polarity_scores(tweet_text)\n",
        "\n",
        "    emotion = None\n",
        "    max_score = max(sentiment_scores.values())\n",
        "\n",
        "    if sentiment_scores['pos'] == max_score:\n",
        "        emotion = 'Joy/Happiness'\n",
        "    elif sentiment_scores['neg'] == max_score:\n",
        "        emotion = 'Sadness'\n",
        "    elif sentiment_scores['neu'] == max_score:\n",
        "        emotion = 'Neutral'\n",
        "    elif sentiment_scores['compound'] == max_score:\n",
        "        emotion = 'Mixed/Complex'\n",
        "\n",
        "    print(f\"Tweet: {tweet_text}\")\n",
        "    print(f\"Emotion: {emotion}\")\n",
        "    print('-' * 50)\n"
      ]
    }
  ],
  "metadata": {
    "colab": {
      "provenance": [],
      "include_colab_link": true
    },
    "kernelspec": {
      "display_name": "Python 3",
      "name": "python3"
    },
    "language_info": {
      "name": "python"
    }
  },
  "nbformat": 4,
  "nbformat_minor": 0
}