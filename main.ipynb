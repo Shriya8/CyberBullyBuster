{
  "cells": [
    {
      "cell_type": "markdown",
      "metadata": {
        "id": "view-in-github",
        "colab_type": "text"
      },
      "source": [
        "<a href=\"https://colab.research.google.com/github/Shriya8/CyberBullyBuster/blob/main/main.ipynb\" target=\"_parent\"><img src=\"https://colab.research.google.com/assets/colab-badge.svg\" alt=\"Open In Colab\"/></a>"
      ]
    },
    {
      "cell_type": "code",
      "execution_count": 97,
      "metadata": {
        "id": "mruEiiSohoYJ"
      },
      "outputs": [],
      "source": [
        "import numpy as np\n",
        "import pandas as pd\n",
        "import os\n"
      ]
    },
    {
      "cell_type": "code",
      "execution_count": null,
      "metadata": {
        "id": "cv8NRXXHlYd8"
      },
      "outputs": [],
      "source": [
        "from google.colab import drive\n",
        "drive.mount('/content/drive')"
      ]
    },
    {
      "cell_type": "code",
      "execution_count": 99,
      "metadata": {
        "id": "kxv8ivTqlq3i"
      },
      "outputs": [],
      "source": [
        "os.chdir(\"/content/drive/MyDrive/Shriya Char/Project/Code\")"
      ]
    },
    {
      "cell_type": "code",
      "execution_count": 100,
      "metadata": {
        "colab": {
          "base_uri": "https://localhost:8080/",
          "height": 424
        },
        "id": "v0hU_Zqjml9U",
        "outputId": "1a499032-5963-45fe-c8e5-8c4e54371a40"
      },
      "outputs": [
        {
          "output_type": "execute_result",
          "data": {
            "text/plain": [
              "                                              tweet_text cyberbullying_type\n",
              "0      In other words #katandandre, your food was cra...  not_cyberbullying\n",
              "1      Why is #aussietv so white? #MKR #theblock #ImA...  not_cyberbullying\n",
              "2      @XochitlSuckkks a classy whore? Or more red ve...  not_cyberbullying\n",
              "3      @Jason_Gio meh. :P  thanks for the heads up, b...  not_cyberbullying\n",
              "4      @RudhoeEnglish This is an ISIS account pretend...  not_cyberbullying\n",
              "...                                                  ...                ...\n",
              "47687  Black ppl aren't expected to do anything, depe...          ethnicity\n",
              "47688  Turner did not withhold his disappointment. Tu...          ethnicity\n",
              "47689  I swear to God. This dumb nigger bitch. I have...          ethnicity\n",
              "47690  Yea fuck you RT @therealexel: IF YOURE A NIGGE...          ethnicity\n",
              "47691  Bro. U gotta chill RT @CHILLShrammy: Dog FUCK ...          ethnicity\n",
              "\n",
              "[47692 rows x 2 columns]"
            ],
            "text/html": [
              "\n",
              "  <div id=\"df-f4354918-93a6-4ac0-bf98-b505dbf5391c\" class=\"colab-df-container\">\n",
              "    <div>\n",
              "<style scoped>\n",
              "    .dataframe tbody tr th:only-of-type {\n",
              "        vertical-align: middle;\n",
              "    }\n",
              "\n",
              "    .dataframe tbody tr th {\n",
              "        vertical-align: top;\n",
              "    }\n",
              "\n",
              "    .dataframe thead th {\n",
              "        text-align: right;\n",
              "    }\n",
              "</style>\n",
              "<table border=\"1\" class=\"dataframe\">\n",
              "  <thead>\n",
              "    <tr style=\"text-align: right;\">\n",
              "      <th></th>\n",
              "      <th>tweet_text</th>\n",
              "      <th>cyberbullying_type</th>\n",
              "    </tr>\n",
              "  </thead>\n",
              "  <tbody>\n",
              "    <tr>\n",
              "      <th>0</th>\n",
              "      <td>In other words #katandandre, your food was cra...</td>\n",
              "      <td>not_cyberbullying</td>\n",
              "    </tr>\n",
              "    <tr>\n",
              "      <th>1</th>\n",
              "      <td>Why is #aussietv so white? #MKR #theblock #ImA...</td>\n",
              "      <td>not_cyberbullying</td>\n",
              "    </tr>\n",
              "    <tr>\n",
              "      <th>2</th>\n",
              "      <td>@XochitlSuckkks a classy whore? Or more red ve...</td>\n",
              "      <td>not_cyberbullying</td>\n",
              "    </tr>\n",
              "    <tr>\n",
              "      <th>3</th>\n",
              "      <td>@Jason_Gio meh. :P  thanks for the heads up, b...</td>\n",
              "      <td>not_cyberbullying</td>\n",
              "    </tr>\n",
              "    <tr>\n",
              "      <th>4</th>\n",
              "      <td>@RudhoeEnglish This is an ISIS account pretend...</td>\n",
              "      <td>not_cyberbullying</td>\n",
              "    </tr>\n",
              "    <tr>\n",
              "      <th>...</th>\n",
              "      <td>...</td>\n",
              "      <td>...</td>\n",
              "    </tr>\n",
              "    <tr>\n",
              "      <th>47687</th>\n",
              "      <td>Black ppl aren't expected to do anything, depe...</td>\n",
              "      <td>ethnicity</td>\n",
              "    </tr>\n",
              "    <tr>\n",
              "      <th>47688</th>\n",
              "      <td>Turner did not withhold his disappointment. Tu...</td>\n",
              "      <td>ethnicity</td>\n",
              "    </tr>\n",
              "    <tr>\n",
              "      <th>47689</th>\n",
              "      <td>I swear to God. This dumb nigger bitch. I have...</td>\n",
              "      <td>ethnicity</td>\n",
              "    </tr>\n",
              "    <tr>\n",
              "      <th>47690</th>\n",
              "      <td>Yea fuck you RT @therealexel: IF YOURE A NIGGE...</td>\n",
              "      <td>ethnicity</td>\n",
              "    </tr>\n",
              "    <tr>\n",
              "      <th>47691</th>\n",
              "      <td>Bro. U gotta chill RT @CHILLShrammy: Dog FUCK ...</td>\n",
              "      <td>ethnicity</td>\n",
              "    </tr>\n",
              "  </tbody>\n",
              "</table>\n",
              "<p>47692 rows × 2 columns</p>\n",
              "</div>\n",
              "    <div class=\"colab-df-buttons\">\n",
              "\n",
              "  <div class=\"colab-df-container\">\n",
              "    <button class=\"colab-df-convert\" onclick=\"convertToInteractive('df-f4354918-93a6-4ac0-bf98-b505dbf5391c')\"\n",
              "            title=\"Convert this dataframe to an interactive table.\"\n",
              "            style=\"display:none;\">\n",
              "\n",
              "  <svg xmlns=\"http://www.w3.org/2000/svg\" height=\"24px\" viewBox=\"0 -960 960 960\">\n",
              "    <path d=\"M120-120v-720h720v720H120Zm60-500h600v-160H180v160Zm220 220h160v-160H400v160Zm0 220h160v-160H400v160ZM180-400h160v-160H180v160Zm440 0h160v-160H620v160ZM180-180h160v-160H180v160Zm440 0h160v-160H620v160Z\"/>\n",
              "  </svg>\n",
              "    </button>\n",
              "\n",
              "  <style>\n",
              "    .colab-df-container {\n",
              "      display:flex;\n",
              "      gap: 12px;\n",
              "    }\n",
              "\n",
              "    .colab-df-convert {\n",
              "      background-color: #E8F0FE;\n",
              "      border: none;\n",
              "      border-radius: 50%;\n",
              "      cursor: pointer;\n",
              "      display: none;\n",
              "      fill: #1967D2;\n",
              "      height: 32px;\n",
              "      padding: 0 0 0 0;\n",
              "      width: 32px;\n",
              "    }\n",
              "\n",
              "    .colab-df-convert:hover {\n",
              "      background-color: #E2EBFA;\n",
              "      box-shadow: 0px 1px 2px rgba(60, 64, 67, 0.3), 0px 1px 3px 1px rgba(60, 64, 67, 0.15);\n",
              "      fill: #174EA6;\n",
              "    }\n",
              "\n",
              "    .colab-df-buttons div {\n",
              "      margin-bottom: 4px;\n",
              "    }\n",
              "\n",
              "    [theme=dark] .colab-df-convert {\n",
              "      background-color: #3B4455;\n",
              "      fill: #D2E3FC;\n",
              "    }\n",
              "\n",
              "    [theme=dark] .colab-df-convert:hover {\n",
              "      background-color: #434B5C;\n",
              "      box-shadow: 0px 1px 3px 1px rgba(0, 0, 0, 0.15);\n",
              "      filter: drop-shadow(0px 1px 2px rgba(0, 0, 0, 0.3));\n",
              "      fill: #FFFFFF;\n",
              "    }\n",
              "  </style>\n",
              "\n",
              "    <script>\n",
              "      const buttonEl =\n",
              "        document.querySelector('#df-f4354918-93a6-4ac0-bf98-b505dbf5391c button.colab-df-convert');\n",
              "      buttonEl.style.display =\n",
              "        google.colab.kernel.accessAllowed ? 'block' : 'none';\n",
              "\n",
              "      async function convertToInteractive(key) {\n",
              "        const element = document.querySelector('#df-f4354918-93a6-4ac0-bf98-b505dbf5391c');\n",
              "        const dataTable =\n",
              "          await google.colab.kernel.invokeFunction('convertToInteractive',\n",
              "                                                    [key], {});\n",
              "        if (!dataTable) return;\n",
              "\n",
              "        const docLinkHtml = 'Like what you see? Visit the ' +\n",
              "          '<a target=\"_blank\" href=https://colab.research.google.com/notebooks/data_table.ipynb>data table notebook</a>'\n",
              "          + ' to learn more about interactive tables.';\n",
              "        element.innerHTML = '';\n",
              "        dataTable['output_type'] = 'display_data';\n",
              "        await google.colab.output.renderOutput(dataTable, element);\n",
              "        const docLink = document.createElement('div');\n",
              "        docLink.innerHTML = docLinkHtml;\n",
              "        element.appendChild(docLink);\n",
              "      }\n",
              "    </script>\n",
              "  </div>\n",
              "\n",
              "\n",
              "<div id=\"df-4f9abcbb-7bef-4846-8d50-4937cd8a23a4\">\n",
              "  <button class=\"colab-df-quickchart\" onclick=\"quickchart('df-4f9abcbb-7bef-4846-8d50-4937cd8a23a4')\"\n",
              "            title=\"Suggest charts.\"\n",
              "            style=\"display:none;\">\n",
              "\n",
              "<svg xmlns=\"http://www.w3.org/2000/svg\" height=\"24px\"viewBox=\"0 0 24 24\"\n",
              "     width=\"24px\">\n",
              "    <g>\n",
              "        <path d=\"M19 3H5c-1.1 0-2 .9-2 2v14c0 1.1.9 2 2 2h14c1.1 0 2-.9 2-2V5c0-1.1-.9-2-2-2zM9 17H7v-7h2v7zm4 0h-2V7h2v10zm4 0h-2v-4h2v4z\"/>\n",
              "    </g>\n",
              "</svg>\n",
              "  </button>\n",
              "\n",
              "<style>\n",
              "  .colab-df-quickchart {\n",
              "      --bg-color: #E8F0FE;\n",
              "      --fill-color: #1967D2;\n",
              "      --hover-bg-color: #E2EBFA;\n",
              "      --hover-fill-color: #174EA6;\n",
              "      --disabled-fill-color: #AAA;\n",
              "      --disabled-bg-color: #DDD;\n",
              "  }\n",
              "\n",
              "  [theme=dark] .colab-df-quickchart {\n",
              "      --bg-color: #3B4455;\n",
              "      --fill-color: #D2E3FC;\n",
              "      --hover-bg-color: #434B5C;\n",
              "      --hover-fill-color: #FFFFFF;\n",
              "      --disabled-bg-color: #3B4455;\n",
              "      --disabled-fill-color: #666;\n",
              "  }\n",
              "\n",
              "  .colab-df-quickchart {\n",
              "    background-color: var(--bg-color);\n",
              "    border: none;\n",
              "    border-radius: 50%;\n",
              "    cursor: pointer;\n",
              "    display: none;\n",
              "    fill: var(--fill-color);\n",
              "    height: 32px;\n",
              "    padding: 0;\n",
              "    width: 32px;\n",
              "  }\n",
              "\n",
              "  .colab-df-quickchart:hover {\n",
              "    background-color: var(--hover-bg-color);\n",
              "    box-shadow: 0 1px 2px rgba(60, 64, 67, 0.3), 0 1px 3px 1px rgba(60, 64, 67, 0.15);\n",
              "    fill: var(--button-hover-fill-color);\n",
              "  }\n",
              "\n",
              "  .colab-df-quickchart-complete:disabled,\n",
              "  .colab-df-quickchart-complete:disabled:hover {\n",
              "    background-color: var(--disabled-bg-color);\n",
              "    fill: var(--disabled-fill-color);\n",
              "    box-shadow: none;\n",
              "  }\n",
              "\n",
              "  .colab-df-spinner {\n",
              "    border: 2px solid var(--fill-color);\n",
              "    border-color: transparent;\n",
              "    border-bottom-color: var(--fill-color);\n",
              "    animation:\n",
              "      spin 1s steps(1) infinite;\n",
              "  }\n",
              "\n",
              "  @keyframes spin {\n",
              "    0% {\n",
              "      border-color: transparent;\n",
              "      border-bottom-color: var(--fill-color);\n",
              "      border-left-color: var(--fill-color);\n",
              "    }\n",
              "    20% {\n",
              "      border-color: transparent;\n",
              "      border-left-color: var(--fill-color);\n",
              "      border-top-color: var(--fill-color);\n",
              "    }\n",
              "    30% {\n",
              "      border-color: transparent;\n",
              "      border-left-color: var(--fill-color);\n",
              "      border-top-color: var(--fill-color);\n",
              "      border-right-color: var(--fill-color);\n",
              "    }\n",
              "    40% {\n",
              "      border-color: transparent;\n",
              "      border-right-color: var(--fill-color);\n",
              "      border-top-color: var(--fill-color);\n",
              "    }\n",
              "    60% {\n",
              "      border-color: transparent;\n",
              "      border-right-color: var(--fill-color);\n",
              "    }\n",
              "    80% {\n",
              "      border-color: transparent;\n",
              "      border-right-color: var(--fill-color);\n",
              "      border-bottom-color: var(--fill-color);\n",
              "    }\n",
              "    90% {\n",
              "      border-color: transparent;\n",
              "      border-bottom-color: var(--fill-color);\n",
              "    }\n",
              "  }\n",
              "</style>\n",
              "\n",
              "  <script>\n",
              "    async function quickchart(key) {\n",
              "      const quickchartButtonEl =\n",
              "        document.querySelector('#' + key + ' button');\n",
              "      quickchartButtonEl.disabled = true;  // To prevent multiple clicks.\n",
              "      quickchartButtonEl.classList.add('colab-df-spinner');\n",
              "      try {\n",
              "        const charts = await google.colab.kernel.invokeFunction(\n",
              "            'suggestCharts', [key], {});\n",
              "      } catch (error) {\n",
              "        console.error('Error during call to suggestCharts:', error);\n",
              "      }\n",
              "      quickchartButtonEl.classList.remove('colab-df-spinner');\n",
              "      quickchartButtonEl.classList.add('colab-df-quickchart-complete');\n",
              "    }\n",
              "    (() => {\n",
              "      let quickchartButtonEl =\n",
              "        document.querySelector('#df-4f9abcbb-7bef-4846-8d50-4937cd8a23a4 button');\n",
              "      quickchartButtonEl.style.display =\n",
              "        google.colab.kernel.accessAllowed ? 'block' : 'none';\n",
              "    })();\n",
              "  </script>\n",
              "</div>\n",
              "    </div>\n",
              "  </div>\n"
            ]
          },
          "metadata": {},
          "execution_count": 100
        }
      ],
      "source": [
        "tweets_df = pd.read_csv(\"Datasets/cyberbullying_tweets.csv\")\n",
        "tweets_df"
      ]
    },
    {
      "cell_type": "code",
      "execution_count": 100,
      "metadata": {
        "id": "vBv6ZfYWgZ6V"
      },
      "outputs": [],
      "source": []
    },
    {
      "cell_type": "code",
      "execution_count": null,
      "metadata": {
        "id": "dUrw8zwvnA3r"
      },
      "outputs": [],
      "source": [
        "len(tweets_df)"
      ]
    },
    {
      "cell_type": "code",
      "execution_count": 102,
      "metadata": {
        "id": "6LQaLVJqv3hn"
      },
      "outputs": [],
      "source": [
        "#sorting dataset by only gender-bullying and not bullying tweets\n",
        "sorted_tweets=tweets_df[(tweets_df['cyberbullying_type']=='gender') | (tweets_df['cyberbullying_type']=='not_cyberbullying') ]"
      ]
    },
    {
      "cell_type": "code",
      "execution_count": 103,
      "metadata": {
        "colab": {
          "base_uri": "https://localhost:8080/",
          "height": 424
        },
        "id": "wl52X90cxL-c",
        "outputId": "22094cd2-119d-4af1-e888-3615a2e5c238"
      },
      "outputs": [
        {
          "output_type": "execute_result",
          "data": {
            "text/plain": [
              "                                              tweet_text cyberbullying_type\n",
              "0      In other words #katandandre, your food was cra...  not_cyberbullying\n",
              "1      Why is #aussietv so white? #MKR #theblock #ImA...  not_cyberbullying\n",
              "2      @XochitlSuckkks a classy whore? Or more red ve...  not_cyberbullying\n",
              "3      @Jason_Gio meh. :P  thanks for the heads up, b...  not_cyberbullying\n",
              "4      @RudhoeEnglish This is an ISIS account pretend...  not_cyberbullying\n",
              "...                                                  ...                ...\n",
              "15913  Any females that really know me know Ion even ...             gender\n",
              "15914  RT @_chrisdowns_: #QuestionsForMen This one's ...             gender\n",
              "15915  Sucks to have the smile wiped off your own fac...             gender\n",
              "15916  No. He said women choose to be gay, men don't....             gender\n",
              "15917  RT @uberfeminist: #TwitterFeminism can't convi...             gender\n",
              "\n",
              "[15918 rows x 2 columns]"
            ],
            "text/html": [
              "\n",
              "  <div id=\"df-220c02dc-29c2-447e-b3e2-cfedabeeb5f2\" class=\"colab-df-container\">\n",
              "    <div>\n",
              "<style scoped>\n",
              "    .dataframe tbody tr th:only-of-type {\n",
              "        vertical-align: middle;\n",
              "    }\n",
              "\n",
              "    .dataframe tbody tr th {\n",
              "        vertical-align: top;\n",
              "    }\n",
              "\n",
              "    .dataframe thead th {\n",
              "        text-align: right;\n",
              "    }\n",
              "</style>\n",
              "<table border=\"1\" class=\"dataframe\">\n",
              "  <thead>\n",
              "    <tr style=\"text-align: right;\">\n",
              "      <th></th>\n",
              "      <th>tweet_text</th>\n",
              "      <th>cyberbullying_type</th>\n",
              "    </tr>\n",
              "  </thead>\n",
              "  <tbody>\n",
              "    <tr>\n",
              "      <th>0</th>\n",
              "      <td>In other words #katandandre, your food was cra...</td>\n",
              "      <td>not_cyberbullying</td>\n",
              "    </tr>\n",
              "    <tr>\n",
              "      <th>1</th>\n",
              "      <td>Why is #aussietv so white? #MKR #theblock #ImA...</td>\n",
              "      <td>not_cyberbullying</td>\n",
              "    </tr>\n",
              "    <tr>\n",
              "      <th>2</th>\n",
              "      <td>@XochitlSuckkks a classy whore? Or more red ve...</td>\n",
              "      <td>not_cyberbullying</td>\n",
              "    </tr>\n",
              "    <tr>\n",
              "      <th>3</th>\n",
              "      <td>@Jason_Gio meh. :P  thanks for the heads up, b...</td>\n",
              "      <td>not_cyberbullying</td>\n",
              "    </tr>\n",
              "    <tr>\n",
              "      <th>4</th>\n",
              "      <td>@RudhoeEnglish This is an ISIS account pretend...</td>\n",
              "      <td>not_cyberbullying</td>\n",
              "    </tr>\n",
              "    <tr>\n",
              "      <th>...</th>\n",
              "      <td>...</td>\n",
              "      <td>...</td>\n",
              "    </tr>\n",
              "    <tr>\n",
              "      <th>15913</th>\n",
              "      <td>Any females that really know me know Ion even ...</td>\n",
              "      <td>gender</td>\n",
              "    </tr>\n",
              "    <tr>\n",
              "      <th>15914</th>\n",
              "      <td>RT @_chrisdowns_: #QuestionsForMen This one's ...</td>\n",
              "      <td>gender</td>\n",
              "    </tr>\n",
              "    <tr>\n",
              "      <th>15915</th>\n",
              "      <td>Sucks to have the smile wiped off your own fac...</td>\n",
              "      <td>gender</td>\n",
              "    </tr>\n",
              "    <tr>\n",
              "      <th>15916</th>\n",
              "      <td>No. He said women choose to be gay, men don't....</td>\n",
              "      <td>gender</td>\n",
              "    </tr>\n",
              "    <tr>\n",
              "      <th>15917</th>\n",
              "      <td>RT @uberfeminist: #TwitterFeminism can't convi...</td>\n",
              "      <td>gender</td>\n",
              "    </tr>\n",
              "  </tbody>\n",
              "</table>\n",
              "<p>15918 rows × 2 columns</p>\n",
              "</div>\n",
              "    <div class=\"colab-df-buttons\">\n",
              "\n",
              "  <div class=\"colab-df-container\">\n",
              "    <button class=\"colab-df-convert\" onclick=\"convertToInteractive('df-220c02dc-29c2-447e-b3e2-cfedabeeb5f2')\"\n",
              "            title=\"Convert this dataframe to an interactive table.\"\n",
              "            style=\"display:none;\">\n",
              "\n",
              "  <svg xmlns=\"http://www.w3.org/2000/svg\" height=\"24px\" viewBox=\"0 -960 960 960\">\n",
              "    <path d=\"M120-120v-720h720v720H120Zm60-500h600v-160H180v160Zm220 220h160v-160H400v160Zm0 220h160v-160H400v160ZM180-400h160v-160H180v160Zm440 0h160v-160H620v160ZM180-180h160v-160H180v160Zm440 0h160v-160H620v160Z\"/>\n",
              "  </svg>\n",
              "    </button>\n",
              "\n",
              "  <style>\n",
              "    .colab-df-container {\n",
              "      display:flex;\n",
              "      gap: 12px;\n",
              "    }\n",
              "\n",
              "    .colab-df-convert {\n",
              "      background-color: #E8F0FE;\n",
              "      border: none;\n",
              "      border-radius: 50%;\n",
              "      cursor: pointer;\n",
              "      display: none;\n",
              "      fill: #1967D2;\n",
              "      height: 32px;\n",
              "      padding: 0 0 0 0;\n",
              "      width: 32px;\n",
              "    }\n",
              "\n",
              "    .colab-df-convert:hover {\n",
              "      background-color: #E2EBFA;\n",
              "      box-shadow: 0px 1px 2px rgba(60, 64, 67, 0.3), 0px 1px 3px 1px rgba(60, 64, 67, 0.15);\n",
              "      fill: #174EA6;\n",
              "    }\n",
              "\n",
              "    .colab-df-buttons div {\n",
              "      margin-bottom: 4px;\n",
              "    }\n",
              "\n",
              "    [theme=dark] .colab-df-convert {\n",
              "      background-color: #3B4455;\n",
              "      fill: #D2E3FC;\n",
              "    }\n",
              "\n",
              "    [theme=dark] .colab-df-convert:hover {\n",
              "      background-color: #434B5C;\n",
              "      box-shadow: 0px 1px 3px 1px rgba(0, 0, 0, 0.15);\n",
              "      filter: drop-shadow(0px 1px 2px rgba(0, 0, 0, 0.3));\n",
              "      fill: #FFFFFF;\n",
              "    }\n",
              "  </style>\n",
              "\n",
              "    <script>\n",
              "      const buttonEl =\n",
              "        document.querySelector('#df-220c02dc-29c2-447e-b3e2-cfedabeeb5f2 button.colab-df-convert');\n",
              "      buttonEl.style.display =\n",
              "        google.colab.kernel.accessAllowed ? 'block' : 'none';\n",
              "\n",
              "      async function convertToInteractive(key) {\n",
              "        const element = document.querySelector('#df-220c02dc-29c2-447e-b3e2-cfedabeeb5f2');\n",
              "        const dataTable =\n",
              "          await google.colab.kernel.invokeFunction('convertToInteractive',\n",
              "                                                    [key], {});\n",
              "        if (!dataTable) return;\n",
              "\n",
              "        const docLinkHtml = 'Like what you see? Visit the ' +\n",
              "          '<a target=\"_blank\" href=https://colab.research.google.com/notebooks/data_table.ipynb>data table notebook</a>'\n",
              "          + ' to learn more about interactive tables.';\n",
              "        element.innerHTML = '';\n",
              "        dataTable['output_type'] = 'display_data';\n",
              "        await google.colab.output.renderOutput(dataTable, element);\n",
              "        const docLink = document.createElement('div');\n",
              "        docLink.innerHTML = docLinkHtml;\n",
              "        element.appendChild(docLink);\n",
              "      }\n",
              "    </script>\n",
              "  </div>\n",
              "\n",
              "\n",
              "<div id=\"df-f49a0560-5529-41a1-92d8-1dc28836520b\">\n",
              "  <button class=\"colab-df-quickchart\" onclick=\"quickchart('df-f49a0560-5529-41a1-92d8-1dc28836520b')\"\n",
              "            title=\"Suggest charts.\"\n",
              "            style=\"display:none;\">\n",
              "\n",
              "<svg xmlns=\"http://www.w3.org/2000/svg\" height=\"24px\"viewBox=\"0 0 24 24\"\n",
              "     width=\"24px\">\n",
              "    <g>\n",
              "        <path d=\"M19 3H5c-1.1 0-2 .9-2 2v14c0 1.1.9 2 2 2h14c1.1 0 2-.9 2-2V5c0-1.1-.9-2-2-2zM9 17H7v-7h2v7zm4 0h-2V7h2v10zm4 0h-2v-4h2v4z\"/>\n",
              "    </g>\n",
              "</svg>\n",
              "  </button>\n",
              "\n",
              "<style>\n",
              "  .colab-df-quickchart {\n",
              "      --bg-color: #E8F0FE;\n",
              "      --fill-color: #1967D2;\n",
              "      --hover-bg-color: #E2EBFA;\n",
              "      --hover-fill-color: #174EA6;\n",
              "      --disabled-fill-color: #AAA;\n",
              "      --disabled-bg-color: #DDD;\n",
              "  }\n",
              "\n",
              "  [theme=dark] .colab-df-quickchart {\n",
              "      --bg-color: #3B4455;\n",
              "      --fill-color: #D2E3FC;\n",
              "      --hover-bg-color: #434B5C;\n",
              "      --hover-fill-color: #FFFFFF;\n",
              "      --disabled-bg-color: #3B4455;\n",
              "      --disabled-fill-color: #666;\n",
              "  }\n",
              "\n",
              "  .colab-df-quickchart {\n",
              "    background-color: var(--bg-color);\n",
              "    border: none;\n",
              "    border-radius: 50%;\n",
              "    cursor: pointer;\n",
              "    display: none;\n",
              "    fill: var(--fill-color);\n",
              "    height: 32px;\n",
              "    padding: 0;\n",
              "    width: 32px;\n",
              "  }\n",
              "\n",
              "  .colab-df-quickchart:hover {\n",
              "    background-color: var(--hover-bg-color);\n",
              "    box-shadow: 0 1px 2px rgba(60, 64, 67, 0.3), 0 1px 3px 1px rgba(60, 64, 67, 0.15);\n",
              "    fill: var(--button-hover-fill-color);\n",
              "  }\n",
              "\n",
              "  .colab-df-quickchart-complete:disabled,\n",
              "  .colab-df-quickchart-complete:disabled:hover {\n",
              "    background-color: var(--disabled-bg-color);\n",
              "    fill: var(--disabled-fill-color);\n",
              "    box-shadow: none;\n",
              "  }\n",
              "\n",
              "  .colab-df-spinner {\n",
              "    border: 2px solid var(--fill-color);\n",
              "    border-color: transparent;\n",
              "    border-bottom-color: var(--fill-color);\n",
              "    animation:\n",
              "      spin 1s steps(1) infinite;\n",
              "  }\n",
              "\n",
              "  @keyframes spin {\n",
              "    0% {\n",
              "      border-color: transparent;\n",
              "      border-bottom-color: var(--fill-color);\n",
              "      border-left-color: var(--fill-color);\n",
              "    }\n",
              "    20% {\n",
              "      border-color: transparent;\n",
              "      border-left-color: var(--fill-color);\n",
              "      border-top-color: var(--fill-color);\n",
              "    }\n",
              "    30% {\n",
              "      border-color: transparent;\n",
              "      border-left-color: var(--fill-color);\n",
              "      border-top-color: var(--fill-color);\n",
              "      border-right-color: var(--fill-color);\n",
              "    }\n",
              "    40% {\n",
              "      border-color: transparent;\n",
              "      border-right-color: var(--fill-color);\n",
              "      border-top-color: var(--fill-color);\n",
              "    }\n",
              "    60% {\n",
              "      border-color: transparent;\n",
              "      border-right-color: var(--fill-color);\n",
              "    }\n",
              "    80% {\n",
              "      border-color: transparent;\n",
              "      border-right-color: var(--fill-color);\n",
              "      border-bottom-color: var(--fill-color);\n",
              "    }\n",
              "    90% {\n",
              "      border-color: transparent;\n",
              "      border-bottom-color: var(--fill-color);\n",
              "    }\n",
              "  }\n",
              "</style>\n",
              "\n",
              "  <script>\n",
              "    async function quickchart(key) {\n",
              "      const quickchartButtonEl =\n",
              "        document.querySelector('#' + key + ' button');\n",
              "      quickchartButtonEl.disabled = true;  // To prevent multiple clicks.\n",
              "      quickchartButtonEl.classList.add('colab-df-spinner');\n",
              "      try {\n",
              "        const charts = await google.colab.kernel.invokeFunction(\n",
              "            'suggestCharts', [key], {});\n",
              "      } catch (error) {\n",
              "        console.error('Error during call to suggestCharts:', error);\n",
              "      }\n",
              "      quickchartButtonEl.classList.remove('colab-df-spinner');\n",
              "      quickchartButtonEl.classList.add('colab-df-quickchart-complete');\n",
              "    }\n",
              "    (() => {\n",
              "      let quickchartButtonEl =\n",
              "        document.querySelector('#df-f49a0560-5529-41a1-92d8-1dc28836520b button');\n",
              "      quickchartButtonEl.style.display =\n",
              "        google.colab.kernel.accessAllowed ? 'block' : 'none';\n",
              "    })();\n",
              "  </script>\n",
              "</div>\n",
              "    </div>\n",
              "  </div>\n"
            ]
          },
          "metadata": {},
          "execution_count": 103
        }
      ],
      "source": [
        "sorted_tweets"
      ]
    },
    {
      "cell_type": "code",
      "execution_count": 104,
      "metadata": {
        "colab": {
          "base_uri": "https://localhost:8080/"
        },
        "id": "Uq9t25MzxZxI",
        "outputId": "741ee08f-4eb6-4f55-928b-0a039c9ca38f"
      },
      "outputs": [
        {
          "output_type": "execute_result",
          "data": {
            "text/plain": [
              "15918"
            ]
          },
          "metadata": {},
          "execution_count": 104
        }
      ],
      "source": [
        "len(sorted_tweets)\n",
        "#sorted_tweets.shape"
      ]
    },
    {
      "cell_type": "code",
      "execution_count": 105,
      "metadata": {
        "colab": {
          "base_uri": "https://localhost:8080/"
        },
        "id": "VgKNbwg2bF3Y",
        "outputId": "e5bf010f-6a15-4aa0-a0bc-9b2181814647"
      },
      "outputs": [
        {
          "output_type": "execute_result",
          "data": {
            "text/plain": [
              "7945"
            ]
          },
          "metadata": {},
          "execution_count": 105
        }
      ],
      "source": [
        "15918-len(sorted_tweets[sorted_tweets['cyberbullying_type']=='gender'])"
      ]
    },
    {
      "cell_type": "code",
      "execution_count": 106,
      "metadata": {
        "id": "VXVdbFdd2dYg"
      },
      "outputs": [],
      "source": [
        "#import nltk\n",
        "#from nltk.stem import WordNetLemmatizer\n",
        "#from nltk.corpus import stopwords\n",
        "#from nltk.tokenize import word_tokenize\n",
        "\n",
        "#nltk.download('stopwords')\n",
        "#nltk.download('wordnet')\n",
        "#nltk.download('punkt')*"
      ]
    },
    {
      "cell_type": "code",
      "execution_count": 107,
      "metadata": {
        "colab": {
          "base_uri": "https://localhost:8080/"
        },
        "id": "JRTZIziM3Eys",
        "outputId": "f114d367-dafa-40e2-e31e-6b3eb60ca1b5"
      },
      "outputs": [
        {
          "output_type": "stream",
          "name": "stderr",
          "text": [
            "[nltk_data] Downloading package stopwords to /root/nltk_data...\n",
            "[nltk_data]   Package stopwords is already up-to-date!\n"
          ]
        }
      ],
      "source": [
        "import cv2\n",
        "import seaborn as sns\n",
        "import matplotlib.pyplot as plt\n",
        "from sklearn.model_selection import train_test_split\n",
        "import string\n",
        "import nltk\n",
        "from nltk.corpus import stopwords\n",
        "\n",
        "nltk.download('stopwords')\n",
        "\n",
        "# quiet future deprecation warnings\n",
        "import warnings\n",
        "warnings.filterwarnings('ignore')"
      ]
    },
    {
      "cell_type": "code",
      "execution_count": 108,
      "metadata": {
        "id": "3td4Yrhu4REX"
      },
      "outputs": [],
      "source": [
        "bullying_tweets=tweets_df[(tweets_df['cyberbullying_type']=='gender') ]"
      ]
    },
    {
      "cell_type": "code",
      "execution_count": 109,
      "metadata": {
        "colab": {
          "base_uri": "https://localhost:8080/"
        },
        "id": "SvWl2aekgbk8",
        "outputId": "40d84383-ef8b-4d84-994d-34ed3b5b791e"
      },
      "outputs": [
        {
          "output_type": "stream",
          "name": "stdout",
          "text": [
            "Requirement already satisfied: langdetect in /usr/local/lib/python3.10/dist-packages (1.0.9)\n",
            "Requirement already satisfied: six in /usr/local/lib/python3.10/dist-packages (from langdetect) (1.16.0)\n"
          ]
        }
      ],
      "source": [
        "#account for dif languages\n",
        "\n",
        "!pip install langdetect\n",
        "from langdetect import detect, detect_langs\n",
        "\n",
        "def language_detection(text, method = \"single\"):\n",
        "\n",
        "  \"\"\"\n",
        "  @desc:\n",
        "    - detects the language of a text\n",
        "  @params:\n",
        "    - text: the text which language needs to be detected\n",
        "    - method: detection method:\n",
        "      single: if the detection is based on the first option (detect)\n",
        "  @return:\n",
        "    - the langue/list of languages\n",
        "  \"\"\"\n",
        "\n",
        "  if(method.lower() != \"single\"):\n",
        "    result = detect_langs(text)\n",
        "\n",
        "  else:\n",
        "    result = detect(text)\n",
        "\n",
        "  return result"
      ]
    },
    {
      "cell_type": "code",
      "execution_count": 110,
      "metadata": {
        "id": "BUfZFHGuhAu_"
      },
      "outputs": [],
      "source": [
        "from langdetect import detect\n",
        "\n",
        "def detect_english(text):\n",
        "  try:\n",
        "    return detect(text) == 'en'\n",
        "  except:\n",
        "    return False"
      ]
    },
    {
      "cell_type": "code",
      "execution_count": 111,
      "metadata": {
        "id": "GiEd1Nf-jMXC"
      },
      "outputs": [],
      "source": [
        "#filter by english\n",
        "sorted_tweets = sorted_tweets[sorted_tweets['tweet_text'].apply(detect_english)]"
      ]
    },
    {
      "cell_type": "code",
      "execution_count": 112,
      "metadata": {
        "id": "mfTJh9YPzw4X"
      },
      "outputs": [],
      "source": [
        "#bootstrapping\n",
        "import random\n",
        "np.random.seed(42)\n",
        "sorted_tweets=sorted_tweets.sample(n= 20000, replace = True)"
      ]
    },
    {
      "cell_type": "code",
      "execution_count": 113,
      "metadata": {
        "colab": {
          "base_uri": "https://localhost:8080/",
          "height": 574
        },
        "id": "jo1w69zT2BbK",
        "outputId": "07d65ba0-ae27-4765-92de-ca4e311a14d2"
      },
      "outputs": [
        {
          "output_type": "display_data",
          "data": {
            "text/plain": [
              "<Figure size 800x600 with 1 Axes>"
            ],
            "image/png": "[encoded data removed]"
          },
          "metadata": {}
        }
      ],
      "source": [
        "from collections import Counter\n",
        "\n",
        "stpwrds = stopwords.words('english')\n",
        "punctuation = string.punctuation\n",
        "\n",
        "# try changing to visualize more or less words\n",
        "num_words = 15\n",
        "\n",
        "# text cleaning maintaining all of our text as one string\n",
        "text = \" \".join(bullying_tweets['tweet_text'])\n",
        "# text = text.lower() # try adding this back in and see what happens!\n",
        "text = \"\".join(_ for _ in text if _ not in punctuation)\n",
        "text = [t for t in text.split() if t not in stpwrds and not t.isdigit()]\n",
        "\n",
        "# We can use Counter to find the most frequent words in all our titles!\n",
        "words = [_[0] for _ in Counter(text).most_common(num_words)]\n",
        "frequency = [_[1] for _ in Counter(text).most_common(num_words)]\n",
        "\n",
        "# Making our plot look nice!\n",
        "plt.figure(figsize=(8,6));\n",
        "ax = sns.barplot(x=frequency, y=words)\n",
        "ax.spines['top'].set_visible(False)\n",
        "ax.spines['right'].set_visible(False)\n",
        "plt.title(\"Most Frequent Keywords used in gender bullying tweets\");\n",
        "plt.xlabel(\"Frequency\", fontsize=14);\n",
        "plt.yticks(fontsize=14);\n",
        "plt.xticks(fontsize=14);"
      ]
    },
    {
      "cell_type": "code",
      "execution_count": 114,
      "metadata": {
        "id": "tWVYOJzy4rZ-"
      },
      "outputs": [],
      "source": [
        "#splitting dataset into training and testing data\n",
        "X_train, X_test, y_train, y_test = train_test_split(sorted_tweets[\"tweet_text\"], sorted_tweets[\"cyberbullying_type\"], test_size=0.2, random_state=9, stratify=sorted_tweets[\"cyberbullying_type\"])"
      ]
    },
    {
      "cell_type": "code",
      "execution_count": 115,
      "metadata": {
        "colab": {
          "base_uri": "https://localhost:8080/"
        },
        "id": "3_KlwcGM5YSq",
        "outputId": "dc9edfb5-0f12-41b3-e56e-a95244e37b32"
      },
      "outputs": [
        {
          "output_type": "stream",
          "name": "stdout",
          "text": [
            "(16000,)\n",
            "(16000,)\n",
            "(4000,)\n",
            "(4000,)\n"
          ]
        }
      ],
      "source": [
        "print(X_train.shape)\n",
        "print(y_train.shape)\n",
        "print(X_test.shape)\n",
        "print(y_test.shape)"
      ]
    },
    {
      "cell_type": "code",
      "execution_count": 116,
      "metadata": {
        "colab": {
          "base_uri": "https://localhost:8080/"
        },
        "id": "pbI5BCs1eQWa",
        "outputId": "1891a087-53d3-4285-a51a-3d02485d7eda"
      },
      "outputs": [
        {
          "output_type": "execute_result",
          "data": {
            "text/plain": [
              "Counter({'not_cyberbullying': 7459, 'gender': 8541})"
            ]
          },
          "metadata": {},
          "execution_count": 116
        }
      ],
      "source": [
        "Counter(y_train)"
      ]
    },
    {
      "cell_type": "code",
      "execution_count": null,
      "metadata": {
        "id": "aOKUNjMLkECF"
      },
      "outputs": [],
      "source": [
        "Counter(X_train)"
      ]
    },
    {
      "cell_type": "code",
      "execution_count": 118,
      "metadata": {
        "colab": {
          "base_uri": "https://localhost:8080/"
        },
        "id": "CtyZMTMJeSwm",
        "outputId": "1a17db0a-83b4-4191-e6c5-f52bb6d8f076"
      },
      "outputs": [
        {
          "output_type": "execute_result",
          "data": {
            "text/plain": [
              "Counter({'not_cyberbullying': 1865, 'gender': 2135})"
            ]
          },
          "metadata": {},
          "execution_count": 118
        }
      ],
      "source": [
        "Counter(y_test)"
      ]
    },
    {
      "cell_type": "markdown",
      "metadata": {
        "id": "T5P6mHjhhg1L"
      },
      "source": []
    },
    {
      "cell_type": "code",
      "execution_count": 119,
      "metadata": {
        "id": "4ONHOsppcu_x"
      },
      "outputs": [],
      "source": [
        "#Clean the text in order to extract meaningful features"
      ]
    },
    {
      "cell_type": "code",
      "execution_count": null,
      "metadata": {
        "id": "hSPaxxXEKq50"
      },
      "outputs": [],
      "source": [
        "import nltk\n",
        "from nltk.stem import WordNetLemmatizer\n",
        "from nltk.corpus import stopwords\n",
        "from nltk.tokenize import word_tokenize\n",
        "\n",
        "nltk.download('stopwords')\n",
        "nltk.download('wordnet')\n",
        "nltk.download('punkt')"
      ]
    },
    {
      "cell_type": "code",
      "execution_count": 121,
      "metadata": {
        "id": "qjlaF0qkLTeO"
      },
      "outputs": [],
      "source": [
        "def process_lang_data(text):\n",
        "  '''\n",
        "    For a given text, go through the process of tokenizing, removing stopwords,\n",
        "    stemming / lemmatization, and removing punctuation. Return the cleaned text.\n",
        "  '''\n",
        "  cleaned_text = []\n",
        "  punctuation = string.punctuation\n",
        "  our_stopwords = stopwords.words('english')\n",
        "  lemmatizer = WordNetLemmatizer()\n",
        "\n",
        "  for token in word_tokenize(text):\n",
        "    if token not in punctuation and token not in our_stopwords:\n",
        "      clipped_token = lemmatizer.lemmatize(token)\n",
        "      cleaned_text.append(clipped_token)\n",
        "\n",
        "  return cleaned_text"
      ]
    },
    {
      "cell_type": "code",
      "execution_count": 122,
      "metadata": {
        "id": "xBHTZF0Ifg39"
      },
      "outputs": [],
      "source": [
        "#Training the data\n",
        "from sklearn.feature_extraction.text import CountVectorizer\n",
        "\n",
        "bow2 = CountVectorizer(analyzer=process_lang_data, max_features=1000) # using the function we made above\n",
        "bow2.fit(X_train)                             # fitting to our training data\n",
        "bow2_train = bow2.transform(X_train).toarray() # then transforming both training and testing data\n",
        "bow2_test = bow2.transform(X_test).toarray()"
      ]
    },
    {
      "cell_type": "code",
      "execution_count": 123,
      "metadata": {
        "colab": {
          "base_uri": "https://localhost:8080/"
        },
        "id": "1jdMhJ6Lf0Kg",
        "outputId": "f2a86fe7-f815-457b-b7ac-1fad08ec8aec"
      },
      "outputs": [
        {
          "output_type": "stream",
          "name": "stdout",
          "text": [
            "(16000, 1000)\n",
            "(4000, 1000)\n"
          ]
        }
      ],
      "source": [
        "print(bow2_train.shape)\n",
        "print(bow2_test.shape)"
      ]
    },
    {
      "cell_type": "code",
      "execution_count": 124,
      "metadata": {
        "id": "PhCrZXH2W5T2"
      },
      "outputs": [],
      "source": [
        "y=sorted_tweets['cyberbullying_type'].values"
      ]
    },
    {
      "cell_type": "code",
      "execution_count": 125,
      "metadata": {
        "colab": {
          "base_uri": "https://localhost:8080/"
        },
        "id": "RsiXUKkSX5AJ",
        "outputId": "913ea14a-7814-4d9b-bd99-bc8f3c467d76"
      },
      "outputs": [
        {
          "output_type": "stream",
          "name": "stdout",
          "text": [
            "['gender' 'not_cyberbullying' 'not_cyberbullying' ... 'gender'\n",
            " 'not_cyberbullying' 'not_cyberbullying']\n"
          ]
        }
      ],
      "source": [
        "print(y)"
      ]
    },
    {
      "cell_type": "code",
      "execution_count": 126,
      "metadata": {
        "id": "VkJKEu7BD-qn",
        "colab": {
          "base_uri": "https://localhost:8080/"
        },
        "outputId": "2eb73a5d-befd-4dc2-f895-3abeeade3155"
      },
      "outputs": [
        {
          "output_type": "execute_result",
          "data": {
            "text/plain": [
              "(16000, 1000)"
            ]
          },
          "metadata": {},
          "execution_count": 126
        }
      ],
      "source": [
        "bow2_train.shape"
      ]
    },
    {
      "cell_type": "code",
      "execution_count": 127,
      "metadata": {
        "id": "sHhjQYFJOHEC"
      },
      "outputs": [],
      "source": [
        "from sklearn.preprocessing import LabelEncoder\n",
        "\n",
        "# Encode labels\n",
        "label_encoder = LabelEncoder()\n",
        "y_train_encoded = label_encoder.fit_transform(y_train)\n",
        "y_test_encoded = label_encoder.transform(y_test)\n",
        "\n",
        "# Convert labels to float32\n",
        "y_train_float = y_train_encoded.astype('float32')\n",
        "y_test_float = y_test_encoded.astype('float32')\n"
      ]
    },
    {
      "cell_type": "code",
      "execution_count": 128,
      "metadata": {
        "id": "oDBq7DKB2pYT"
      },
      "outputs": [],
      "source": [
        "import re\n",
        "\n",
        "def depure_data(data):\n",
        "\n",
        "    #Removing URLs with a regular expression\n",
        "    url_pattern = re.compile(r'https?://\\S+|www\\.\\S+')\n",
        "    data = url_pattern.sub(r'', data)\n",
        "\n",
        "    # Remove Emails\n",
        "    data = re.sub('\\S*@\\S*\\s?', '', data)\n",
        "\n",
        "    # Remove new line characters\n",
        "    data = re.sub('\\s+', ' ', data)\n",
        "\n",
        "    # Remove distracting single quotes\n",
        "    data = re.sub(\"\\'\", \"\", data)\n",
        "\n",
        "    return data"
      ]
    },
    {
      "cell_type": "code",
      "execution_count": 129,
      "metadata": {
        "id": "ueQVUp-V23Dg"
      },
      "outputs": [],
      "source": [
        "import gensim\n",
        "from nltk.tokenize.treebank import TreebankWordDetokenizer\n",
        "\n",
        "def sent_to_words(sentences):\n",
        "    for sentence in sentences:\n",
        "        yield(gensim.utils.simple_preprocess(str(sentence),     deacc=True))\n",
        "\n",
        "def detokenize(text):\n",
        "    return TreebankWordDetokenizer().detokenize(text)"
      ]
    },
    {
      "cell_type": "code",
      "execution_count": 130,
      "metadata": {
        "id": "MBrSk-4nqMCc"
      },
      "outputs": [],
      "source": [
        "import numpy as np\n",
        "from sklearn.metrics import accuracy_score, f1_score\n",
        "from sklearn.model_selection import train_test_split\n",
        "from keras.models import Sequential\n",
        "from keras.layers import Embedding, Conv1D, GlobalMaxPooling1D, Dense\n",
        "from sklearn.metrics import precision_score\n",
        "from sklearn.metrics import recall_score\n",
        "\n"
      ]
    },
    {
      "cell_type": "markdown",
      "metadata": {
        "id": "60I_rzSP9Hz7"
      },
      "source": [
        "# MLP Classifier"
      ]
    },
    {
      "cell_type": "code",
      "execution_count": null,
      "metadata": {
        "id": "Psfp65tSuJK-"
      },
      "outputs": [],
      "source": [
        "from sklearn.neural_network import MLPClassifier\n",
        "from sklearn.metrics import accuracy_score, f1_score\n",
        "\n",
        "# Initialize and train the MLP classifier\n",
        "clf = MLPClassifier(hidden_layer_sizes=(500,4), max_iter=200)  # Adjust parameters as needed\n",
        "clf.fit(bow2_train, y_train)\n",
        "\n",
        "# Make predictions using the trained classifier\n",
        "predictions2 = clf.predict(bow2_test)\n",
        "\n",
        "# Evaluate accuracy\n",
        "score = accuracy_score(y_test, predictions2)\n",
        "print('MLP Model Accuracy: {:.2%}'.format(score))\n",
        "\n",
        "# Calculate F1 score\n",
        "f1_scores = f1_score(y_test, predictions2, average='macro')\n",
        "print('F1 Scores:', f1_scores)\n",
        "print('Precision score: ', precision_score(y_test, predictions2, average='macro'))\n",
        "print('Recall Score: ', recall_score(y_test, predictions2, average='macro'))\n",
        "\n",
        "\n"
      ]
    },
    {
      "cell_type": "code",
      "execution_count": null,
      "metadata": {
        "id": "3OOAybRW9Oem"
      },
      "outputs": [],
      "source": [
        "import matplotlib.pyplot as plt\n",
        "from sklearn.metrics import roc_curve, roc_auc_score\n",
        "\n",
        "\n",
        "\n",
        "# Assuming you have your true labels and predicted probabilities\n",
        "# true_labels = y_test  # True labels (0 or 1)\n",
        "# predicted_probs = model.predict_proba(X_test)[:, 1]  # Predicted probabilities for class 1\n",
        "y_test_binary = np.where(y_test == 'gender', 1, 0)\n",
        "predictions2_binary=np.where(predictions2 == 'gender', 1, 0)\n",
        "\n",
        "fpr, tpr, thresholds = roc_curve(y_test_binary, predictions2_binary)\n",
        "roc_auc = roc_auc_score(y_test_binary, predictions2_binary)\n",
        "print('AUC:', roc_auc)\n",
        "\n",
        "plt.figure(figsize=(8, 6))\n",
        "plt.plot(fpr, tpr, color='darkorange', lw=2, label=f'ROC curve (AUC = {roc_auc:.2f})')\n",
        "plt.plot([0, 1], [0, 1], color='navy', lw=2, linestyle='--')\n",
        "plt.xlim([0.0, 1.0])\n",
        "plt.ylim([0.0, 1.05])\n",
        "plt.xlabel('False Positive Rate')\n",
        "plt.ylabel('True Positive Rate')\n",
        "plt.title('Receiver Operating Characteristic (ROC) Curve for MLP')\n",
        "plt.legend(loc='lower right')\n",
        "plt.show()"
      ]
    },
    {
      "cell_type": "code",
      "execution_count": null,
      "metadata": {
        "id": "6f9Acj3p40pu"
      },
      "outputs": [],
      "source": [
        "import matplotlib.pyplot as plt\n",
        "from sklearn.datasets import make_classification\n",
        "from sklearn.metrics import confusion_matrix, ConfusionMatrixDisplay\n",
        "from sklearn.model_selection import train_test_split\n",
        "from sklearn.svm import SVC\n",
        "\n",
        "cm = confusion_matrix(y_test, predictions2, labels=clf.classes_)\n",
        "disp = ConfusionMatrixDisplay(confusion_matrix=cm,display_labels=clf.classes_)\n",
        "disp.plot()\n",
        "plt.show()"
      ]
    },
    {
      "cell_type": "code",
      "execution_count": 134,
      "metadata": {
        "id": "qkZ2u5pBxkzr"
      },
      "outputs": [],
      "source": [
        "#pip install keras"
      ]
    },
    {
      "cell_type": "markdown",
      "metadata": {
        "id": "-zYSdnOEXAUS"
      },
      "source": [
        "\n",
        "\n",
        "```\n",
        "# This is formatted as code\n",
        "```\n",
        "\n",
        "# LSTM\n"
      ]
    },
    {
      "cell_type": "code",
      "execution_count": null,
      "metadata": {
        "id": "AgkfaJe1W-EN"
      },
      "outputs": [],
      "source": [
        "import tensorflow as tf\n",
        "from tensorflow import keras\n",
        "from tensorflow.keras.models import Sequential\n",
        "from tensorflow.keras.layers import Embedding, LSTM, Dense\n",
        "from sklearn.metrics import accuracy_score, f1_score, precision_score, recall_score\n",
        "\n",
        "# Create an LSTM-based model\n",
        "model = Sequential()\n",
        "model.add(Embedding(input_dim=10000, output_dim=16))\n",
        "model.add(LSTM(units=64, return_sequences=False))\n",
        "model.add(Dense(units=1, activation='sigmoid'))\n",
        "\n",
        "# Compile the model\n",
        "model.compile(optimizer='adam', loss='binary_crossentropy', metrics=['accuracy'])\n",
        "\n",
        "# Train the model using your data\n",
        "model.fit(bow2_train, y_train_float, epochs=10)\n",
        "\n",
        "# Make predictions using the trained model\n",
        "predictions = model.predict(bow2_test)\n",
        "\n",
        "\n"
      ]
    },
    {
      "cell_type": "code",
      "execution_count": null,
      "metadata": {
        "id": "F1_3JNAyiMSL"
      },
      "outputs": [],
      "source": [
        "\n",
        "# Evaluate accuracy\n",
        "predictions = (predictions > 0.5).astype(int).flatten()\n",
        "\n",
        "score = accuracy_score(y_test_float, predictions)\n",
        "print('LSTM Model Accuracy: {:.2%}'.format(score))\n",
        "\n",
        "# Calculate F1 score\n",
        "f1_scores = f1_score(y_test_float, predictions, average='macro')\n",
        "print('F1 Scores:', f1_scores)\n",
        "\n",
        "# Calculate Precision and Recall\n",
        "precision = precision_score(y_test_float, predictions, average='macro')\n",
        "recall = recall_score(y_test_float, predictions, average='macro')\n",
        "print('Precision Score:', precision)\n",
        "print('Recall Score:', recall)\n",
        "\n",
        "from sklearn.metrics import roc_auc_score\n",
        "# Calculate the AUC\n",
        "auc = roc_auc_score(y_test_float, predictions)\n",
        "\n",
        "# Print the AUC\n",
        "print('AUC:', auc)"
      ]
    },
    {
      "cell_type": "markdown",
      "metadata": {
        "id": "9A8q022-9cFD"
      },
      "source": []
    },
    {
      "cell_type": "markdown",
      "source": [
        "# Feedforward Neural Network"
      ],
      "metadata": {
        "id": "HpwOgYumFVWg"
      }
    },
    {
      "cell_type": "code",
      "execution_count": null,
      "metadata": {
        "id": "RNRNAd2VQBpA"
      },
      "outputs": [],
      "source": [
        "#Search for best hyperparameters\n",
        "\"\"\"import tensorflow as tf\n",
        "from tensorflow import keras\n",
        "from tensorflow.keras.models import Sequential\n",
        "from tensorflow.keras.layers import Embedding, GlobalAveragePooling1D, Dense\n",
        "from sklearn.model_selection import RandomizedSearchCV\n",
        "from scipy.stats import uniform, randint\n",
        "\n",
        "# Define a function to create the model\n",
        "def create_model(learning_rate=0.001, units=64):\n",
        "    model = Sequential()\n",
        "    model.add(Embedding(input_dim=10000, output_dim=16))\n",
        "    model.add(GlobalAveragePooling1D())\n",
        "    model.add(Dense(units=units, activation='relu'))\n",
        "    model.add(Dense(units=1, activation='sigmoid'))\n",
        "\n",
        "    optimizer = keras.optimizers.Adam(learning_rate=learning_rate)\n",
        "    model.compile(optimizer=optimizer, loss='binary_crossentropy', metrics=['accuracy'])\n",
        "    return model\n",
        "\n",
        "# Create a KerasClassifier wrapper for the model\n",
        "from keras.wrappers.scikit_learn import KerasClassifier\n",
        "model = KerasClassifier(build_fn=create_model, verbose=0)\n",
        "\n",
        "# Define the hyperparameter grid\n",
        "param_dist = {\n",
        "    'learning_rate': uniform(0.0001, 0.01),  # Search range for learning rate\n",
        "    'units': randint(32, 128),  # Search range for the number of units\n",
        "    'epochs': [4,8,12,16],  # You can also tune other hyperparameters like epochs here\n",
        "    'batch_size': [8,16,32,64]  # You can tune batch size as well\n",
        "}\n",
        "\n",
        "# Create a RandomizedSearchCV object\n",
        "random_search = RandomizedSearchCV(\n",
        "    estimator=model,\n",
        "    param_distributions=param_dist,\n",
        "    n_iter=10,  # Number of random combinations to try\n",
        "    cv=3,  # Cross-validation folds\n",
        "    scoring='accuracy',  # Scoring metric\n",
        "    verbose=1,\n",
        "    n_jobs=-1  # Use all available CPU cores\n",
        ")\n",
        "\n",
        "# Perform the random search on your data\n",
        "random_search.fit(bow2_train, y_train_float)\n",
        "\n",
        "# Print the best hyperparameters and corresponding accuracy\n",
        "print(\"Best Hyperparameters:\", random_search.best_params_)\n",
        "print(\"Best Accuracy:\", random_search.best_score_)\"\"\""
      ]
    },
    {
      "cell_type": "code",
      "execution_count": null,
      "metadata": {
        "id": "Q6Ru6BOPv51j"
      },
      "outputs": [],
      "source": [
        "#Feedforward neural network\n",
        "import tensorflow as tf\n",
        "from tensorflow import keras\n",
        "from tensorflow.keras.models import Sequential\n",
        "model = keras.Sequential()\n",
        "model.add (keras.layers.Embedding(10000, 16))\n",
        "model.add(keras.layers.GlobalAveragePooling1D())\n",
        "model.add(keras.layers.Dense(64, activation = 'relu'))\n",
        "model.add(keras.layers.Dense(1, activation = 'sigmoid'))\n",
        "\n",
        "optimizer = keras.optimizers.Adam(learning_rate=0.001)\n",
        "\n",
        "\n",
        "model.compile(optimizer='adam', loss='binary_crossentropy', metrics=['accuracy'])\n",
        "model.fit(bow2_train, y_train_float, epochs=10 )\n",
        "# Make predictions using the trained classifier\n",
        "predictions2_prob = model.predict(bow2_test)\n",
        "predictions2 = (predictions2_prob > 0.5).astype(int).flatten()\n",
        "score = accuracy_score(y_test_float, predictions2)\n",
        "print('NN Model Accuracy: {:.2%}'.format(score))\n",
        "\n",
        "# Calculate F1 score\n",
        "f1_scores = f1_score(y_test_float, predictions2, average='macro')\n",
        "print('F1 Scores:', f1_scores)\n",
        "print('Precision score: ', precision_score(y_test_float, predictions2, average='macro'))\n",
        "print('Recall Score: ', recall_score(y_test_float, predictions2, average='macro'))\n",
        "auc = roc_auc_score(y_test_float, predictions2)\n",
        "\n",
        "# Print the AUC\n",
        "print('AUC:', auc)"
      ]
    },
    {
      "cell_type": "code",
      "execution_count": null,
      "metadata": {
        "id": "eiAljQlPWIBf"
      },
      "outputs": [],
      "source": [
        "import matplotlib.pyplot as plt\n",
        "from sklearn.metrics import roc_curve, roc_auc_score\n",
        "\n",
        "# Assuming you have your true labels and predicted probabilities\n",
        "# true_labels = y_test  # True labels (0 or 1)\n",
        "# predicted_probs = model.predict_proba(X_test)[:, 1]  # Predicted probabilities for class 1\n",
        "\n",
        "fpr, tpr, thresholds = roc_curve(y_test_float, predictions2)\n",
        "roc_auc = roc_auc_score(y_test_float, predictions2)\n",
        "\n",
        "plt.figure(figsize=(8, 6))\n",
        "plt.plot(fpr, tpr, color='darkorange', lw=2, label=f'ROC curve (AUC = {roc_auc:.2f})')\n",
        "plt.plot([0, 1], [0, 1], color='navy', lw=2, linestyle='--')\n",
        "plt.xlim([0.0, 1.0])\n",
        "plt.ylim([0.0, 1.05])\n",
        "plt.xlabel('False Positive Rate')\n",
        "plt.ylabel('True Positive Rate')\n",
        "plt.title('Receiver Operating Characteristic (ROC) Curve')\n",
        "plt.legend(loc='lower right')\n",
        "plt.show()"
      ]
    },
    {
      "cell_type": "code",
      "execution_count": null,
      "metadata": {
        "id": "mnRKrGHb0iD5"
      },
      "outputs": [],
      "source": [
        "import matplotlib.pyplot as plt\n",
        "from sklearn.metrics import roc_curve, roc_auc_score\n",
        "\n",
        "# Assuming you have your true labels and predicted probabilities\n",
        "# true_labels = y_test  # True labels (0 or 1)\n",
        "# predicted_probs = model.predict_proba(X_test)[:, 1]  # Predicted probabilities for class 1\n",
        "\n",
        "fpr, tpr, thresholds = roc_curve(y_test_float, predictions2)\n",
        "roc_auc = roc_auc_score(y_test_float, predictions2)\n",
        "\n",
        "plt.figure(figsize=(8, 6))\n",
        "plt.plot(fpr, tpr, color='darkorange', lw=2, label=f'ROC curve (AUC = {roc_auc:.2f})')\n",
        "plt.plot([0, 1], [0, 1], color='navy', lw=2, linestyle='--')\n",
        "plt.xlim([0.0, 1.0])\n",
        "plt.ylim([0.0, 1.05])\n",
        "plt.xlabel('False Positive Rate')\n",
        "plt.ylabel('True Positive Rate')\n",
        "plt.title('Receiver Operating Characteristic (ROC) Curve')\n",
        "plt.legend(loc='lower right')\n",
        "plt.show()\n"
      ]
    },
    {
      "cell_type": "code",
      "execution_count": null,
      "metadata": {
        "id": "CjZcwleByL-W"
      },
      "outputs": [],
      "source": [
        "#print('Accuracy: {:.2%}'.format(score))\n",
        "\n",
        "#print(f1_score(y_test, stacking_predictions, average=None))"
      ]
    },
    {
      "cell_type": "markdown",
      "metadata": {
        "id": "vlcs6ZwB9nQw"
      },
      "source": [
        "#Logistic Regression"
      ]
    },
    {
      "cell_type": "code",
      "execution_count": null,
      "metadata": {
        "id": "phbCAfkdf5e1"
      },
      "outputs": [],
      "source": [
        "#unfiltered\n",
        "from sklearn.linear_model import LogisticRegression\n",
        "from sklearn.metrics import accuracy_score\n",
        "from sklearn.metrics import f1_score\n",
        "\n",
        "logistic_model = LogisticRegression()\n",
        "logistic_model.fit(bow2_train, y_train)\n",
        "predictions = logistic_model.predict(bow2_test)\n",
        "score = accuracy_score(y_test, predictions)\n",
        "print('Logistic Regression Model Accuracy: {:.2%}'.format(score))\n",
        "\n",
        "print(f1_score(y_test, predictions, average='macro'))\n",
        "print('Precision score: ', precision_score(y_test, predictions, average='macro'))\n",
        "print('Recall Score: ', recall_score(y_test, predictions, average='macro'))\n",
        "\n",
        "# Print the AUC\n"
      ]
    },
    {
      "cell_type": "code",
      "execution_count": null,
      "metadata": {
        "id": "AjVIIW6h9198"
      },
      "outputs": [],
      "source": [
        "import matplotlib.pyplot as plt\n",
        "from sklearn.metrics import roc_curve, roc_auc_score\n",
        "\n",
        "# Assuming you have your true labels and predicted probabilities\n",
        "# true_labels = y_test  # True labels (0 or 1)\n",
        "#predicted_probs = model.predict_proba(X_test)[:, 1]  # Predicted probabilities for class 1\n",
        "y_test_binary = np.where(y_test == 'gender', 1, 0)\n",
        "predictions_binary=np.where(predictions == 'gender', 1, 0)\n",
        "\n",
        "\n",
        "fpr, tpr, thresholds = roc_curve(y_test_binary,predictions_binary)\n",
        "roc_auc = roc_auc_score(y_test_binary, predictions_binary)\n",
        "print (roc_auc)\n",
        "\n",
        "plt.figure(figsize=(8, 6))\n",
        "plt.plot(fpr, tpr, color='darkorange', lw=2, label=f'ROC curve (AUC = {roc_auc:.2f})')\n",
        "plt.plot([0, 1], [0, 1], color='navy', lw=2, linestyle='--')\n",
        "plt.xlim([0.0, 1.0])\n",
        "plt.ylim([0.0, 1.05])\n",
        "plt.xlabel('False Positive Rate')\n",
        "plt.ylabel('True Positive Rate')\n",
        "plt.title('Receiver Operating Characteristic (ROC) Curve')\n",
        "plt.legend(loc='lower right')\n",
        "plt.show()\n"
      ]
    },
    {
      "cell_type": "markdown",
      "metadata": {
        "id": "deIYnz---AS9"
      },
      "source": [
        "# SVM"
      ]
    },
    {
      "cell_type": "code",
      "execution_count": null,
      "metadata": {
        "id": "pA4ROq85gYUi"
      },
      "outputs": [],
      "source": [
        "#unfiltered\n",
        "\n",
        "from sklearn import svm\n",
        "from sklearn.metrics import mean_absolute_error\n",
        "\n",
        "clf = svm.SVC()\n",
        "clf.fit(bow2_train,y_train)\n",
        "\n",
        "# STEP 3: Prediction\n",
        "predictions2=clf.predict(bow2_test)\n",
        "# STEP 4: Evaluation\n",
        "score = accuracy_score(y_test, predictions2)\n",
        "print('SVC Model Accuracy: {:.2%}'.format(score))\n",
        "\n",
        "print(f1_score(y_test, predictions2, average='macro'))\n",
        "print('Precision score: ', precision_score(y_test, predictions2, average='macro'))\n",
        "print('Recall Score: ', recall_score(y_test, predictions2, average='macro'))"
      ]
    },
    {
      "cell_type": "code",
      "execution_count": null,
      "metadata": {
        "id": "GisUCLURku0q"
      },
      "outputs": [],
      "source": [
        "import matplotlib.pyplot as plt\n",
        "from sklearn.metrics import roc_curve, roc_auc_score\n",
        "\n",
        "# Assuming you have your true labels and predicted probabilities\n",
        "# true_labels = y_test  # True labels (0 or 1)\n",
        "#predicted_probs = model.predict_proba(X_test)[:, 1]  # Predicted probabilities for class 1\n",
        "y_test_binary = np.where(y_test == 'gender', 1, 0)\n",
        "predictions_binary=np.where(predictions2 == 'gender', 1, 0)\n",
        "\n",
        "\n",
        "fpr, tpr, thresholds = roc_curve(y_test_binary,predictions_binary)\n",
        "roc_auc = roc_auc_score(y_test_binary, predictions_binary)\n",
        "print(\"AUC\", roc_auc)\n",
        "\n",
        "plt.figure(figsize=(8, 6))\n",
        "plt.plot(fpr, tpr, color='darkorange', lw=2, label=f'ROC curve (AUC = {roc_auc:.2f})')\n",
        "plt.plot([0, 1], [0, 1], color='navy', lw=2, linestyle='--')\n",
        "plt.xlim([0.0, 1.0])\n",
        "plt.ylim([0.0, 1.05])\n",
        "plt.xlabel('False Positive Rate')\n",
        "plt.ylabel('True Positive Rate')\n",
        "plt.title('Receiver Operating Characteristic (ROC) Curve')\n",
        "plt.legend(loc='lower right')\n",
        "plt.show()"
      ]
    },
    {
      "cell_type": "markdown",
      "source": [
        "# Multinomial Naive Bayes\n",
        "\n"
      ],
      "metadata": {
        "id": "Qwj_Mdpvahh6"
      }
    },
    {
      "cell_type": "code",
      "execution_count": null,
      "metadata": {
        "id": "1vMCzRZCU1ew"
      },
      "outputs": [],
      "source": [
        "from sklearn.model_selection import GridSearchCV\n",
        "from sklearn.naive_bayes import MultinomialNB\n",
        "\n",
        "# Define a range of alpha values to search\n",
        "alpha_range = [0.01, 0.1, 1.0, 10.0]\n",
        "\n",
        "# Create a parameter grid\n",
        "param_grid = {'alpha': alpha_range}\n",
        "\n",
        "# Initialize the Multinomial Naive Bayes classifier\n",
        "clf = MultinomialNB()\n",
        "\n",
        "# Perform grid search with cross-validation\n",
        "grid_search = GridSearchCV(clf, param_grid, cv=5, scoring='accuracy')\n",
        "grid_search.fit(bow2_train, y_train)\n",
        "\n",
        "# Get the best alpha value\n",
        "best_alpha = grid_search.best_params_['alpha']\n"
      ]
    },
    {
      "cell_type": "code",
      "execution_count": null,
      "metadata": {
        "id": "U5RtVP1QUJ2V"
      },
      "outputs": [],
      "source": [
        "from sklearn.naive_bayes import MultinomialNB\n",
        "from sklearn.metrics import accuracy_score, f1_score, precision_score, recall_score\n",
        "\n",
        "# STEP 1: Create and train the Naive Bayes classifier\n",
        "clf = MultinomialNB(alpha=best_alpha)\n",
        "clf.fit(bow2_train, y_train)\n",
        "\n",
        "# STEP 2: Prediction\n",
        "predictions2 = clf.predict(bow2_test)\n",
        "\n",
        "# STEP 3: Evaluation\n",
        "accuracy = accuracy_score(y_test, predictions2)\n",
        "f1 = f1_score(y_test, predictions2, average='macro')\n",
        "precision = precision_score(y_test, predictions2, average='macro')\n",
        "recall = recall_score(y_test, predictions2, average='macro')\n",
        "\n",
        "print('Multinomial Naive Bayes Model Accuracy: {:.2%}'.format(accuracy))\n",
        "print('F1 Score:', f1)\n",
        "print('Precision Score:', precision)\n",
        "print('Recall Score:', recall)\n"
      ]
    },
    {
      "cell_type": "code",
      "source": [
        "y_test_binary = np.where(y_test == 'gender', 1, 0)\n",
        "predictions_binary=np.where(predictions2 == 'gender', 1, 0)\n",
        "\n",
        "\n",
        "fpr, tpr, thresholds = roc_curve(y_test_binary,predictions_binary)\n",
        "roc_auc = roc_auc_score(y_test_binary, predictions_binary)\n",
        "print(\"AUC\", roc_auc)"
      ],
      "metadata": {
        "id": "saD0Mrx0riXv"
      },
      "execution_count": null,
      "outputs": []
    },
    {
      "cell_type": "markdown",
      "metadata": {
        "id": "LS-pCFMmMgIM"
      },
      "source": [
        "\n",
        "\n",
        "```\n",
        "`# This is formatted as code`\n",
        "```\n",
        "\n",
        "# KNN"
      ]
    },
    {
      "cell_type": "code",
      "execution_count": null,
      "metadata": {
        "id": "OtU113f2l9Mh"
      },
      "outputs": [],
      "source": [
        "#unfilterered\n",
        "from sklearn.neighbors import KNeighborsClassifier\n",
        "from sklearn.metrics import mean_squared_error\n",
        "from sklearn.metrics import mean_absolute_error\n",
        "from sklearn.metrics import r2_score\n",
        "from sklearn.metrics import precision_score\n",
        "from sklearn.metrics import recall_score\n",
        "\n",
        "# Initialize and train the KNN classifier\n",
        "k = 1  # Number of neighbors\n",
        "clf = KNeighborsClassifier(n_neighbors=k)\n",
        "clf.fit(bow2_train, y_train)\n",
        "\n",
        "# Make predictions using the trained classifier\n",
        "predictions4 = clf.predict(bow2_test)\n",
        "# Evaluate accuracy\n",
        "score = accuracy_score(y_test, predictions4)\n",
        "print('KNN Model Accuracy: {:.2%}'.format(score))\n",
        "\n",
        "# Calculate F1 score\n",
        "f1_scores = f1_score(y_test, predictions4, average='macro')\n",
        "print('F1 Scores:', f1_scores)\n",
        "#print('Mean Absolute Error: ', mean_absolute_error(y_test_en, predictions4))\n",
        "#print('Mean Squared Error: ', mean_squared_error(y_test_en, predictions4))\n",
        "#print('Root Mean Squared Error: ', mean_squared_error(y_test_en, predictions4,squared=False))\n",
        "#print('r2 SCore: ', r2_score(y_test_en, predictions4))\n",
        "print('Precision score: ', precision_score(y_test, predictions4, average='macro'))\n",
        "print('Recall Score: ', recall_score(y_test, predictions4, average='macro'))\n"
      ]
    },
    {
      "cell_type": "code",
      "execution_count": null,
      "metadata": {
        "id": "m-lhKpJ_LjFs"
      },
      "outputs": [],
      "source": [
        "import matplotlib.pyplot as plt\n",
        "from sklearn.metrics import roc_curve, roc_auc_score\n",
        "\n",
        "# Assuming you have your true labels and predicted probabilities\n",
        "# true_labels = y_test  # True labels (0 or 1)\n",
        "#predicted_probs = model.predict_proba(X_test)[:, 1]  # Predicted probabilities for class 1\n",
        "y_test_binary = np.where(y_test == 'gender', 1, 0)\n",
        "predictions_binary=np.where(predictions4 == 'gender', 1, 0)\n",
        "\n",
        "\n",
        "fpr, tpr, thresholds = roc_curve(y_test_binary,predictions_binary)\n",
        "roc_auc = roc_auc_score(y_test_binary, predictions_binary)\n",
        "print (\"AUC\", roc_auc)\n",
        "\n",
        "plt.figure(figsize=(8, 6))\n",
        "plt.plot(fpr, tpr, color='darkorange', lw=2, label=f'ROC curve (AUC = {roc_auc:.2f})')\n",
        "plt.plot([0, 1], [0, 1], color='navy', lw=2, linestyle='--')\n",
        "plt.xlim([0.0, 1.0])\n",
        "plt.ylim([0.0, 1.05])\n",
        "plt.xlabel('False Positive Rate')\n",
        "plt.ylabel('True Positive Rate')\n",
        "plt.title('Receiver Operating Characteristic (ROC) Curve')\n",
        "plt.legend(loc='lower right')\n",
        "plt.show()"
      ]
    },
    {
      "cell_type": "code",
      "execution_count": null,
      "metadata": {
        "id": "Otk2QPX9flXf"
      },
      "outputs": [],
      "source": [
        "#print(f1_score(y_test_en, predictions4, average='macro'))\n",
        "#print('Precision score: ', precision_score(y_test_en, predictions4, average=None))\n",
        "#print('Recall Score: ', recall_score(y_test_en, predictions4, average=None))\n"
      ]
    },
    {
      "cell_type": "markdown",
      "metadata": {
        "id": "osbF4tF8Mygp"
      },
      "source": [
        "# Random Forest Classifier"
      ]
    },
    {
      "cell_type": "code",
      "execution_count": null,
      "metadata": {
        "id": "xPckS1pwotOS"
      },
      "outputs": [],
      "source": [
        "#unfiltered\n",
        "# Initialize and train the Random Forest classifier\n",
        "from sklearn.ensemble import RandomForestClassifier\n",
        "\n",
        "n_estimators = 250 # Number of trees in the forest\n",
        "clf = RandomForestClassifier(n_estimators=n_estimators, random_state=42)\n",
        "clf.fit(bow2_train, y_train)\n",
        "\n",
        "# Make predictions using the trained classifier\n",
        "predictions5 = clf.predict(bow2_test)\n",
        "\n",
        "# Evaluate accuracy\n",
        "score = accuracy_score(y_test, predictions5)\n",
        "print('Random Forest Model Accuracy: {:.2%}'.format(score))\n",
        "\n",
        "# Calculate F1 score\n",
        "f1_scores = f1_score(y_test, predictions5, average='macro')\n",
        "print('F1 Scores:', f1_scores)\n",
        "print('Precision score: ', precision_score(y_test, predictions5, average='macro'))\n",
        "print('Recall Score: ', recall_score(y_test, predictions5, average= 'macro'))\n",
        "auc = roc_auc_score(y_test_float, predictions5)\n",
        "\n",
        "# Print the AUC\n",
        "print('AUC:', auc)"
      ]
    },
    {
      "cell_type": "code",
      "execution_count": null,
      "metadata": {
        "id": "ZbuHUFxrRpip"
      },
      "outputs": [],
      "source": [
        "import matplotlib.pyplot as plt\n",
        "from sklearn.metrics import roc_curve, roc_auc_score\n",
        "\n",
        "# Assuming you have your true labels and predicted probabilities\n",
        "# true_labels = y_test  # True labels (0 or 1)\n",
        "#predicted_probs = model.predict_proba(X_test)[:, 1]  # Predicted probabilities for class 1\n",
        "y_test_binary = np.where(y_test == 'gender', 1, 0)\n",
        "predictions_binary=np.where(predictions5 == 'gender', 1, 0)\n",
        "\n",
        "\n",
        "fpr, tpr, thresholds = roc_curve(y_test_binary,predictions_binary)\n",
        "roc_auc = roc_auc_score(y_test_binary, predictions_binary)\n",
        "\n",
        "plt.figure(figsize=(8, 6))\n",
        "plt.plot(fpr, tpr, color='darkorange', lw=2, label=f'ROC curve (AUC = {roc_auc:.2f})')\n",
        "plt.plot([0, 1], [0, 1], color='navy', lw=2, linestyle='--')\n",
        "plt.xlim([0.0, 1.0])\n",
        "plt.ylim([0.0, 1.05])\n",
        "plt.xlabel('False Positive Rate')\n",
        "plt.ylabel('True Positive Rate')\n",
        "plt.title('Receiver Operating Characteristic (ROC) Curve')\n",
        "plt.legend(loc='lower right')\n",
        "plt.show()"
      ]
    },
    {
      "cell_type": "markdown",
      "metadata": {
        "id": "xD849EpfTyvT"
      },
      "source": [
        "# Gaussian Naive Bayes"
      ]
    },
    {
      "cell_type": "code",
      "execution_count": null,
      "metadata": {
        "id": "CF_zSKOMp7tx"
      },
      "outputs": [],
      "source": [
        "#unfiltered\n",
        "from sklearn.naive_bayes import GaussianNB\n",
        "#Create a Gaussian Classifier\n",
        "model = GaussianNB()\n",
        "# Train the model using the training sets\n",
        "model.fit(bow2_train,y_train)\n",
        "#Predict Output\n",
        "predictions3= model.predict(bow2_test) # 0:Overcast, 2:Mild\n",
        "\n",
        "score = accuracy_score(y_test, predictions3)\n",
        "print('Naive Bayes Model Accuracy: {:.2%}'.format(score))\n",
        "print(f1_score(y_test, predictions3, average='macro'))"
      ]
    },
    {
      "cell_type": "code",
      "execution_count": null,
      "metadata": {
        "id": "PmJ-mu3cTqa4"
      },
      "outputs": [],
      "source": [
        "import matplotlib.pyplot as plt\n",
        "from sklearn.metrics import roc_curve, roc_auc_score\n",
        "\n",
        "# Assuming you have your true labels and predicted probabilities\n",
        "# true_labels = y_test  # True labels (0 or 1)\n",
        "#predicted_probs = model.predict_proba(X_test)[:, 1]  # Predicted probabilities for class 1\n",
        "y_test_binary = np.where(y_test == 'gender', 1, 0)\n",
        "predictions_binary=np.where(predictions3 == 'gender', 1, 0)\n",
        "\n",
        "\n",
        "fpr, tpr, thresholds = roc_curve(y_test_binary,predictions_binary)\n",
        "roc_auc = roc_auc_score(y_test_binary, predictions_binary)\n",
        "\n",
        "plt.figure(figsize=(8, 6))\n",
        "plt.plot(fpr, tpr, color='darkorange', lw=2, label=f'ROC curve (AUC = {roc_auc:.2f})')\n",
        "plt.plot([0, 1], [0, 1], color='navy', lw=2, linestyle='--')\n",
        "plt.xlim([0.0, 1.0])\n",
        "plt.ylim([0.0, 1.05])\n",
        "plt.xlabel('False Positive Rate')\n",
        "plt.ylabel('True Positive Rate')\n",
        "plt.title('Receiver Operating Characteristic (ROC) Curve')\n",
        "plt.legend(loc='lower right')\n",
        "plt.show()"
      ]
    },
    {
      "cell_type": "code",
      "execution_count": null,
      "metadata": {
        "id": "MoyYC471ObPd"
      },
      "outputs": [],
      "source": [
        "from sklearn.metrics import confusion_matrix\n",
        "confusion_matrix(y_test, predictions5)"
      ]
    },
    {
      "cell_type": "code",
      "execution_count": null,
      "metadata": {
        "id": "PE7MxYkSnv8a"
      },
      "outputs": [],
      "source": [
        "#unfiltered\n",
        "from sklearn.metrics import confusion_matrix\n",
        "confusion_matrix(y_test, predictions4)"
      ]
    },
    {
      "cell_type": "code",
      "execution_count": null,
      "metadata": {
        "id": "huB5HxrzpsiM"
      },
      "outputs": [],
      "source": [
        "import matplotlib.pyplot as plt\n",
        "from sklearn.datasets import make_classification\n",
        "from sklearn.metrics import confusion_matrix, ConfusionMatrixDisplay\n",
        "from sklearn.model_selection import train_test_split\n",
        "from sklearn.svm import SVC\n",
        "\n",
        "cm = confusion_matrix(y_test, predictions5, labels=clf.classes_)\n",
        "disp = ConfusionMatrixDisplay(confusion_matrix=cm,display_labels=clf.classes_)\n",
        "disp.plot()\n",
        "plt.show()"
      ]
    },
    {
      "cell_type": "code",
      "execution_count": null,
      "metadata": {
        "id": "jbf7WoLQpE06"
      },
      "outputs": [],
      "source": [
        "#y_new=np.random.choice(y, 1000, replace = True) do this for sorted tweets"
      ]
    },
    {
      "cell_type": "code",
      "execution_count": null,
      "metadata": {
        "id": "Z6hqFtZAqJtQ"
      },
      "outputs": [],
      "source": [
        "import numpy as np\n",
        "from sklearn import metrics\n",
        "y = np.array([1, 1, 2, 2])\n",
        "pred = np.array([0.1, 0.4, 0.35, 0.8])\n",
        "fpr, tpr, thresholds = metrics.roc_curve(y, pred, pos_label=2)\n",
        "metrics.auc(fpr, tpr)"
      ]
    },
    {
      "cell_type": "code",
      "execution_count": null,
      "metadata": {
        "id": "7yL3WS8sObf1"
      },
      "outputs": [],
      "source": [
        "################################################################################################################################################################################################"
      ]
    },
    {
      "cell_type": "markdown",
      "source": [
        "# Beginning of Future Research: coupling sentiment analysis with tweet classification\n",
        "\n",
        "Useful for targetted bullying intervention"
      ],
      "metadata": {
        "id": "pS46fxx0ayfL"
      }
    },
    {
      "cell_type": "code",
      "execution_count": null,
      "metadata": {
        "id": "CwBSghqZBIAr"
      },
      "outputs": [],
      "source": [
        "from textblob import TextBlob\n",
        "\n",
        "# Function to perform sentiment analysis on a tweet\n",
        "def analyze_sentiment(tweet_text):\n",
        "    analysis = TextBlob(tweet_text)\n",
        "    if analysis.sentiment.polarity > 0:\n",
        "        return 'Positive'\n",
        "    elif analysis.sentiment.polarity == 0:\n",
        "        return 'Neutral'\n",
        "    else:\n",
        "        return 'Negative'\n",
        "\n",
        "# Example array of tweet content\n",
        "tweet_content_array = [\n",
        "    \"I love working on Python projects!\",\n",
        "    \"Just finished coding a cool Python app.\",\n",
        "    \"Feeling frustrated with this Python bug.\",\n",
        "    \"Attended an amazing Python workshop today.\",\n",
        "    \"Python programming is so much fun!\"\n",
        "]\n",
        "\n",
        "# Analyze sentiment for each tweet in the array\n",
        "for tweet_text in X_train_en:\n",
        "    sentiment = analyze_sentiment(tweet_text)\n",
        "    print(f\"Tweet: {tweet_text}\")\n",
        "    print(f\"Sentiment: {sentiment}\")\n",
        "    print('-' * 50)\n"
      ]
    },
    {
      "cell_type": "code",
      "execution_count": null,
      "metadata": {
        "id": "qdmzp_mnCVlX"
      },
      "outputs": [],
      "source": [
        "pip install transformers\n"
      ]
    },
    {
      "cell_type": "code",
      "execution_count": null,
      "metadata": {
        "id": "zl1lOZuYDDs_"
      },
      "outputs": [],
      "source": []
    },
    {
      "cell_type": "code",
      "execution_count": null,
      "metadata": {
        "id": "Z9SAqy8nCYYc"
      },
      "outputs": [],
      "source": [
        "from transformers import pipeline\n",
        "\n",
        "# Create a sentiment analysis pipeline using a pre-trained model\n",
        "sentiment_analyzer = pipeline(\"sentiment-analysis\")\n",
        "\n",
        "# Example array of tweet content\n",
        "tweet_content_array = [\n",
        "    \"I love working on Python projects!\",\n",
        "    \"Just finished coding a cool Python app.\",\n",
        "    \"Feeling frustrated with this Python bug.\",\n",
        "    \"Attended an amazing Python workshop today.\",\n",
        "    \"Python programming is so much fun!\"\n",
        "]\n",
        "\n",
        "# Analyze sentiment for each tweet in the array\n",
        "for tweet_text in X_train_en:\n",
        "    result = sentiment_analyzer(tweet_text)\n",
        "    sentiment = result[0]['label']\n",
        "    score = result[0]['score']\n",
        "\n",
        "    print(f\"Tweet: {tweet_text}\")\n",
        "    print(f\"Sentiment: {sentiment} (Score: {score:.2f})\")\n",
        "    print('-' * 50)\n"
      ]
    },
    {
      "cell_type": "code",
      "execution_count": null,
      "metadata": {
        "id": "xCeVeGqpDEjO"
      },
      "outputs": [],
      "source": [
        "from transformers import pipeline\n",
        "\n",
        "# Create a sentiment analysis pipeline using a pre-trained model\n",
        "sentiment_analyzer = pipeline(\"sentiment-analysis\")\n",
        "\n",
        "# Example array of tweet content\n",
        "tweet_content_array = [\n",
        "    \"I love working on Python projects!\",\n",
        "    \"Just finished coding a cool Python app.\",\n",
        "    \"Feeling frustrated with this Python bug.\",\n",
        "    \"Attended an amazing Python workshop today.\",\n",
        "    \"Python programming is so much fun!\"\n",
        "]\n",
        "\n",
        "# Analyze sentiment for each tweet in the array\n",
        "for tweet_text in X_train_en:\n",
        "    result = sentiment_analyzer(tweet_text)\n",
        "    sentiment = result[0]['label']\n",
        "    score = result[0]['score']\n",
        "\n",
        "    print(f\"Tweet: {tweet_text}\")\n",
        "    print(f\"Sentiment: {sentiment} (Score: {score:.2f})\")\n",
        "    print('-' * 50)\n"
      ]
    },
    {
      "cell_type": "code",
      "execution_count": null,
      "metadata": {
        "id": "KsE47eoYDlp8"
      },
      "outputs": [],
      "source": [
        "import nltk\n",
        "from nltk.sentiment import SentimentIntensityAnalyzer\n",
        "\n",
        "# Download the VADER lexicon for sentiment analysis\n",
        "nltk.download('vader_lexicon')\n",
        "\n",
        "# Create a SentimentIntensityAnalyzer object\n",
        "sia = SentimentIntensityAnalyzer()\n",
        "\n",
        "# Example array of tweet content\n",
        "tweet_content_array = [\n",
        "    \"I love working on Python projects!\",\n",
        "    \"Just finished coding a cool Python app.\",\n",
        "    \"Feeling frustrated with this Python bug.\",\n",
        "    \"Attended an amazing Python workshop today.\",\n",
        "    \"Python programming is so much fun!\"\n",
        "]\n",
        "\n",
        "# Analyze emotions for each tweet in the array\n",
        "for tweet_text in X_train_en:\n",
        "    sentiment_scores = sia.polarity_scores(tweet_text)\n",
        "\n",
        "    emotion = None\n",
        "    max_score = max(sentiment_scores.values())\n",
        "\n",
        "    if sentiment_scores['pos'] == max_score:\n",
        "        emotion = 'Joy/Happiness'\n",
        "    elif sentiment_scores['neg'] == max_score:\n",
        "        emotion = 'Sadness'\n",
        "    elif sentiment_scores['neu'] == max_score:\n",
        "        emotion = 'Neutral'\n",
        "    elif sentiment_scores['compound'] == max_score:\n",
        "        emotion = 'Mixed/Complex'\n",
        "\n",
        "    print(f\"Tweet: {tweet_text}\")\n",
        "    print(f\"Emotion: {emotion}\")\n",
        "    print('-' * 50)\n"
      ]
    }
  ],
  "metadata": {
    "colab": {
      "provenance": [],
      "include_colab_link": true
    },
    "kernelspec": {
      "display_name": "Python 3",
      "name": "python3"
    },
    "language_info": {
      "name": "python"
    }
  },
  "nbformat": 4,
  "nbformat_minor": 0
}